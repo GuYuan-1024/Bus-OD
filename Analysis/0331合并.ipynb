{
 "cells": [
  {
   "cell_type": "code",
   "execution_count": 7,
   "id": "c5e65cf4",
   "metadata": {
    "ExecuteTime": {
     "end_time": "2025-04-02T01:39:41.462560Z",
     "start_time": "2025-04-02T01:39:41.454882Z"
    }
   },
   "outputs": [],
   "source": [
    "import pandas as pd\n",
    "import os\n",
    "from tqdm import tqdm"
   ]
  },
  {
   "cell_type": "code",
   "execution_count": 29,
   "id": "9e5406da",
   "metadata": {
    "ExecuteTime": {
     "end_time": "2025-04-02T01:44:55.550818Z",
     "start_time": "2025-04-02T01:44:55.542435Z"
    }
   },
   "outputs": [],
   "source": [
    "url = 'F:/备份/0226/0401/TC-data下车时间/'"
   ]
  },
  {
   "cell_type": "code",
   "execution_count": 30,
   "id": "d72a7020",
   "metadata": {
    "ExecuteTime": {
     "end_time": "2025-04-02T01:44:56.047785Z",
     "start_time": "2025-04-02T01:44:55.886608Z"
    }
   },
   "outputs": [],
   "source": [
    "file_names = os.listdir(url)"
   ]
  },
  {
   "cell_type": "code",
   "execution_count": 31,
   "id": "177628c5",
   "metadata": {
    "ExecuteTime": {
     "end_time": "2025-04-02T01:45:16.850881Z",
     "start_time": "2025-04-02T01:44:56.500946Z"
    }
   },
   "outputs": [
    {
     "name": "stderr",
     "output_type": "stream",
     "text": [
      "100%|██████████████████████████████████████████████████████████████████████████████████| 14/14 [00:20<00:00,  1.44s/it]\n"
     ]
    }
   ],
   "source": [
    "out = []\n",
    "for file_name in tqdm(file_names):\n",
    "    data = pd.read_csv(url + file_name,low_memory=False)\n",
    "    out.append(data)"
   ]
  },
  {
   "cell_type": "code",
   "execution_count": 32,
   "id": "f5184ba9",
   "metadata": {
    "ExecuteTime": {
     "end_time": "2025-04-02T01:45:18.021828Z",
     "start_time": "2025-04-02T01:45:16.852886Z"
    }
   },
   "outputs": [],
   "source": [
    "out = pd.concat(out,ignore_index=True)"
   ]
  },
  {
   "cell_type": "code",
   "execution_count": 33,
   "id": "c1273bc1",
   "metadata": {
    "ExecuteTime": {
     "end_time": "2025-04-02T01:46:05.319750Z",
     "start_time": "2025-04-02T01:45:18.022826Z"
    }
   },
   "outputs": [],
   "source": [
    "out.to_csv('0402TC-data下车时间五.csv',index=False)"
   ]
  },
  {
   "cell_type": "code",
   "execution_count": null,
   "id": "f81ba7f8",
   "metadata": {},
   "outputs": [],
   "source": []
  }
 ],
 "metadata": {
  "kernelspec": {
   "display_name": "Python 3 (ipykernel)",
   "language": "python",
   "name": "python3"
  },
  "language_info": {
   "codemirror_mode": {
    "name": "ipython",
    "version": 3
   },
   "file_extension": ".py",
   "mimetype": "text/x-python",
   "name": "python",
   "nbconvert_exporter": "python",
   "pygments_lexer": "ipython3",
   "version": "3.8.10"
  }
 },
 "nbformat": 4,
 "nbformat_minor": 5
}
