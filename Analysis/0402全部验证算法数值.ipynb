{
 "cells": [
  {
   "cell_type": "code",
   "execution_count": 1,
   "id": "1ccc5f53",
   "metadata": {
    "ExecuteTime": {
     "end_time": "2025-04-02T02:03:29.453575Z",
     "start_time": "2025-04-02T02:03:25.057548Z"
    }
   },
   "outputs": [],
   "source": [
    "import pandas as pd\n",
    "import numpy as np\n",
    "from matplotlib import pyplot as plt\n",
    "import seaborn as sns\n",
    "plt.rcParams['font.family'] = 'Times New Roman'"
   ]
  },
  {
   "cell_type": "code",
   "execution_count": 2,
   "id": "6bdd199f",
   "metadata": {
    "ExecuteTime": {
     "end_time": "2025-04-02T02:04:39.646394Z",
     "start_time": "2025-04-02T02:04:09.483032Z"
    }
   },
   "outputs": [],
   "source": [
    "data = pd.read_csv('0402TC-data下车时间五.csv',low_memory=False)\n",
    "data['enstation_time'] = pd.to_datetime(data['enstation_time'])\n",
    "data['exstation_time'] = pd.to_datetime(data['exstation_time'],format='mixed')\n",
    "data = data[~data['exstation_time'].isna()]\n",
    "data = data[data['enstation_time'] != data['exstation_time']]\n",
    "data['duration'] = ((data['exstation_time'] - data['enstation_time']).dt.seconds)"
   ]
  },
  {
   "cell_type": "code",
   "execution_count": 3,
   "id": "4d8f3d51",
   "metadata": {
    "ExecuteTime": {
     "end_time": "2025-04-02T02:04:39.771359Z",
     "start_time": "2025-04-02T02:04:39.648402Z"
    }
   },
   "outputs": [],
   "source": [
    "data['duration'] = ((data['exstation_time'] - data['enstation_time']).dt.seconds)/60"
   ]
  },
  {
   "cell_type": "code",
   "execution_count": 4,
   "id": "cbb25a6e",
   "metadata": {
    "ExecuteTime": {
     "end_time": "2025-04-02T02:04:39.786974Z",
     "start_time": "2025-04-02T02:04:39.773356Z"
    }
   },
   "outputs": [],
   "source": [
    "def UTC_Algorithms(df_TC,df_UTC):\n",
    "    #分别计算方差并做差\n",
    "    bins = [i for i in range(0,100,5)]\n",
    "    variance_RD = []\n",
    "    variance_PD = []\n",
    "    out = pd.DataFrame(columns=['variance_RD','variance_PD'])\n",
    "    for i in bins:\n",
    "        tem_2 = df_TC[df_TC['duration'].between(i,i+5,inclusive='left')].reset_index(drop=True)\n",
    "        variance_RD.append(np.var(tem_2['duration']))\n",
    "    for i in bins:\n",
    "        tem_2 = df_UTC[df_UTC['duration'].between(i,i+5,inclusive='left')].reset_index(drop=True)\n",
    "        variance_PD.append(np.var(tem_2['duration']))\n",
    "    out['variance_RD'] = variance_RD\n",
    "    out['variance_PD'] = variance_PD\n",
    "    return np.sum(np.absolute(out['variance_PD'] - out['variance_RD'])) / len(out['variance_PD'])"
   ]
  },
  {
   "cell_type": "markdown",
   "id": "b582d144",
   "metadata": {},
   "source": [
    "# CatBoost"
   ]
  },
  {
   "cell_type": "code",
   "execution_count": 7,
   "id": "da783d8f",
   "metadata": {
    "ExecuteTime": {
     "end_time": "2025-04-02T02:06:10.016429Z",
     "start_time": "2025-04-02T02:05:44.031681Z"
    }
   },
   "outputs": [],
   "source": [
    "df_RD = data.copy()\n",
    "df_PD = pd.read_csv('0402CatBoost下车时间五.csv',low_memory=False,usecols=['enstation_time','exstation_time'])\n",
    "df_PD['enstation_time'] = pd.to_datetime(df_PD['enstation_time'])\n",
    "df_PD['exstation_time'] = pd.to_datetime(df_PD['exstation_time'],format='mixed')\n",
    "df_PD = df_PD[~df_PD['exstation_time'].isna()]\n",
    "df_PD = df_PD[df_PD['enstation_time'] != df_PD['exstation_time']]\n",
    "df_PD['duration'] = ((df_PD['exstation_time'] - df_PD['enstation_time']).dt.seconds) / 60"
   ]
  },
  {
   "cell_type": "code",
   "execution_count": 8,
   "id": "03810879",
   "metadata": {
    "ExecuteTime": {
     "end_time": "2025-04-02T02:06:12.909959Z",
     "start_time": "2025-04-02T02:06:10.017427Z"
    }
   },
   "outputs": [
    {
     "data": {
      "text/plain": [
       "0.0070005022746366195"
      ]
     },
     "execution_count": 8,
     "metadata": {},
     "output_type": "execute_result"
    }
   ],
   "source": [
    "UTC_Algorithms(data,df_PD)"
   ]
  },
  {
   "cell_type": "markdown",
   "id": "55203a41",
   "metadata": {},
   "source": [
    "# XGBoost"
   ]
  },
  {
   "cell_type": "code",
   "execution_count": 9,
   "id": "f97f25ee",
   "metadata": {
    "ExecuteTime": {
     "end_time": "2025-04-02T02:07:17.090139Z",
     "start_time": "2025-04-02T02:06:43.959183Z"
    }
   },
   "outputs": [],
   "source": [
    "df_PD = pd.read_csv('0402XG下车时间五.csv',low_memory=False)\n",
    "df_PD['enstation_time'] = pd.to_datetime(df_PD['enstation_time'])\n",
    "df_PD['exstation_time'] = pd.to_datetime(df_PD['exstation_time'],format='mixed')\n",
    "df_PD = df_PD[~df_PD['exstation_time'].isna()]\n",
    "df_PD = df_PD[df_PD['enstation_time'] != df_PD['exstation_time']]\n",
    "df_PD['duration'] = ((df_PD['exstation_time'] - df_PD['enstation_time']).dt.seconds) / 60"
   ]
  },
  {
   "cell_type": "code",
   "execution_count": 10,
   "id": "b9b9aa11",
   "metadata": {
    "ExecuteTime": {
     "end_time": "2025-04-02T02:07:21.683984Z",
     "start_time": "2025-04-02T02:07:17.092138Z"
    }
   },
   "outputs": [
    {
     "data": {
      "text/plain": [
       "0.010503181500468112"
      ]
     },
     "execution_count": 10,
     "metadata": {},
     "output_type": "execute_result"
    }
   ],
   "source": [
    "UTC_Algorithms(data,df_PD)"
   ]
  },
  {
   "cell_type": "markdown",
   "id": "7e6d8e64",
   "metadata": {},
   "source": [
    "# RF"
   ]
  },
  {
   "cell_type": "code",
   "execution_count": 11,
   "id": "bacbca16",
   "metadata": {
    "ExecuteTime": {
     "end_time": "2025-04-02T02:08:14.779772Z",
     "start_time": "2025-04-02T02:07:42.184490Z"
    }
   },
   "outputs": [],
   "source": [
    "df_PD = pd.read_csv('0402RF下车时间五.csv',low_memory=False)\n",
    "df_PD['enstation_time'] = pd.to_datetime(df_PD['enstation_time'])\n",
    "df_PD['exstation_time'] = pd.to_datetime(df_PD['exstation_time'],format='mixed')\n",
    "df_PD = df_PD[~df_PD['exstation_time'].isna()]\n",
    "df_PD = df_PD[df_PD['enstation_time'] != df_PD['exstation_time']]\n",
    "df_PD['duration'] = ((df_PD['exstation_time'] - df_PD['enstation_time']).dt.seconds) / 60"
   ]
  },
  {
   "cell_type": "code",
   "execution_count": 12,
   "id": "a1b644d9",
   "metadata": {
    "ExecuteTime": {
     "end_time": "2025-04-02T02:08:20.271322Z",
     "start_time": "2025-04-02T02:08:14.781917Z"
    }
   },
   "outputs": [
    {
     "data": {
      "text/plain": [
       "0.008437322236842576"
      ]
     },
     "execution_count": 12,
     "metadata": {},
     "output_type": "execute_result"
    }
   ],
   "source": [
    "UTC_Algorithms(data,df_PD)"
   ]
  },
  {
   "cell_type": "markdown",
   "id": "a1271831",
   "metadata": {},
   "source": [
    "# SVM"
   ]
  },
  {
   "cell_type": "code",
   "execution_count": 16,
   "id": "9fb7002a",
   "metadata": {
    "ExecuteTime": {
     "end_time": "2025-03-17T03:02:03.767142Z",
     "start_time": "2025-03-17T03:01:41.143064Z"
    }
   },
   "outputs": [],
   "source": [
    "df_PD = pd.read_csv('D:/Code/YYH/1014小论文/0314补充实验/0227SVM下车时间.csv',low_memory=False)\n",
    "df_PD['enstation_time'] = pd.to_datetime(df_PD['enstation_time'])\n",
    "df_PD['exstation_time'] = pd.to_datetime(df_PD['exstation_time'],format='mixed')\n",
    "df_PD['duration'] = ((df_PD['exstation_time'] - df_PD['enstation_time']).dt.seconds) / 60"
   ]
  },
  {
   "cell_type": "code",
   "execution_count": 17,
   "id": "0ed57382",
   "metadata": {
    "ExecuteTime": {
     "end_time": "2025-03-17T03:02:08.651495Z",
     "start_time": "2025-03-17T03:02:03.768144Z"
    }
   },
   "outputs": [
    {
     "data": {
      "text/plain": [
       "0.012077176761757102"
      ]
     },
     "execution_count": 17,
     "metadata": {},
     "output_type": "execute_result"
    }
   ],
   "source": [
    "UTC_Algorithms(data,df_PD)"
   ]
  },
  {
   "cell_type": "code",
   "execution_count": null,
   "id": "c5d55bc9",
   "metadata": {},
   "outputs": [],
   "source": []
  }
 ],
 "metadata": {
  "kernelspec": {
   "display_name": "Python 3 (ipykernel)",
   "language": "python",
   "name": "python3"
  },
  "language_info": {
   "codemirror_mode": {
    "name": "ipython",
    "version": 3
   },
   "file_extension": ".py",
   "mimetype": "text/x-python",
   "name": "python",
   "nbconvert_exporter": "python",
   "pygments_lexer": "ipython3",
   "version": "3.8.10"
  }
 },
 "nbformat": 4,
 "nbformat_minor": 5
}
