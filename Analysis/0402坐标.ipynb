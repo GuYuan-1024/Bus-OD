{
 "cells": [
  {
   "cell_type": "code",
   "execution_count": 11,
   "id": "130c4c36",
   "metadata": {
    "ExecuteTime": {
     "end_time": "2025-04-02T05:33:58.270305Z",
     "start_time": "2025-04-02T05:33:58.257581Z"
    }
   },
   "outputs": [],
   "source": [
    "import pandas as pd\n",
    "import numpy as np"
   ]
  },
  {
   "cell_type": "code",
   "execution_count": 2,
   "id": "e5d1f2f2",
   "metadata": {
    "ExecuteTime": {
     "end_time": "2025-04-02T05:08:58.268213Z",
     "start_time": "2025-04-02T05:08:58.254771Z"
    }
   },
   "outputs": [],
   "source": [
    "def Redirection_1(Dataframe,col_1,col_2):\n",
    "    redirection = {}\n",
    "    df = Dataframe[[col_1,col_2]]\n",
    "    for i in (range(len(Dataframe))):\n",
    "        redirection[Dataframe[col_1].iloc[i]] = Dataframe[col_2].iloc[i]\n",
    "    return redirection"
   ]
  },
  {
   "cell_type": "code",
   "execution_count": 3,
   "id": "a6e2cbd0",
   "metadata": {
    "ExecuteTime": {
     "end_time": "2025-04-02T05:08:58.765453Z",
     "start_time": "2025-04-02T05:08:58.590607Z"
    }
   },
   "outputs": [],
   "source": [
    "df_busstation = pd.read_csv('D:/Code/YYH/test/chengdu_busstation_gaodev2.csv',low_memory=False)\n",
    "df_busstation = df_busstation.drop_duplicates(subset=['stop_name','gcj02_lat','gcj02_lng']).reset_index(drop=True)"
   ]
  },
  {
   "cell_type": "code",
   "execution_count": 4,
   "id": "bfb5af7c",
   "metadata": {
    "ExecuteTime": {
     "end_time": "2025-04-02T05:08:59.372943Z",
     "start_time": "2025-04-02T05:08:58.886906Z"
    }
   },
   "outputs": [],
   "source": [
    "lat = Redirection_1(df_busstation,'stop_name','gcj02_lat')\n",
    "lon = Redirection_1(df_busstation,'stop_name','gcj02_lng')"
   ]
  },
  {
   "cell_type": "code",
   "execution_count": 5,
   "id": "85f96738",
   "metadata": {
    "ExecuteTime": {
     "end_time": "2025-04-02T05:08:59.388426Z",
     "start_time": "2025-04-02T05:08:59.375944Z"
    }
   },
   "outputs": [],
   "source": [
    "def data_read(url):\n",
    "    data = pd.read_csv(url,low_memory=False)\n",
    "    data['enstation_time'] = pd.to_datetime(data['enstation_time'])\n",
    "    data['exstation_time'] = pd.to_datetime(data['exstation_time'],format='mixed')\n",
    "    data = data[~data['exstation_time'].isna()]\n",
    "    data = data[data['enstation_time'] != data['exstation_time']]\n",
    "    data['duration'] = ((data['exstation_time'] - data['enstation_time']).dt.seconds)\n",
    "    data['lon2'] = data['exstation_name'].map(lon)\n",
    "    data['lat2'] = data['exstation_name'].map(lat)\n",
    "    return data"
   ]
  },
  {
   "cell_type": "code",
   "execution_count": 6,
   "id": "662a4a90",
   "metadata": {
    "ExecuteTime": {
     "end_time": "2025-04-02T05:11:12.837530Z",
     "start_time": "2025-04-02T05:09:01.334233Z"
    }
   },
   "outputs": [],
   "source": [
    "TC_data = data_read('0402TC-data下车时间五.csv')\n",
    "UTC_data_CatBoost = data_read('0402CatBoost下车时间五.csv')\n",
    "UTC_data_XGBoost = data_read('0402XG下车时间五.csv')\n",
    "UTC_data_RF = data_read('0402RF下车时间五.csv')"
   ]
  },
  {
   "cell_type": "code",
   "execution_count": 18,
   "id": "ba1648e0",
   "metadata": {
    "ExecuteTime": {
     "end_time": "2025-04-02T05:34:57.352727Z",
     "start_time": "2025-04-02T05:34:57.032833Z"
    }
   },
   "outputs": [
    {
     "data": {
      "text/html": [
       "<div>\n",
       "<style scoped>\n",
       "    .dataframe tbody tr th:only-of-type {\n",
       "        vertical-align: middle;\n",
       "    }\n",
       "\n",
       "    .dataframe tbody tr th {\n",
       "        vertical-align: top;\n",
       "    }\n",
       "\n",
       "    .dataframe thead th {\n",
       "        text-align: right;\n",
       "    }\n",
       "</style>\n",
       "<table border=\"1\" class=\"dataframe\">\n",
       "  <thead>\n",
       "    <tr style=\"text-align: right;\">\n",
       "      <th></th>\n",
       "      <th>lon2</th>\n",
       "      <th>lat2</th>\n",
       "    </tr>\n",
       "  </thead>\n",
       "  <tbody>\n",
       "    <tr>\n",
       "      <th>6302180</th>\n",
       "      <td>104.117840</td>\n",
       "      <td>30.677534</td>\n",
       "    </tr>\n",
       "    <tr>\n",
       "      <th>2183007</th>\n",
       "      <td>104.061902</td>\n",
       "      <td>30.624668</td>\n",
       "    </tr>\n",
       "    <tr>\n",
       "      <th>5931976</th>\n",
       "      <td>104.094831</td>\n",
       "      <td>30.646916</td>\n",
       "    </tr>\n",
       "    <tr>\n",
       "      <th>2243189</th>\n",
       "      <td>104.093682</td>\n",
       "      <td>30.694976</td>\n",
       "    </tr>\n",
       "    <tr>\n",
       "      <th>347416</th>\n",
       "      <td>104.093591</td>\n",
       "      <td>30.633686</td>\n",
       "    </tr>\n",
       "    <tr>\n",
       "      <th>...</th>\n",
       "      <td>...</td>\n",
       "      <td>...</td>\n",
       "    </tr>\n",
       "    <tr>\n",
       "      <th>4871024</th>\n",
       "      <td>104.135607</td>\n",
       "      <td>30.673531</td>\n",
       "    </tr>\n",
       "    <tr>\n",
       "      <th>4480705</th>\n",
       "      <td>104.055484</td>\n",
       "      <td>30.658058</td>\n",
       "    </tr>\n",
       "    <tr>\n",
       "      <th>1073061</th>\n",
       "      <td>104.063602</td>\n",
       "      <td>30.604109</td>\n",
       "    </tr>\n",
       "    <tr>\n",
       "      <th>4526149</th>\n",
       "      <td>103.990687</td>\n",
       "      <td>30.706604</td>\n",
       "    </tr>\n",
       "    <tr>\n",
       "      <th>5135580</th>\n",
       "      <td>104.104669</td>\n",
       "      <td>30.622089</td>\n",
       "    </tr>\n",
       "  </tbody>\n",
       "</table>\n",
       "<p>1000000 rows × 2 columns</p>\n",
       "</div>"
      ],
      "text/plain": [
       "               lon2       lat2\n",
       "6302180  104.117840  30.677534\n",
       "2183007  104.061902  30.624668\n",
       "5931976  104.094831  30.646916\n",
       "2243189  104.093682  30.694976\n",
       "347416   104.093591  30.633686\n",
       "...             ...        ...\n",
       "4871024  104.135607  30.673531\n",
       "4480705  104.055484  30.658058\n",
       "1073061  104.063602  30.604109\n",
       "4526149  103.990687  30.706604\n",
       "5135580  104.104669  30.622089\n",
       "\n",
       "[1000000 rows x 2 columns]"
      ]
     },
     "execution_count": 18,
     "metadata": {},
     "output_type": "execute_result"
    }
   ],
   "source": [
    "TC_data[['lon2','lat2']].sample(1000000)"
   ]
  },
  {
   "cell_type": "code",
   "execution_count": 10,
   "id": "49a7aac1",
   "metadata": {
    "ExecuteTime": {
     "end_time": "2025-04-02T05:14:57.880883Z",
     "start_time": "2025-04-02T05:14:49.704088Z"
    }
   },
   "outputs": [],
   "source": [
    "TC_data[['lon2','lat2']].sample(1000000).to_csv('TC-data-100w.csv',index=False)\n",
    "UTC_data_CatBoost[['lon2','lat2']].sample(1000000).to_csv('UTC_data_CatBoost-100w.csv',index=False)\n",
    "UTC_data_XGBoost[['lon2','lat2']].sample(1000000).to_csv('UTC_data_XGBoost-100w.csv',index=False)\n",
    "UTC_data_RF[['lon2','lat2']].sample(1000000).to_csv('UTC_data_RF-100w.csv',index=False)"
   ]
  },
  {
   "cell_type": "code",
   "execution_count": null,
   "id": "09077d71",
   "metadata": {},
   "outputs": [],
   "source": []
  }
 ],
 "metadata": {
  "kernelspec": {
   "display_name": "Python 3 (ipykernel)",
   "language": "python",
   "name": "python3"
  },
  "language_info": {
   "codemirror_mode": {
    "name": "ipython",
    "version": 3
   },
   "file_extension": ".py",
   "mimetype": "text/x-python",
   "name": "python",
   "nbconvert_exporter": "python",
   "pygments_lexer": "ipython3",
   "version": "3.8.10"
  }
 },
 "nbformat": 4,
 "nbformat_minor": 5
}
