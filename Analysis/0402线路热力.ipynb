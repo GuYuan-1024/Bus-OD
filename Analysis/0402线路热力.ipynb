{
 "cells": [
  {
   "cell_type": "code",
   "execution_count": 1,
   "id": "713f2f9d",
   "metadata": {
    "ExecuteTime": {
     "end_time": "2025-04-02T05:29:52.768700Z",
     "start_time": "2025-04-02T05:29:52.087538Z"
    }
   },
   "outputs": [],
   "source": [
    "import folium\n",
    "from folium.plugins import HeatMap\n",
    "import pandas as pd"
   ]
  },
  {
   "cell_type": "code",
   "execution_count": 2,
   "id": "6d8b1d75",
   "metadata": {
    "ExecuteTime": {
     "end_time": "2025-04-02T05:37:40.492623Z",
     "start_time": "2025-04-02T05:37:40.488611Z"
    }
   },
   "outputs": [],
   "source": [
    "def Redirection_1(Dataframe,col_1,col_2):\n",
    "    redirection = {}\n",
    "    df = Dataframe[[col_1,col_2]]\n",
    "    for i in (range(len(Dataframe))):\n",
    "        redirection[Dataframe[col_1].iloc[i]] = Dataframe[col_2].iloc[i]\n",
    "    return redirection"
   ]
  },
  {
   "cell_type": "code",
   "execution_count": 3,
   "id": "aaaaf009",
   "metadata": {
    "ExecuteTime": {
     "end_time": "2025-04-02T05:37:46.417613Z",
     "start_time": "2025-04-02T05:37:46.208606Z"
    }
   },
   "outputs": [],
   "source": [
    "df_busstation = pd.read_csv('D:/Code/YYH/test/chengdu_busstation_gaodev2.csv',low_memory=False)\n",
    "df_busstation = df_busstation.drop_duplicates(subset=['stop_name','gcj02_lat','gcj02_lng']).reset_index(drop=True)"
   ]
  },
  {
   "cell_type": "code",
   "execution_count": 4,
   "id": "44adb4c7",
   "metadata": {
    "ExecuteTime": {
     "end_time": "2025-04-02T05:37:49.377812Z",
     "start_time": "2025-04-02T05:37:48.914611Z"
    }
   },
   "outputs": [],
   "source": [
    "lat = Redirection_1(df_busstation,'stop_name','gcj02_lat')\n",
    "lon = Redirection_1(df_busstation,'stop_name','gcj02_lng')"
   ]
  },
  {
   "cell_type": "code",
   "execution_count": 5,
   "id": "703c5f70",
   "metadata": {
    "ExecuteTime": {
     "end_time": "2025-04-02T05:37:52.721244Z",
     "start_time": "2025-04-02T05:37:52.711985Z"
    }
   },
   "outputs": [],
   "source": [
    "def data_read(url):\n",
    "    data = pd.read_csv(url,low_memory=False)\n",
    "    data['enstation_time'] = pd.to_datetime(data['enstation_time'])\n",
    "    data['exstation_time'] = pd.to_datetime(data['exstation_time'],format='mixed')\n",
    "    data = data[~data['exstation_time'].isna()]\n",
    "    data = data[data['enstation_time'] != data['exstation_time']]\n",
    "    data['duration'] = ((data['exstation_time'] - data['enstation_time']).dt.seconds)\n",
    "    data['lon2'] = data['exstation_name'].map(lon)\n",
    "    data['lat2'] = data['exstation_name'].map(lat)\n",
    "    return data"
   ]
  },
  {
   "cell_type": "code",
   "execution_count": 6,
   "id": "440bf83f",
   "metadata": {
    "ExecuteTime": {
     "end_time": "2025-04-02T05:40:11.920540Z",
     "start_time": "2025-04-02T05:37:56.007698Z"
    }
   },
   "outputs": [],
   "source": [
    "TC_data = data_read('0402TC-data下车时间五.csv')\n",
    "UTC_data_CatBoost = data_read('0402CatBoost下车时间五.csv')\n",
    "UTC_data_XGBoost = data_read('0402XG下车时间五.csv')\n",
    "UTC_data_RF = data_read('0402RF下车时间五.csv')"
   ]
  },
  {
   "cell_type": "code",
   "execution_count": null,
   "id": "f3b9dd92",
   "metadata": {},
   "outputs": [],
   "source": []
  }
 ],
 "metadata": {
  "kernelspec": {
   "display_name": "Python 3 (ipykernel)",
   "language": "python",
   "name": "python3"
  },
  "language_info": {
   "codemirror_mode": {
    "name": "ipython",
    "version": 3
   },
   "file_extension": ".py",
   "mimetype": "text/x-python",
   "name": "python",
   "nbconvert_exporter": "python",
   "pygments_lexer": "ipython3",
   "version": "3.8.10"
  }
 },
 "nbformat": 4,
 "nbformat_minor": 5
}
