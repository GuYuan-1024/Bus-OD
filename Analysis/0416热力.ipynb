{
 "cells": [
  {
   "cell_type": "code",
   "execution_count": 3,
   "id": "4f3555ac",
   "metadata": {
    "ExecuteTime": {
     "end_time": "2025-04-16T09:17:09.301266Z",
     "start_time": "2025-04-16T09:17:08.619304Z"
    }
   },
   "outputs": [],
   "source": [
    "import folium\n",
    "from folium.plugins import HeatMap\n",
    "import pandas as pd"
   ]
  },
  {
   "cell_type": "code",
   "execution_count": 4,
   "id": "f6657525",
   "metadata": {
    "ExecuteTime": {
     "end_time": "2025-04-16T09:17:09.549331Z",
     "start_time": "2025-04-16T09:17:09.303300Z"
    }
   },
   "outputs": [],
   "source": [
    "data = pd.read_csv('热力数据/TC-data-100w.csv',low_memory=False)"
   ]
  },
  {
   "cell_type": "code",
   "execution_count": 5,
   "id": "7308a9bc",
   "metadata": {
    "ExecuteTime": {
     "end_time": "2025-04-16T09:17:09.565365Z",
     "start_time": "2025-04-16T09:17:09.551334Z"
    },
    "scrolled": true
   },
   "outputs": [
    {
     "data": {
      "text/html": [
       "<div>\n",
       "<style scoped>\n",
       "    .dataframe tbody tr th:only-of-type {\n",
       "        vertical-align: middle;\n",
       "    }\n",
       "\n",
       "    .dataframe tbody tr th {\n",
       "        vertical-align: top;\n",
       "    }\n",
       "\n",
       "    .dataframe thead th {\n",
       "        text-align: right;\n",
       "    }\n",
       "</style>\n",
       "<table border=\"1\" class=\"dataframe\">\n",
       "  <thead>\n",
       "    <tr style=\"text-align: right;\">\n",
       "      <th></th>\n",
       "      <th>lon2</th>\n",
       "      <th>lat2</th>\n",
       "    </tr>\n",
       "  </thead>\n",
       "  <tbody>\n",
       "    <tr>\n",
       "      <th>0</th>\n",
       "      <td>104.081121</td>\n",
       "      <td>30.608843</td>\n",
       "    </tr>\n",
       "    <tr>\n",
       "      <th>1</th>\n",
       "      <td>104.064255</td>\n",
       "      <td>30.707650</td>\n",
       "    </tr>\n",
       "    <tr>\n",
       "      <th>2</th>\n",
       "      <td>104.104968</td>\n",
       "      <td>30.595099</td>\n",
       "    </tr>\n",
       "    <tr>\n",
       "      <th>3</th>\n",
       "      <td>104.041205</td>\n",
       "      <td>30.686396</td>\n",
       "    </tr>\n",
       "    <tr>\n",
       "      <th>4</th>\n",
       "      <td>104.104980</td>\n",
       "      <td>30.668850</td>\n",
       "    </tr>\n",
       "    <tr>\n",
       "      <th>...</th>\n",
       "      <td>...</td>\n",
       "      <td>...</td>\n",
       "    </tr>\n",
       "    <tr>\n",
       "      <th>999995</th>\n",
       "      <td>104.010515</td>\n",
       "      <td>30.664513</td>\n",
       "    </tr>\n",
       "    <tr>\n",
       "      <th>999996</th>\n",
       "      <td>104.064813</td>\n",
       "      <td>30.666809</td>\n",
       "    </tr>\n",
       "    <tr>\n",
       "      <th>999997</th>\n",
       "      <td>104.094492</td>\n",
       "      <td>30.689107</td>\n",
       "    </tr>\n",
       "    <tr>\n",
       "      <th>999998</th>\n",
       "      <td>104.068071</td>\n",
       "      <td>30.555619</td>\n",
       "    </tr>\n",
       "    <tr>\n",
       "      <th>999999</th>\n",
       "      <td>104.145054</td>\n",
       "      <td>30.610734</td>\n",
       "    </tr>\n",
       "  </tbody>\n",
       "</table>\n",
       "<p>1000000 rows × 2 columns</p>\n",
       "</div>"
      ],
      "text/plain": [
       "              lon2       lat2\n",
       "0       104.081121  30.608843\n",
       "1       104.064255  30.707650\n",
       "2       104.104968  30.595099\n",
       "3       104.041205  30.686396\n",
       "4       104.104980  30.668850\n",
       "...            ...        ...\n",
       "999995  104.010515  30.664513\n",
       "999996  104.064813  30.666809\n",
       "999997  104.094492  30.689107\n",
       "999998  104.068071  30.555619\n",
       "999999  104.145054  30.610734\n",
       "\n",
       "[1000000 rows x 2 columns]"
      ]
     },
     "execution_count": 5,
     "metadata": {},
     "output_type": "execute_result"
    }
   ],
   "source": [
    "data"
   ]
  },
  {
   "cell_type": "code",
   "execution_count": 6,
   "id": "5fd80d96",
   "metadata": {
    "ExecuteTime": {
     "end_time": "2025-04-16T09:17:10.400301Z",
     "start_time": "2025-04-16T09:17:10.235598Z"
    }
   },
   "outputs": [],
   "source": [
    "heat_data = list(zip(data['lat2'],data['lon2']))"
   ]
  },
  {
   "cell_type": "markdown",
   "id": "de67481d",
   "metadata": {},
   "source": [
    "# TC到达点局部天府三街"
   ]
  },
  {
   "cell_type": "code",
   "execution_count": 14,
   "id": "6e3aa8dc",
   "metadata": {
    "ExecuteTime": {
     "end_time": "2025-03-17T14:23:53.101233Z",
     "start_time": "2025-03-17T14:23:53.085437Z"
    }
   },
   "outputs": [],
   "source": [
    "m_1 = folium.Map(location=[30.537123,104.069526], \n",
    "               zoom_start=14,\n",
    "               tiles='https://webrd04.is.autonavi.com/appmaptile?lang=zh_cn&size=1&scale=1&style=7&x={x}&y={y}&z={z}',\n",
    "               attr='default')"
   ]
  },
  {
   "cell_type": "code",
   "execution_count": 15,
   "id": "bb7c30a2",
   "metadata": {
    "ExecuteTime": {
     "end_time": "2025-03-17T14:24:02.550967Z",
     "start_time": "2025-03-17T14:23:53.316118Z"
    }
   },
   "outputs": [
    {
     "data": {
      "text/plain": [
       "<folium.plugins.heat_map.HeatMap at 0x20e4755a400>"
      ]
     },
     "execution_count": 15,
     "metadata": {},
     "output_type": "execute_result"
    }
   ],
   "source": [
    "HeatMap(\n",
    "    heat_data, \n",
    "    radius=20, \n",
    "    blur=13\n",
    "#     gradient={0.4: 'blue', 0.65: 'lime', 1: 'red'}\n",
    ").add_to(m_1)"
   ]
  },
  {
   "cell_type": "code",
   "execution_count": 16,
   "id": "5f4b8163",
   "metadata": {
    "ExecuteTime": {
     "end_time": "2025-03-17T14:24:20.195865Z",
     "start_time": "2025-03-17T14:24:02.552965Z"
    }
   },
   "outputs": [],
   "source": [
    "m_1.save('0317热力图/0317TC到达天府三街.html')"
   ]
  },
  {
   "cell_type": "markdown",
   "id": "e8d53078",
   "metadata": {},
   "source": [
    "# TC出发点局部春熙路"
   ]
  },
  {
   "cell_type": "code",
   "execution_count": 31,
   "id": "f71a47b8",
   "metadata": {
    "ExecuteTime": {
     "end_time": "2025-04-16T09:22:18.604215Z",
     "start_time": "2025-04-16T09:22:18.594219Z"
    }
   },
   "outputs": [],
   "source": [
    "m_2 = folium.Map(location=[30.652333,104.078324], \n",
    "               zoom_start=12,\n",
    "               tiles='https://webrd04.is.autonavi.com/appmaptile?lang=zh_cn&size=1&scale=1&style=7&x={x}&y={y}&z={z}',\n",
    "               attr='default')"
   ]
  },
  {
   "cell_type": "code",
   "execution_count": 32,
   "id": "324e3201",
   "metadata": {
    "ExecuteTime": {
     "end_time": "2025-04-16T09:22:19.837420Z",
     "start_time": "2025-04-16T09:22:18.770246Z"
    }
   },
   "outputs": [
    {
     "data": {
      "text/plain": [
       "<folium.plugins.heat_map.HeatMap at 0x1b8877846d0>"
      ]
     },
     "execution_count": 32,
     "metadata": {},
     "output_type": "execute_result"
    }
   ],
   "source": [
    "HeatMap(\n",
    "    heat_data, \n",
    "    radius=6, \n",
    "    blur=2\n",
    "#     gradient={0.4: 'blue', 0.65: 'lime', 1: 'red'}\n",
    ").add_to(m_2)"
   ]
  },
  {
   "cell_type": "code",
   "execution_count": 33,
   "id": "a55a2d37",
   "metadata": {
    "ExecuteTime": {
     "end_time": "2025-04-16T09:22:22.290044Z",
     "start_time": "2025-04-16T09:22:19.840150Z"
    }
   },
   "outputs": [],
   "source": [
    "m_2.save('热力图/0416TC到达春熙路.html')"
   ]
  },
  {
   "cell_type": "markdown",
   "id": "3e51670f",
   "metadata": {},
   "source": [
    "# CatBoost到达局部天府三街"
   ]
  },
  {
   "cell_type": "code",
   "execution_count": 34,
   "id": "b39921d8",
   "metadata": {
    "ExecuteTime": {
     "end_time": "2025-04-16T09:22:47.548027Z",
     "start_time": "2025-04-16T09:22:47.163795Z"
    },
    "scrolled": true
   },
   "outputs": [],
   "source": [
    "data = pd.read_csv('热力数据/UTC_data_CatBoost-100w.csv',low_memory=False)\n",
    "# data['lon2'] = data['exstation_name'].map(lon)\n",
    "# data['lat2'] = data['exstation_name'].map(lat)\n",
    "heat_data = list(zip(data['lat2'],data['lon2']))"
   ]
  },
  {
   "cell_type": "code",
   "execution_count": 35,
   "id": "1cfd627b",
   "metadata": {
    "ExecuteTime": {
     "end_time": "2025-04-16T09:23:26.503628Z",
     "start_time": "2025-04-16T09:23:24.683407Z"
    }
   },
   "outputs": [
    {
     "data": {
      "text/plain": [
       "<folium.plugins.heat_map.HeatMap at 0x1b83bae8c70>"
      ]
     },
     "execution_count": 35,
     "metadata": {},
     "output_type": "execute_result"
    }
   ],
   "source": [
    "m_1 = folium.Map(location=[30.652333,104.078324], \n",
    "               zoom_start=12,\n",
    "               tiles='https://webrd04.is.autonavi.com/appmaptile?lang=zh_cn&size=1&scale=1&style=7&x={x}&y={y}&z={z}',\n",
    "               attr='default')\n",
    "HeatMap(\n",
    "    heat_data, \n",
    "    radius=6, \n",
    "    blur=2\n",
    "#     gradient={0.4: 'blue', 0.65: 'lime', 1: 'red'}\n",
    ").add_to(m_1)"
   ]
  },
  {
   "cell_type": "code",
   "execution_count": 36,
   "id": "bf708c34",
   "metadata": {
    "ExecuteTime": {
     "end_time": "2025-04-16T09:23:29.133251Z",
     "start_time": "2025-04-16T09:23:26.505883Z"
    }
   },
   "outputs": [],
   "source": [
    "m_1.save('热力图/0416CatBoost.html')"
   ]
  },
  {
   "cell_type": "markdown",
   "id": "ed127354",
   "metadata": {},
   "source": [
    "# XGBoost到达局部天府三街"
   ]
  },
  {
   "cell_type": "code",
   "execution_count": 37,
   "id": "9c7c6bc1",
   "metadata": {
    "ExecuteTime": {
     "end_time": "2025-04-16T09:24:10.865074Z",
     "start_time": "2025-04-16T09:24:10.443343Z"
    }
   },
   "outputs": [],
   "source": [
    "data = pd.read_csv('热力数据/UTC_data_XGBoost-100w.csv',low_memory=False)\n",
    "# data['lon2'] = data['exstation_name'].map(lon)\n",
    "# data['lat2'] = data['exstation_name'].map(lat)\n",
    "heat_data = list(zip(data['lat2'],data['lon2']))"
   ]
  },
  {
   "cell_type": "code",
   "execution_count": 38,
   "id": "ee789c64",
   "metadata": {
    "ExecuteTime": {
     "end_time": "2025-04-16T09:25:03.787822Z",
     "start_time": "2025-04-16T09:25:00.115596Z"
    }
   },
   "outputs": [],
   "source": [
    "m_1 = folium.Map(location=[30.652333,104.078324], \n",
    "               zoom_start=12,\n",
    "               tiles='https://webrd04.is.autonavi.com/appmaptile?lang=zh_cn&size=1&scale=1&style=7&x={x}&y={y}&z={z}',\n",
    "               attr='default')\n",
    "HeatMap(\n",
    "    heat_data, \n",
    "    radius=6, \n",
    "    blur=2\n",
    "#     gradient={0.4: 'blue', 0.65: 'lime', 1: 'red'}\n",
    ").add_to(m_1)\n",
    "m_1.save('热力图/0416XGBoost.html')"
   ]
  },
  {
   "cell_type": "markdown",
   "id": "f6da96e7",
   "metadata": {},
   "source": [
    "# RF到达局部天府三街"
   ]
  },
  {
   "cell_type": "code",
   "execution_count": 41,
   "id": "c3fae8b0",
   "metadata": {
    "ExecuteTime": {
     "end_time": "2025-04-16T09:26:07.318356Z",
     "start_time": "2025-04-16T09:26:06.931749Z"
    }
   },
   "outputs": [],
   "source": [
    "data = pd.read_csv('热力数据/UTC_data_RF-100w.csv',low_memory=False)\n",
    "# data['lon2'] = data['exstation_name'].map(lon)\n",
    "# data['lat2'] = data['exstation_name'].map(lat)\n",
    "heat_data = list(zip(data['lat2'],data['lon2']))"
   ]
  },
  {
   "cell_type": "code",
   "execution_count": 42,
   "id": "842d9ab9",
   "metadata": {
    "ExecuteTime": {
     "end_time": "2025-04-16T09:26:10.813735Z",
     "start_time": "2025-04-16T09:26:07.320352Z"
    }
   },
   "outputs": [],
   "source": [
    "m_1 = folium.Map(location=[30.652333,104.078324], \n",
    "               zoom_start=12,\n",
    "               tiles='https://webrd04.is.autonavi.com/appmaptile?lang=zh_cn&size=1&scale=1&style=7&x={x}&y={y}&z={z}',\n",
    "               attr='default')\n",
    "HeatMap(\n",
    "    heat_data, \n",
    "    radius=6, \n",
    "    blur=2\n",
    "#     gradient={0.4: 'blue', 0.65: 'lime', 1: 'red'}\n",
    ").add_to(m_1)\n",
    "m_1.save('热力图/0416RF.html')"
   ]
  }
 ],
 "metadata": {
  "kernelspec": {
   "display_name": "Python 3 (ipykernel)",
   "language": "python",
   "name": "python3"
  },
  "language_info": {
   "codemirror_mode": {
    "name": "ipython",
    "version": 3
   },
   "file_extension": ".py",
   "mimetype": "text/x-python",
   "name": "python",
   "nbconvert_exporter": "python",
   "pygments_lexer": "ipython3",
   "version": "3.8.10"
  }
 },
 "nbformat": 4,
 "nbformat_minor": 5
}
