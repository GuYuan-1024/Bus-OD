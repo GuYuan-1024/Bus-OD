{
 "cells": [
  {
   "cell_type": "code",
   "execution_count": 1,
   "id": "35715964",
   "metadata": {
    "ExecuteTime": {
     "end_time": "2025-10-24T07:43:08.285516Z",
     "start_time": "2025-10-24T07:43:07.841644Z"
    }
   },
   "outputs": [],
   "source": [
    "import pandas as pd\n",
    "import numpy as np"
   ]
  },
  {
   "cell_type": "code",
   "execution_count": 2,
   "id": "ba5f61ee",
   "metadata": {
    "ExecuteTime": {
     "end_time": "2025-10-24T07:43:08.518157Z",
     "start_time": "2025-10-24T07:43:08.288027Z"
    }
   },
   "outputs": [],
   "source": [
    "data = pd.read_csv('../0331新数据/热力数据/TC-data-100w.csv',low_memory=False)"
   ]
  },
  {
   "cell_type": "code",
   "execution_count": 3,
   "id": "d073bf9f",
   "metadata": {
    "ExecuteTime": {
     "end_time": "2025-10-24T07:43:08.564772Z",
     "start_time": "2025-10-24T07:43:08.521158Z"
    }
   },
   "outputs": [],
   "source": [
    "data = data[data['lon2'] > 31].reset_index(drop=True)"
   ]
  },
  {
   "cell_type": "code",
   "execution_count": 4,
   "id": "988a8a11",
   "metadata": {
    "ExecuteTime": {
     "end_time": "2025-10-24T07:43:08.580577Z",
     "start_time": "2025-10-24T07:43:08.568291Z"
    }
   },
   "outputs": [],
   "source": [
    "MIN_LON = 103.90\n",
    "MAX_LON = 104.21\n",
    "MIN_LAT = 30.53\n",
    "MAX_LAT = 30.82"
   ]
  },
  {
   "cell_type": "markdown",
   "id": "3979fa03",
   "metadata": {},
   "source": [
    "# 微观"
   ]
  },
  {
   "cell_type": "code",
   "execution_count": 5,
   "id": "b2b79d23",
   "metadata": {
    "ExecuteTime": {
     "end_time": "2025-10-24T07:43:08.596094Z",
     "start_time": "2025-10-24T07:43:08.583579Z"
    }
   },
   "outputs": [],
   "source": [
    "N_BINS_LON = 9  # M\n",
    "N_BINS_LAT = 12  # N"
   ]
  },
  {
   "cell_type": "code",
   "execution_count": 6,
   "id": "4b626f32",
   "metadata": {
    "ExecuteTime": {
     "end_time": "2025-10-24T07:43:08.659055Z",
     "start_time": "2025-10-24T07:43:08.598370Z"
    }
   },
   "outputs": [],
   "source": [
    "H, lon_edges, lat_edges = np.histogram2d(\n",
    "    x=data['lat2'],    # Y 轴数据 (纬度)\n",
    "    y=data['lon2'],    # X 轴数据 (经度)\n",
    "    bins=[N_BINS_LAT, N_BINS_LON], # [N, M] 网格分辨率\n",
    "    range=[[MIN_LAT, MAX_LAT], [MIN_LON, MAX_LON]] # [Y轴边界, X轴边界]\n",
    ")"
   ]
  },
  {
   "cell_type": "code",
   "execution_count": 7,
   "id": "a666e4df",
   "metadata": {
    "ExecuteTime": {
     "end_time": "2025-10-24T07:43:08.674582Z",
     "start_time": "2025-10-24T07:43:08.663058Z"
    }
   },
   "outputs": [
    {
     "name": "stdout",
     "output_type": "stream",
     "text": [
      "生成的矩阵 H 的形状: (12, 9)\n",
      "(N, M) = (纬度格子数, 经度格子数)\n",
      "\n",
      "生成的矩阵 H (部分示例):\n",
      "[[0.0000e+00 0.0000e+00 0.0000e+00 1.7810e+03 1.2205e+04 3.7100e+02\n",
      "  8.0000e+00 0.0000e+00 0.0000e+00]\n",
      " [0.0000e+00 0.0000e+00 1.3510e+03 1.8910e+03 1.3229e+04 9.3700e+02\n",
      "  2.0700e+02 7.3000e+01 0.0000e+00]\n",
      " [0.0000e+00 0.0000e+00 8.3700e+02 4.6560e+03 1.9772e+04 1.9534e+04\n",
      "  1.7354e+04 1.0507e+04 0.0000e+00]\n",
      " [0.0000e+00 1.5900e+02 1.9780e+03 5.3570e+03 2.5516e+04 4.5641e+04\n",
      "  3.1095e+04 1.0137e+04 0.0000e+00]\n",
      " [0.0000e+00 3.7000e+01 1.3532e+04 2.4591e+04 3.2416e+04 5.3873e+04\n",
      "  4.8341e+04 8.4340e+03 0.0000e+00]\n",
      " [9.1700e+02 1.0477e+04 1.9932e+04 3.1170e+04 6.8907e+04 7.5061e+04\n",
      "  3.6894e+04 2.3210e+03 0.0000e+00]\n",
      " [1.5740e+03 7.3270e+03 1.9719e+04 4.3384e+04 3.5615e+04 4.8422e+04\n",
      "  1.8671e+04 6.7660e+03 2.1750e+03]\n",
      " [2.0000e+01 8.0700e+02 1.2752e+04 1.9694e+04 2.8369e+04 3.6803e+04\n",
      "  9.7750e+03 1.5382e+04 1.8640e+03]\n",
      " [0.0000e+00 0.0000e+00 6.8900e+02 7.5660e+03 5.3680e+03 9.5200e+02\n",
      "  3.3750e+03 1.8000e+02 0.0000e+00]\n",
      " [0.0000e+00 0.0000e+00 2.0200e+02 0.0000e+00 6.9000e+02 2.2910e+03\n",
      "  3.6510e+03 0.0000e+00 0.0000e+00]\n",
      " [0.0000e+00 0.0000e+00 0.0000e+00 0.0000e+00 9.0000e+00 1.0750e+03\n",
      "  2.1900e+02 0.0000e+00 0.0000e+00]\n",
      " [0.0000e+00 0.0000e+00 0.0000e+00 0.0000e+00 0.0000e+00 4.1000e+01\n",
      "  0.0000e+00 0.0000e+00 1.6400e+02]]\n"
     ]
    }
   ],
   "source": [
    "print(f\"生成的矩阵 H 的形状: {H.shape}\")\n",
    "print(\"(N, M) = (纬度格子数, 经度格子数)\")\n",
    "print(\"\\n生成的矩阵 H (部分示例):\")\n",
    "print(H)"
   ]
  },
  {
   "cell_type": "code",
   "execution_count": 8,
   "id": "9b87b56a",
   "metadata": {
    "ExecuteTime": {
     "end_time": "2025-10-24T07:43:08.705571Z",
     "start_time": "2025-10-24T07:43:08.681443Z"
    }
   },
   "outputs": [
    {
     "data": {
      "text/plain": [
       "(12, 9)"
      ]
     },
     "execution_count": 8,
     "metadata": {},
     "output_type": "execute_result"
    }
   ],
   "source": [
    "H.shape"
   ]
  },
  {
   "cell_type": "code",
   "execution_count": 9,
   "id": "8a6f27dc",
   "metadata": {
    "ExecuteTime": {
     "end_time": "2025-10-24T07:43:08.768839Z",
     "start_time": "2025-10-24T07:43:08.710085Z"
    }
   },
   "outputs": [
    {
     "data": {
      "text/plain": [
       "30.53281725"
      ]
     },
     "execution_count": 9,
     "metadata": {},
     "output_type": "execute_result"
    }
   ],
   "source": [
    "min(data['lat2'])"
   ]
  },
  {
   "cell_type": "code",
   "execution_count": 10,
   "id": "4ff6b692",
   "metadata": {
    "ExecuteTime": {
     "end_time": "2025-10-24T07:43:08.815934Z",
     "start_time": "2025-10-24T07:43:08.772841Z"
    }
   },
   "outputs": [
    {
     "data": {
      "text/plain": [
       "30.81665103"
      ]
     },
     "execution_count": 10,
     "metadata": {},
     "output_type": "execute_result"
    }
   ],
   "source": [
    "max(data['lat2'])"
   ]
  },
  {
   "cell_type": "code",
   "execution_count": 11,
   "id": "54c4ba04",
   "metadata": {
    "ExecuteTime": {
     "end_time": "2025-10-24T07:43:08.878369Z",
     "start_time": "2025-10-24T07:43:08.818446Z"
    }
   },
   "outputs": [
    {
     "data": {
      "text/plain": [
       "103.9078419"
      ]
     },
     "execution_count": 11,
     "metadata": {},
     "output_type": "execute_result"
    }
   ],
   "source": [
    "min(data['lon2'])"
   ]
  },
  {
   "cell_type": "code",
   "execution_count": 12,
   "id": "1d9f03b3",
   "metadata": {
    "ExecuteTime": {
     "end_time": "2025-10-24T07:43:08.925659Z",
     "start_time": "2025-10-24T07:43:08.881369Z"
    }
   },
   "outputs": [
    {
     "data": {
      "text/plain": [
       "104.2168058"
      ]
     },
     "execution_count": 12,
     "metadata": {},
     "output_type": "execute_result"
    }
   ],
   "source": [
    "max(data['lon2'])"
   ]
  },
  {
   "cell_type": "code",
   "execution_count": 13,
   "id": "b656596f",
   "metadata": {
    "ExecuteTime": {
     "end_time": "2025-10-24T07:43:08.954749Z",
     "start_time": "2025-10-24T07:43:08.928254Z"
    },
    "scrolled": false
   },
   "outputs": [
    {
     "data": {
      "text/html": [
       "<div>\n",
       "<style scoped>\n",
       "    .dataframe tbody tr th:only-of-type {\n",
       "        vertical-align: middle;\n",
       "    }\n",
       "\n",
       "    .dataframe tbody tr th {\n",
       "        vertical-align: top;\n",
       "    }\n",
       "\n",
       "    .dataframe thead th {\n",
       "        text-align: right;\n",
       "    }\n",
       "</style>\n",
       "<table border=\"1\" class=\"dataframe\">\n",
       "  <thead>\n",
       "    <tr style=\"text-align: right;\">\n",
       "      <th></th>\n",
       "      <th>0</th>\n",
       "      <th>1</th>\n",
       "      <th>2</th>\n",
       "      <th>3</th>\n",
       "      <th>4</th>\n",
       "      <th>5</th>\n",
       "      <th>6</th>\n",
       "      <th>7</th>\n",
       "      <th>8</th>\n",
       "    </tr>\n",
       "  </thead>\n",
       "  <tbody>\n",
       "    <tr>\n",
       "      <th>0</th>\n",
       "      <td>0.0</td>\n",
       "      <td>0.0</td>\n",
       "      <td>0.0</td>\n",
       "      <td>1781.0</td>\n",
       "      <td>12205.0</td>\n",
       "      <td>371.0</td>\n",
       "      <td>8.0</td>\n",
       "      <td>0.0</td>\n",
       "      <td>0.0</td>\n",
       "    </tr>\n",
       "    <tr>\n",
       "      <th>1</th>\n",
       "      <td>0.0</td>\n",
       "      <td>0.0</td>\n",
       "      <td>1351.0</td>\n",
       "      <td>1891.0</td>\n",
       "      <td>13229.0</td>\n",
       "      <td>937.0</td>\n",
       "      <td>207.0</td>\n",
       "      <td>73.0</td>\n",
       "      <td>0.0</td>\n",
       "    </tr>\n",
       "    <tr>\n",
       "      <th>2</th>\n",
       "      <td>0.0</td>\n",
       "      <td>0.0</td>\n",
       "      <td>837.0</td>\n",
       "      <td>4656.0</td>\n",
       "      <td>19772.0</td>\n",
       "      <td>19534.0</td>\n",
       "      <td>17354.0</td>\n",
       "      <td>10507.0</td>\n",
       "      <td>0.0</td>\n",
       "    </tr>\n",
       "    <tr>\n",
       "      <th>3</th>\n",
       "      <td>0.0</td>\n",
       "      <td>159.0</td>\n",
       "      <td>1978.0</td>\n",
       "      <td>5357.0</td>\n",
       "      <td>25516.0</td>\n",
       "      <td>45641.0</td>\n",
       "      <td>31095.0</td>\n",
       "      <td>10137.0</td>\n",
       "      <td>0.0</td>\n",
       "    </tr>\n",
       "    <tr>\n",
       "      <th>4</th>\n",
       "      <td>0.0</td>\n",
       "      <td>37.0</td>\n",
       "      <td>13532.0</td>\n",
       "      <td>24591.0</td>\n",
       "      <td>32416.0</td>\n",
       "      <td>53873.0</td>\n",
       "      <td>48341.0</td>\n",
       "      <td>8434.0</td>\n",
       "      <td>0.0</td>\n",
       "    </tr>\n",
       "    <tr>\n",
       "      <th>5</th>\n",
       "      <td>917.0</td>\n",
       "      <td>10477.0</td>\n",
       "      <td>19932.0</td>\n",
       "      <td>31170.0</td>\n",
       "      <td>68907.0</td>\n",
       "      <td>75061.0</td>\n",
       "      <td>36894.0</td>\n",
       "      <td>2321.0</td>\n",
       "      <td>0.0</td>\n",
       "    </tr>\n",
       "    <tr>\n",
       "      <th>6</th>\n",
       "      <td>1574.0</td>\n",
       "      <td>7327.0</td>\n",
       "      <td>19719.0</td>\n",
       "      <td>43384.0</td>\n",
       "      <td>35615.0</td>\n",
       "      <td>48422.0</td>\n",
       "      <td>18671.0</td>\n",
       "      <td>6766.0</td>\n",
       "      <td>2175.0</td>\n",
       "    </tr>\n",
       "    <tr>\n",
       "      <th>7</th>\n",
       "      <td>20.0</td>\n",
       "      <td>807.0</td>\n",
       "      <td>12752.0</td>\n",
       "      <td>19694.0</td>\n",
       "      <td>28369.0</td>\n",
       "      <td>36803.0</td>\n",
       "      <td>9775.0</td>\n",
       "      <td>15382.0</td>\n",
       "      <td>1864.0</td>\n",
       "    </tr>\n",
       "    <tr>\n",
       "      <th>8</th>\n",
       "      <td>0.0</td>\n",
       "      <td>0.0</td>\n",
       "      <td>689.0</td>\n",
       "      <td>7566.0</td>\n",
       "      <td>5368.0</td>\n",
       "      <td>952.0</td>\n",
       "      <td>3375.0</td>\n",
       "      <td>180.0</td>\n",
       "      <td>0.0</td>\n",
       "    </tr>\n",
       "    <tr>\n",
       "      <th>9</th>\n",
       "      <td>0.0</td>\n",
       "      <td>0.0</td>\n",
       "      <td>202.0</td>\n",
       "      <td>0.0</td>\n",
       "      <td>690.0</td>\n",
       "      <td>2291.0</td>\n",
       "      <td>3651.0</td>\n",
       "      <td>0.0</td>\n",
       "      <td>0.0</td>\n",
       "    </tr>\n",
       "    <tr>\n",
       "      <th>10</th>\n",
       "      <td>0.0</td>\n",
       "      <td>0.0</td>\n",
       "      <td>0.0</td>\n",
       "      <td>0.0</td>\n",
       "      <td>9.0</td>\n",
       "      <td>1075.0</td>\n",
       "      <td>219.0</td>\n",
       "      <td>0.0</td>\n",
       "      <td>0.0</td>\n",
       "    </tr>\n",
       "    <tr>\n",
       "      <th>11</th>\n",
       "      <td>0.0</td>\n",
       "      <td>0.0</td>\n",
       "      <td>0.0</td>\n",
       "      <td>0.0</td>\n",
       "      <td>0.0</td>\n",
       "      <td>41.0</td>\n",
       "      <td>0.0</td>\n",
       "      <td>0.0</td>\n",
       "      <td>164.0</td>\n",
       "    </tr>\n",
       "  </tbody>\n",
       "</table>\n",
       "</div>"
      ],
      "text/plain": [
       "         0        1        2        3        4        5        6        7   \n",
       "0      0.0      0.0      0.0   1781.0  12205.0    371.0      8.0      0.0  \\\n",
       "1      0.0      0.0   1351.0   1891.0  13229.0    937.0    207.0     73.0   \n",
       "2      0.0      0.0    837.0   4656.0  19772.0  19534.0  17354.0  10507.0   \n",
       "3      0.0    159.0   1978.0   5357.0  25516.0  45641.0  31095.0  10137.0   \n",
       "4      0.0     37.0  13532.0  24591.0  32416.0  53873.0  48341.0   8434.0   \n",
       "5    917.0  10477.0  19932.0  31170.0  68907.0  75061.0  36894.0   2321.0   \n",
       "6   1574.0   7327.0  19719.0  43384.0  35615.0  48422.0  18671.0   6766.0   \n",
       "7     20.0    807.0  12752.0  19694.0  28369.0  36803.0   9775.0  15382.0   \n",
       "8      0.0      0.0    689.0   7566.0   5368.0    952.0   3375.0    180.0   \n",
       "9      0.0      0.0    202.0      0.0    690.0   2291.0   3651.0      0.0   \n",
       "10     0.0      0.0      0.0      0.0      9.0   1075.0    219.0      0.0   \n",
       "11     0.0      0.0      0.0      0.0      0.0     41.0      0.0      0.0   \n",
       "\n",
       "         8  \n",
       "0      0.0  \n",
       "1      0.0  \n",
       "2      0.0  \n",
       "3      0.0  \n",
       "4      0.0  \n",
       "5      0.0  \n",
       "6   2175.0  \n",
       "7   1864.0  \n",
       "8      0.0  \n",
       "9      0.0  \n",
       "10     0.0  \n",
       "11   164.0  "
      ]
     },
     "execution_count": 13,
     "metadata": {},
     "output_type": "execute_result"
    }
   ],
   "source": [
    "pd.DataFrame(H)"
   ]
  },
  {
   "cell_type": "markdown",
   "id": "1c9f4c33",
   "metadata": {},
   "source": [
    "# 宏观"
   ]
  },
  {
   "cell_type": "code",
   "execution_count": 15,
   "id": "b9fd4e49",
   "metadata": {
    "ExecuteTime": {
     "end_time": "2025-10-24T07:50:02.031404Z",
     "start_time": "2025-10-24T07:50:02.017196Z"
    }
   },
   "outputs": [],
   "source": [
    "N_BINS_LON = 6  # M\n",
    "N_BINS_LAT = 4  # N"
   ]
  },
  {
   "cell_type": "code",
   "execution_count": 16,
   "id": "76e06417",
   "metadata": {
    "ExecuteTime": {
     "end_time": "2025-10-24T07:50:02.893398Z",
     "start_time": "2025-10-24T07:50:02.831296Z"
    }
   },
   "outputs": [],
   "source": [
    "H, lon_edges, lat_edges = np.histogram2d(\n",
    "    x=data['lat2'],    # Y 轴数据 (纬度)\n",
    "    y=data['lon2'],    # X 轴数据 (经度)\n",
    "    bins=[N_BINS_LAT, N_BINS_LON], # [N, M] 网格分辨率\n",
    "    range=[[MIN_LAT, MAX_LAT], [MIN_LON, MAX_LON]] # [Y轴边界, X轴边界]\n",
    ")"
   ]
  },
  {
   "cell_type": "code",
   "execution_count": 17,
   "id": "da0cef58",
   "metadata": {
    "ExecuteTime": {
     "end_time": "2025-10-24T07:50:03.312533Z",
     "start_time": "2025-10-24T07:50:03.293729Z"
    }
   },
   "outputs": [
    {
     "name": "stdout",
     "output_type": "stream",
     "text": [
      "生成的矩阵 H 的形状: (4, 6)\n",
      "(N, M) = (纬度格子数, 经度格子数)\n",
      "\n",
      "生成的矩阵 H (部分示例):\n",
      "[[0.00000e+00 2.18800e+03 2.05090e+04 5.38670e+04 2.76760e+04 4.73000e+02]\n",
      " [1.18500e+03 4.58470e+04 1.10521e+05 2.52011e+05 1.37123e+05 9.90000e+01]\n",
      " [2.03700e+03 4.08510e+04 1.17194e+05 1.08979e+05 3.28480e+04 2.53400e+04]\n",
      " [0.00000e+00 2.02000e+02 6.90000e+02 3.41600e+03 3.87000e+03 1.64000e+02]]\n"
     ]
    }
   ],
   "source": [
    "print(f\"生成的矩阵 H 的形状: {H.shape}\")\n",
    "print(\"(N, M) = (纬度格子数, 经度格子数)\")\n",
    "print(\"\\n生成的矩阵 H (部分示例):\")\n",
    "print(H)"
   ]
  },
  {
   "cell_type": "code",
   "execution_count": 18,
   "id": "b94b3e96",
   "metadata": {
    "ExecuteTime": {
     "end_time": "2025-10-24T07:50:04.622701Z",
     "start_time": "2025-10-24T07:50:04.599621Z"
    },
    "scrolled": false
   },
   "outputs": [
    {
     "data": {
      "text/html": [
       "<div>\n",
       "<style scoped>\n",
       "    .dataframe tbody tr th:only-of-type {\n",
       "        vertical-align: middle;\n",
       "    }\n",
       "\n",
       "    .dataframe tbody tr th {\n",
       "        vertical-align: top;\n",
       "    }\n",
       "\n",
       "    .dataframe thead th {\n",
       "        text-align: right;\n",
       "    }\n",
       "</style>\n",
       "<table border=\"1\" class=\"dataframe\">\n",
       "  <thead>\n",
       "    <tr style=\"text-align: right;\">\n",
       "      <th></th>\n",
       "      <th>0</th>\n",
       "      <th>1</th>\n",
       "      <th>2</th>\n",
       "      <th>3</th>\n",
       "      <th>4</th>\n",
       "      <th>5</th>\n",
       "    </tr>\n",
       "  </thead>\n",
       "  <tbody>\n",
       "    <tr>\n",
       "      <th>0</th>\n",
       "      <td>0.0</td>\n",
       "      <td>2188.0</td>\n",
       "      <td>20509.0</td>\n",
       "      <td>53867.0</td>\n",
       "      <td>27676.0</td>\n",
       "      <td>473.0</td>\n",
       "    </tr>\n",
       "    <tr>\n",
       "      <th>1</th>\n",
       "      <td>1185.0</td>\n",
       "      <td>45847.0</td>\n",
       "      <td>110521.0</td>\n",
       "      <td>252011.0</td>\n",
       "      <td>137123.0</td>\n",
       "      <td>99.0</td>\n",
       "    </tr>\n",
       "    <tr>\n",
       "      <th>2</th>\n",
       "      <td>2037.0</td>\n",
       "      <td>40851.0</td>\n",
       "      <td>117194.0</td>\n",
       "      <td>108979.0</td>\n",
       "      <td>32848.0</td>\n",
       "      <td>25340.0</td>\n",
       "    </tr>\n",
       "    <tr>\n",
       "      <th>3</th>\n",
       "      <td>0.0</td>\n",
       "      <td>202.0</td>\n",
       "      <td>690.0</td>\n",
       "      <td>3416.0</td>\n",
       "      <td>3870.0</td>\n",
       "      <td>164.0</td>\n",
       "    </tr>\n",
       "  </tbody>\n",
       "</table>\n",
       "</div>"
      ],
      "text/plain": [
       "        0        1         2         3         4        5\n",
       "0     0.0   2188.0   20509.0   53867.0   27676.0    473.0\n",
       "1  1185.0  45847.0  110521.0  252011.0  137123.0     99.0\n",
       "2  2037.0  40851.0  117194.0  108979.0   32848.0  25340.0\n",
       "3     0.0    202.0     690.0    3416.0    3870.0    164.0"
      ]
     },
     "execution_count": 18,
     "metadata": {},
     "output_type": "execute_result"
    }
   ],
   "source": [
    "pd.DataFrame(H)"
   ]
  },
  {
   "cell_type": "code",
   "execution_count": null,
   "id": "f8a7db3e",
   "metadata": {},
   "outputs": [],
   "source": []
  }
 ],
 "metadata": {
  "kernelspec": {
   "display_name": "Python 3 (ipykernel)",
   "language": "python",
   "name": "python3"
  },
  "language_info": {
   "codemirror_mode": {
    "name": "ipython",
    "version": 3
   },
   "file_extension": ".py",
   "mimetype": "text/x-python",
   "name": "python",
   "nbconvert_exporter": "python",
   "pygments_lexer": "ipython3",
   "version": "3.8.10"
  }
 },
 "nbformat": 4,
 "nbformat_minor": 5
}
