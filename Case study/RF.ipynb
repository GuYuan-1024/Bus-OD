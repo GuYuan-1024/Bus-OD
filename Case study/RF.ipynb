{
 "cells": [
  {
   "cell_type": "code",
   "execution_count": 1,
   "id": "b3e77fe5",
   "metadata": {
    "ExecuteTime": {
     "end_time": "2023-12-18T03:20:59.533986Z",
     "start_time": "2023-12-18T03:20:57.211175Z"
    }
   },
   "outputs": [],
   "source": [
    "import pandas as pd\n",
    "import numpy as np\n",
    "from sklearn.ensemble import RandomForestClassifier\n",
    "from sklearn.model_selection import train_test_split\n",
    "from sklearn.metrics import accuracy_score\n",
    "from sklearn.preprocessing import LabelEncoder\n",
    "from matplotlib import pyplot as plt\n",
    "pd.set_option('display.max_columns',None)\n",
    "from tqdm import tqdm"
   ]
  },
  {
   "cell_type": "code",
   "execution_count": 2,
   "id": "480ef9c1",
   "metadata": {
    "ExecuteTime": {
     "end_time": "2023-12-18T03:21:41.944632Z",
     "start_time": "2023-12-18T03:21:10.078120Z"
    }
   },
   "outputs": [],
   "source": [
    "data = pd.read_csv('F:/公共交通/组合/1217/1217with街道数据.csv',low_memory=False)"
   ]
  },
  {
   "cell_type": "code",
   "execution_count": 3,
   "id": "fe141135",
   "metadata": {
    "ExecuteTime": {
     "end_time": "2023-12-18T03:21:42.379625Z",
     "start_time": "2023-12-18T03:21:42.209581Z"
    }
   },
   "outputs": [
    {
     "data": {
      "text/html": [
       "<div>\n",
       "<style scoped>\n",
       "    .dataframe tbody tr th:only-of-type {\n",
       "        vertical-align: middle;\n",
       "    }\n",
       "\n",
       "    .dataframe tbody tr th {\n",
       "        vertical-align: top;\n",
       "    }\n",
       "\n",
       "    .dataframe thead th {\n",
       "        text-align: right;\n",
       "    }\n",
       "</style>\n",
       "<table border=\"1\" class=\"dataframe\">\n",
       "  <thead>\n",
       "    <tr style=\"text-align: right;\">\n",
       "      <th></th>\n",
       "      <th>card_no</th>\n",
       "      <th>enstation_time</th>\n",
       "      <th>enstation_name</th>\n",
       "      <th>orientation</th>\n",
       "      <th>line_name</th>\n",
       "      <th>lon1</th>\n",
       "      <th>lat1</th>\n",
       "      <th>exstation_name</th>\n",
       "      <th>lon2</th>\n",
       "      <th>lat2</th>\n",
       "      <th>enstation_district</th>\n",
       "      <th>enstation_street</th>\n",
       "      <th>exstation_district</th>\n",
       "      <th>exstation_street</th>\n",
       "    </tr>\n",
       "  </thead>\n",
       "  <tbody>\n",
       "    <tr>\n",
       "      <th>0</th>\n",
       "      <td>1.000000e+15</td>\n",
       "      <td>2022-11-03 18:12:15</td>\n",
       "      <td>新鸿路</td>\n",
       "      <td>2.0</td>\n",
       "      <td>71</td>\n",
       "      <td>104.10720</td>\n",
       "      <td>30.661700</td>\n",
       "      <td>小龙桥路</td>\n",
       "      <td>104.110880</td>\n",
       "      <td>30.659771</td>\n",
       "      <td>成华区</td>\n",
       "      <td>双桥子街道</td>\n",
       "      <td>成华区</td>\n",
       "      <td>双桥子街道</td>\n",
       "    </tr>\n",
       "    <tr>\n",
       "      <th>1</th>\n",
       "      <td>1.000000e+15</td>\n",
       "      <td>2022-11-03 07:13:01</td>\n",
       "      <td>文家大道南</td>\n",
       "      <td>1.0</td>\n",
       "      <td>232</td>\n",
       "      <td>103.94210</td>\n",
       "      <td>30.693420</td>\n",
       "      <td>文家大道成温路口</td>\n",
       "      <td>103.940245</td>\n",
       "      <td>30.689269</td>\n",
       "      <td>青羊区</td>\n",
       "      <td>黄田坝街道</td>\n",
       "      <td>青羊区</td>\n",
       "      <td>蔡桥街道</td>\n",
       "    </tr>\n",
       "    <tr>\n",
       "      <th>2</th>\n",
       "      <td>1.000000e+15</td>\n",
       "      <td>2022-11-03 08:02:53</td>\n",
       "      <td>凯德风尚</td>\n",
       "      <td>1.0</td>\n",
       "      <td>309</td>\n",
       "      <td>103.95750</td>\n",
       "      <td>30.668860</td>\n",
       "      <td>光华大道一段东二站</td>\n",
       "      <td>103.952034</td>\n",
       "      <td>30.668457</td>\n",
       "      <td>青羊区</td>\n",
       "      <td>蔡桥街道</td>\n",
       "      <td>青羊区</td>\n",
       "      <td>蔡桥街道</td>\n",
       "    </tr>\n",
       "    <tr>\n",
       "      <th>3</th>\n",
       "      <td>1.000000e+15</td>\n",
       "      <td>2022-11-03 17:49:07</td>\n",
       "      <td>繁清家具厂</td>\n",
       "      <td>2.0</td>\n",
       "      <td>316</td>\n",
       "      <td>104.03617</td>\n",
       "      <td>30.796137</td>\n",
       "      <td>新泉路口</td>\n",
       "      <td>104.042276</td>\n",
       "      <td>30.715166</td>\n",
       "      <td>新都区</td>\n",
       "      <td>大丰街道</td>\n",
       "      <td>金牛区</td>\n",
       "      <td>九里堤街道</td>\n",
       "    </tr>\n",
       "    <tr>\n",
       "      <th>4</th>\n",
       "      <td>1.000000e+15</td>\n",
       "      <td>2022-11-03 17:43:10</td>\n",
       "      <td>西御街</td>\n",
       "      <td>1.0</td>\n",
       "      <td>13</td>\n",
       "      <td>104.06270</td>\n",
       "      <td>30.656330</td>\n",
       "      <td>清波社区</td>\n",
       "      <td>103.986536</td>\n",
       "      <td>30.681534</td>\n",
       "      <td>青羊区</td>\n",
       "      <td>西御河街道</td>\n",
       "      <td>青羊区</td>\n",
       "      <td>苏坡街道</td>\n",
       "    </tr>\n",
       "    <tr>\n",
       "      <th>...</th>\n",
       "      <td>...</td>\n",
       "      <td>...</td>\n",
       "      <td>...</td>\n",
       "      <td>...</td>\n",
       "      <td>...</td>\n",
       "      <td>...</td>\n",
       "      <td>...</td>\n",
       "      <td>...</td>\n",
       "      <td>...</td>\n",
       "      <td>...</td>\n",
       "      <td>...</td>\n",
       "      <td>...</td>\n",
       "      <td>...</td>\n",
       "      <td>...</td>\n",
       "    </tr>\n",
       "    <tr>\n",
       "      <th>8566140</th>\n",
       "      <td>3.105170e+18</td>\n",
       "      <td>2022-11-15 09:03:56</td>\n",
       "      <td>安靖快铁公交站</td>\n",
       "      <td>1.0</td>\n",
       "      <td>143</td>\n",
       "      <td>104.03520</td>\n",
       "      <td>30.736160</td>\n",
       "      <td>地铁金华寺东路站</td>\n",
       "      <td>104.124843</td>\n",
       "      <td>30.769408</td>\n",
       "      <td>金牛区</td>\n",
       "      <td>沙河源街道</td>\n",
       "      <td>新都区</td>\n",
       "      <td>三河街道</td>\n",
       "    </tr>\n",
       "    <tr>\n",
       "      <th>8566141</th>\n",
       "      <td>3.105170e+18</td>\n",
       "      <td>2022-11-15 18:11:43</td>\n",
       "      <td>民兴北一路</td>\n",
       "      <td>2.0</td>\n",
       "      <td>14</td>\n",
       "      <td>104.15810</td>\n",
       "      <td>30.683370</td>\n",
       "      <td>华泰路北</td>\n",
       "      <td>104.166534</td>\n",
       "      <td>30.696355</td>\n",
       "      <td>成华区</td>\n",
       "      <td>龙潭街道</td>\n",
       "      <td>成华区</td>\n",
       "      <td>龙潭街道</td>\n",
       "    </tr>\n",
       "    <tr>\n",
       "      <th>8566142</th>\n",
       "      <td>3.105170e+18</td>\n",
       "      <td>2022-11-15 08:16:45</td>\n",
       "      <td>红牌楼</td>\n",
       "      <td>1.0</td>\n",
       "      <td>45</td>\n",
       "      <td>104.03220</td>\n",
       "      <td>30.636030</td>\n",
       "      <td>国学巷</td>\n",
       "      <td>104.062633</td>\n",
       "      <td>30.643799</td>\n",
       "      <td>武侯区</td>\n",
       "      <td>浆洗街街道</td>\n",
       "      <td>武侯区</td>\n",
       "      <td>玉林街道</td>\n",
       "    </tr>\n",
       "    <tr>\n",
       "      <th>8566143</th>\n",
       "      <td>3.105170e+18</td>\n",
       "      <td>2022-11-15 08:38:28</td>\n",
       "      <td>高攀路口</td>\n",
       "      <td>2.0</td>\n",
       "      <td>121</td>\n",
       "      <td>104.08260</td>\n",
       "      <td>30.607750</td>\n",
       "      <td>府城大道一医院</td>\n",
       "      <td>104.054012</td>\n",
       "      <td>30.588427</td>\n",
       "      <td>武侯区</td>\n",
       "      <td>桂溪街道</td>\n",
       "      <td>武侯区</td>\n",
       "      <td>石羊街道</td>\n",
       "    </tr>\n",
       "    <tr>\n",
       "      <th>8566144</th>\n",
       "      <td>3.105170e+18</td>\n",
       "      <td>2022-11-15 08:17:09</td>\n",
       "      <td>双桥子</td>\n",
       "      <td>2.0</td>\n",
       "      <td>141</td>\n",
       "      <td>104.10520</td>\n",
       "      <td>30.645790</td>\n",
       "      <td>地铁衣冠庙站</td>\n",
       "      <td>104.053623</td>\n",
       "      <td>30.633647</td>\n",
       "      <td>锦江区</td>\n",
       "      <td>牛市口街道</td>\n",
       "      <td>武侯区</td>\n",
       "      <td>芳草街街道</td>\n",
       "    </tr>\n",
       "  </tbody>\n",
       "</table>\n",
       "<p>8566145 rows × 14 columns</p>\n",
       "</div>"
      ],
      "text/plain": [
       "              card_no       enstation_time enstation_name  orientation  \\\n",
       "0        1.000000e+15  2022-11-03 18:12:15            新鸿路          2.0   \n",
       "1        1.000000e+15  2022-11-03 07:13:01          文家大道南          1.0   \n",
       "2        1.000000e+15  2022-11-03 08:02:53           凯德风尚          1.0   \n",
       "3        1.000000e+15  2022-11-03 17:49:07          繁清家具厂          2.0   \n",
       "4        1.000000e+15  2022-11-03 17:43:10            西御街          1.0   \n",
       "...               ...                  ...            ...          ...   \n",
       "8566140  3.105170e+18  2022-11-15 09:03:56        安靖快铁公交站          1.0   \n",
       "8566141  3.105170e+18  2022-11-15 18:11:43          民兴北一路          2.0   \n",
       "8566142  3.105170e+18  2022-11-15 08:16:45            红牌楼          1.0   \n",
       "8566143  3.105170e+18  2022-11-15 08:38:28           高攀路口          2.0   \n",
       "8566144  3.105170e+18  2022-11-15 08:17:09            双桥子          2.0   \n",
       "\n",
       "        line_name       lon1       lat1 exstation_name        lon2       lat2  \\\n",
       "0              71  104.10720  30.661700           小龙桥路  104.110880  30.659771   \n",
       "1             232  103.94210  30.693420       文家大道成温路口  103.940245  30.689269   \n",
       "2             309  103.95750  30.668860      光华大道一段东二站  103.952034  30.668457   \n",
       "3             316  104.03617  30.796137           新泉路口  104.042276  30.715166   \n",
       "4              13  104.06270  30.656330           清波社区  103.986536  30.681534   \n",
       "...           ...        ...        ...            ...         ...        ...   \n",
       "8566140       143  104.03520  30.736160       地铁金华寺东路站  104.124843  30.769408   \n",
       "8566141        14  104.15810  30.683370           华泰路北  104.166534  30.696355   \n",
       "8566142        45  104.03220  30.636030            国学巷  104.062633  30.643799   \n",
       "8566143       121  104.08260  30.607750        府城大道一医院  104.054012  30.588427   \n",
       "8566144       141  104.10520  30.645790         地铁衣冠庙站  104.053623  30.633647   \n",
       "\n",
       "        enstation_district enstation_street exstation_district  \\\n",
       "0                      成华区            双桥子街道                成华区   \n",
       "1                      青羊区            黄田坝街道                青羊区   \n",
       "2                      青羊区             蔡桥街道                青羊区   \n",
       "3                      新都区             大丰街道                金牛区   \n",
       "4                      青羊区            西御河街道                青羊区   \n",
       "...                    ...              ...                ...   \n",
       "8566140                金牛区            沙河源街道                新都区   \n",
       "8566141                成华区             龙潭街道                成华区   \n",
       "8566142                武侯区            浆洗街街道                武侯区   \n",
       "8566143                武侯区             桂溪街道                武侯区   \n",
       "8566144                锦江区            牛市口街道                武侯区   \n",
       "\n",
       "        exstation_street  \n",
       "0                  双桥子街道  \n",
       "1                   蔡桥街道  \n",
       "2                   蔡桥街道  \n",
       "3                  九里堤街道  \n",
       "4                   苏坡街道  \n",
       "...                  ...  \n",
       "8566140             三河街道  \n",
       "8566141             龙潭街道  \n",
       "8566142             玉林街道  \n",
       "8566143             石羊街道  \n",
       "8566144            芳草街街道  \n",
       "\n",
       "[8566145 rows x 14 columns]"
      ]
     },
     "execution_count": 3,
     "metadata": {},
     "output_type": "execute_result"
    }
   ],
   "source": [
    "data"
   ]
  },
  {
   "cell_type": "code",
   "execution_count": null,
   "id": "41c7d049",
   "metadata": {
    "ExecuteTime": {
     "end_time": "2023-12-18T03:20:15.742984Z",
     "start_time": "2023-12-18T03:20:15.742984Z"
    }
   },
   "outputs": [],
   "source": [
    "data = data.dropna(subset=['enstation_street','exstation_street']).reset_index(drop=True)"
   ]
  },
  {
   "cell_type": "code",
   "execution_count": 4,
   "id": "878ca5e3",
   "metadata": {
    "ExecuteTime": {
     "end_time": "2023-12-18T03:22:38.584547Z",
     "start_time": "2023-12-18T03:22:38.562602Z"
    }
   },
   "outputs": [],
   "source": [
    "POI = pd.read_csv('POI_count_all.csv',encoding='gbk')"
   ]
  },
  {
   "cell_type": "code",
   "execution_count": 5,
   "id": "0e61b319",
   "metadata": {
    "ExecuteTime": {
     "end_time": "2023-12-18T03:22:40.460849Z",
     "start_time": "2023-12-18T03:22:40.057661Z"
    }
   },
   "outputs": [],
   "source": [
    "POI.drop_duplicates(inplace=True)"
   ]
  },
  {
   "cell_type": "code",
   "execution_count": 6,
   "id": "427e7bbd",
   "metadata": {
    "ExecuteTime": {
     "end_time": "2023-12-18T03:22:59.384021Z",
     "start_time": "2023-12-18T03:22:58.714423Z"
    }
   },
   "outputs": [],
   "source": [
    "data[[POI['type'].unique()]] = 0"
   ]
  },
  {
   "cell_type": "code",
   "execution_count": 7,
   "id": "affda48b",
   "metadata": {
    "ExecuteTime": {
     "end_time": "2023-12-18T03:22:59.915705Z",
     "start_time": "2023-12-18T03:22:59.877808Z"
    },
    "scrolled": true
   },
   "outputs": [
    {
     "data": {
      "text/html": [
       "<div>\n",
       "<style scoped>\n",
       "    .dataframe tbody tr th:only-of-type {\n",
       "        vertical-align: middle;\n",
       "    }\n",
       "\n",
       "    .dataframe tbody tr th {\n",
       "        vertical-align: top;\n",
       "    }\n",
       "\n",
       "    .dataframe thead th {\n",
       "        text-align: right;\n",
       "    }\n",
       "</style>\n",
       "<table border=\"1\" class=\"dataframe\">\n",
       "  <thead>\n",
       "    <tr style=\"text-align: right;\">\n",
       "      <th></th>\n",
       "      <th>card_no</th>\n",
       "      <th>enstation_time</th>\n",
       "      <th>enstation_name</th>\n",
       "      <th>orientation</th>\n",
       "      <th>line_name</th>\n",
       "      <th>lon1</th>\n",
       "      <th>lat1</th>\n",
       "      <th>exstation_name</th>\n",
       "      <th>lon2</th>\n",
       "      <th>lat2</th>\n",
       "      <th>enstation_district</th>\n",
       "      <th>enstation_street</th>\n",
       "      <th>exstation_district</th>\n",
       "      <th>exstation_street</th>\n",
       "      <th>餐饮服务</th>\n",
       "      <th>道路附属设施</th>\n",
       "      <th>风景名胜</th>\n",
       "      <th>公司企业</th>\n",
       "      <th>购物服务</th>\n",
       "      <th>交通设施服务</th>\n",
       "      <th>金融保险服务</th>\n",
       "      <th>科教文化服务</th>\n",
       "      <th>摩托车服务</th>\n",
       "      <th>汽车服务</th>\n",
       "      <th>汽车维修</th>\n",
       "      <th>汽车销售</th>\n",
       "      <th>商务住宅</th>\n",
       "      <th>生活服务</th>\n",
       "      <th>体育休闲服务</th>\n",
       "      <th>医疗保健服务</th>\n",
       "      <th>住宿服务</th>\n",
       "      <th>政府机构及社会团体</th>\n",
       "      <th>公共设施</th>\n",
       "      <th>通行设施</th>\n",
       "    </tr>\n",
       "  </thead>\n",
       "  <tbody>\n",
       "    <tr>\n",
       "      <th>0</th>\n",
       "      <td>1.000000e+15</td>\n",
       "      <td>2022-11-03 18:12:15</td>\n",
       "      <td>新鸿路</td>\n",
       "      <td>2.0</td>\n",
       "      <td>71</td>\n",
       "      <td>104.10720</td>\n",
       "      <td>30.661700</td>\n",
       "      <td>小龙桥路</td>\n",
       "      <td>104.110880</td>\n",
       "      <td>30.659771</td>\n",
       "      <td>成华区</td>\n",
       "      <td>双桥子街道</td>\n",
       "      <td>成华区</td>\n",
       "      <td>双桥子街道</td>\n",
       "      <td>0</td>\n",
       "      <td>0</td>\n",
       "      <td>0</td>\n",
       "      <td>0</td>\n",
       "      <td>0</td>\n",
       "      <td>0</td>\n",
       "      <td>0</td>\n",
       "      <td>0</td>\n",
       "      <td>0</td>\n",
       "      <td>0</td>\n",
       "      <td>0</td>\n",
       "      <td>0</td>\n",
       "      <td>0</td>\n",
       "      <td>0</td>\n",
       "      <td>0</td>\n",
       "      <td>0</td>\n",
       "      <td>0</td>\n",
       "      <td>0</td>\n",
       "      <td>0</td>\n",
       "      <td>0</td>\n",
       "    </tr>\n",
       "    <tr>\n",
       "      <th>1</th>\n",
       "      <td>1.000000e+15</td>\n",
       "      <td>2022-11-03 07:13:01</td>\n",
       "      <td>文家大道南</td>\n",
       "      <td>1.0</td>\n",
       "      <td>232</td>\n",
       "      <td>103.94210</td>\n",
       "      <td>30.693420</td>\n",
       "      <td>文家大道成温路口</td>\n",
       "      <td>103.940245</td>\n",
       "      <td>30.689269</td>\n",
       "      <td>青羊区</td>\n",
       "      <td>黄田坝街道</td>\n",
       "      <td>青羊区</td>\n",
       "      <td>蔡桥街道</td>\n",
       "      <td>0</td>\n",
       "      <td>0</td>\n",
       "      <td>0</td>\n",
       "      <td>0</td>\n",
       "      <td>0</td>\n",
       "      <td>0</td>\n",
       "      <td>0</td>\n",
       "      <td>0</td>\n",
       "      <td>0</td>\n",
       "      <td>0</td>\n",
       "      <td>0</td>\n",
       "      <td>0</td>\n",
       "      <td>0</td>\n",
       "      <td>0</td>\n",
       "      <td>0</td>\n",
       "      <td>0</td>\n",
       "      <td>0</td>\n",
       "      <td>0</td>\n",
       "      <td>0</td>\n",
       "      <td>0</td>\n",
       "    </tr>\n",
       "    <tr>\n",
       "      <th>2</th>\n",
       "      <td>1.000000e+15</td>\n",
       "      <td>2022-11-03 08:02:53</td>\n",
       "      <td>凯德风尚</td>\n",
       "      <td>1.0</td>\n",
       "      <td>309</td>\n",
       "      <td>103.95750</td>\n",
       "      <td>30.668860</td>\n",
       "      <td>光华大道一段东二站</td>\n",
       "      <td>103.952034</td>\n",
       "      <td>30.668457</td>\n",
       "      <td>青羊区</td>\n",
       "      <td>蔡桥街道</td>\n",
       "      <td>青羊区</td>\n",
       "      <td>蔡桥街道</td>\n",
       "      <td>0</td>\n",
       "      <td>0</td>\n",
       "      <td>0</td>\n",
       "      <td>0</td>\n",
       "      <td>0</td>\n",
       "      <td>0</td>\n",
       "      <td>0</td>\n",
       "      <td>0</td>\n",
       "      <td>0</td>\n",
       "      <td>0</td>\n",
       "      <td>0</td>\n",
       "      <td>0</td>\n",
       "      <td>0</td>\n",
       "      <td>0</td>\n",
       "      <td>0</td>\n",
       "      <td>0</td>\n",
       "      <td>0</td>\n",
       "      <td>0</td>\n",
       "      <td>0</td>\n",
       "      <td>0</td>\n",
       "    </tr>\n",
       "    <tr>\n",
       "      <th>3</th>\n",
       "      <td>1.000000e+15</td>\n",
       "      <td>2022-11-03 17:49:07</td>\n",
       "      <td>繁清家具厂</td>\n",
       "      <td>2.0</td>\n",
       "      <td>316</td>\n",
       "      <td>104.03617</td>\n",
       "      <td>30.796137</td>\n",
       "      <td>新泉路口</td>\n",
       "      <td>104.042276</td>\n",
       "      <td>30.715166</td>\n",
       "      <td>新都区</td>\n",
       "      <td>大丰街道</td>\n",
       "      <td>金牛区</td>\n",
       "      <td>九里堤街道</td>\n",
       "      <td>0</td>\n",
       "      <td>0</td>\n",
       "      <td>0</td>\n",
       "      <td>0</td>\n",
       "      <td>0</td>\n",
       "      <td>0</td>\n",
       "      <td>0</td>\n",
       "      <td>0</td>\n",
       "      <td>0</td>\n",
       "      <td>0</td>\n",
       "      <td>0</td>\n",
       "      <td>0</td>\n",
       "      <td>0</td>\n",
       "      <td>0</td>\n",
       "      <td>0</td>\n",
       "      <td>0</td>\n",
       "      <td>0</td>\n",
       "      <td>0</td>\n",
       "      <td>0</td>\n",
       "      <td>0</td>\n",
       "    </tr>\n",
       "    <tr>\n",
       "      <th>4</th>\n",
       "      <td>1.000000e+15</td>\n",
       "      <td>2022-11-03 17:43:10</td>\n",
       "      <td>西御街</td>\n",
       "      <td>1.0</td>\n",
       "      <td>13</td>\n",
       "      <td>104.06270</td>\n",
       "      <td>30.656330</td>\n",
       "      <td>清波社区</td>\n",
       "      <td>103.986536</td>\n",
       "      <td>30.681534</td>\n",
       "      <td>青羊区</td>\n",
       "      <td>西御河街道</td>\n",
       "      <td>青羊区</td>\n",
       "      <td>苏坡街道</td>\n",
       "      <td>0</td>\n",
       "      <td>0</td>\n",
       "      <td>0</td>\n",
       "      <td>0</td>\n",
       "      <td>0</td>\n",
       "      <td>0</td>\n",
       "      <td>0</td>\n",
       "      <td>0</td>\n",
       "      <td>0</td>\n",
       "      <td>0</td>\n",
       "      <td>0</td>\n",
       "      <td>0</td>\n",
       "      <td>0</td>\n",
       "      <td>0</td>\n",
       "      <td>0</td>\n",
       "      <td>0</td>\n",
       "      <td>0</td>\n",
       "      <td>0</td>\n",
       "      <td>0</td>\n",
       "      <td>0</td>\n",
       "    </tr>\n",
       "    <tr>\n",
       "      <th>...</th>\n",
       "      <td>...</td>\n",
       "      <td>...</td>\n",
       "      <td>...</td>\n",
       "      <td>...</td>\n",
       "      <td>...</td>\n",
       "      <td>...</td>\n",
       "      <td>...</td>\n",
       "      <td>...</td>\n",
       "      <td>...</td>\n",
       "      <td>...</td>\n",
       "      <td>...</td>\n",
       "      <td>...</td>\n",
       "      <td>...</td>\n",
       "      <td>...</td>\n",
       "      <td>...</td>\n",
       "      <td>...</td>\n",
       "      <td>...</td>\n",
       "      <td>...</td>\n",
       "      <td>...</td>\n",
       "      <td>...</td>\n",
       "      <td>...</td>\n",
       "      <td>...</td>\n",
       "      <td>...</td>\n",
       "      <td>...</td>\n",
       "      <td>...</td>\n",
       "      <td>...</td>\n",
       "      <td>...</td>\n",
       "      <td>...</td>\n",
       "      <td>...</td>\n",
       "      <td>...</td>\n",
       "      <td>...</td>\n",
       "      <td>...</td>\n",
       "      <td>...</td>\n",
       "      <td>...</td>\n",
       "    </tr>\n",
       "    <tr>\n",
       "      <th>8566140</th>\n",
       "      <td>3.105170e+18</td>\n",
       "      <td>2022-11-15 09:03:56</td>\n",
       "      <td>安靖快铁公交站</td>\n",
       "      <td>1.0</td>\n",
       "      <td>143</td>\n",
       "      <td>104.03520</td>\n",
       "      <td>30.736160</td>\n",
       "      <td>地铁金华寺东路站</td>\n",
       "      <td>104.124843</td>\n",
       "      <td>30.769408</td>\n",
       "      <td>金牛区</td>\n",
       "      <td>沙河源街道</td>\n",
       "      <td>新都区</td>\n",
       "      <td>三河街道</td>\n",
       "      <td>0</td>\n",
       "      <td>0</td>\n",
       "      <td>0</td>\n",
       "      <td>0</td>\n",
       "      <td>0</td>\n",
       "      <td>0</td>\n",
       "      <td>0</td>\n",
       "      <td>0</td>\n",
       "      <td>0</td>\n",
       "      <td>0</td>\n",
       "      <td>0</td>\n",
       "      <td>0</td>\n",
       "      <td>0</td>\n",
       "      <td>0</td>\n",
       "      <td>0</td>\n",
       "      <td>0</td>\n",
       "      <td>0</td>\n",
       "      <td>0</td>\n",
       "      <td>0</td>\n",
       "      <td>0</td>\n",
       "    </tr>\n",
       "    <tr>\n",
       "      <th>8566141</th>\n",
       "      <td>3.105170e+18</td>\n",
       "      <td>2022-11-15 18:11:43</td>\n",
       "      <td>民兴北一路</td>\n",
       "      <td>2.0</td>\n",
       "      <td>14</td>\n",
       "      <td>104.15810</td>\n",
       "      <td>30.683370</td>\n",
       "      <td>华泰路北</td>\n",
       "      <td>104.166534</td>\n",
       "      <td>30.696355</td>\n",
       "      <td>成华区</td>\n",
       "      <td>龙潭街道</td>\n",
       "      <td>成华区</td>\n",
       "      <td>龙潭街道</td>\n",
       "      <td>0</td>\n",
       "      <td>0</td>\n",
       "      <td>0</td>\n",
       "      <td>0</td>\n",
       "      <td>0</td>\n",
       "      <td>0</td>\n",
       "      <td>0</td>\n",
       "      <td>0</td>\n",
       "      <td>0</td>\n",
       "      <td>0</td>\n",
       "      <td>0</td>\n",
       "      <td>0</td>\n",
       "      <td>0</td>\n",
       "      <td>0</td>\n",
       "      <td>0</td>\n",
       "      <td>0</td>\n",
       "      <td>0</td>\n",
       "      <td>0</td>\n",
       "      <td>0</td>\n",
       "      <td>0</td>\n",
       "    </tr>\n",
       "    <tr>\n",
       "      <th>8566142</th>\n",
       "      <td>3.105170e+18</td>\n",
       "      <td>2022-11-15 08:16:45</td>\n",
       "      <td>红牌楼</td>\n",
       "      <td>1.0</td>\n",
       "      <td>45</td>\n",
       "      <td>104.03220</td>\n",
       "      <td>30.636030</td>\n",
       "      <td>国学巷</td>\n",
       "      <td>104.062633</td>\n",
       "      <td>30.643799</td>\n",
       "      <td>武侯区</td>\n",
       "      <td>浆洗街街道</td>\n",
       "      <td>武侯区</td>\n",
       "      <td>玉林街道</td>\n",
       "      <td>0</td>\n",
       "      <td>0</td>\n",
       "      <td>0</td>\n",
       "      <td>0</td>\n",
       "      <td>0</td>\n",
       "      <td>0</td>\n",
       "      <td>0</td>\n",
       "      <td>0</td>\n",
       "      <td>0</td>\n",
       "      <td>0</td>\n",
       "      <td>0</td>\n",
       "      <td>0</td>\n",
       "      <td>0</td>\n",
       "      <td>0</td>\n",
       "      <td>0</td>\n",
       "      <td>0</td>\n",
       "      <td>0</td>\n",
       "      <td>0</td>\n",
       "      <td>0</td>\n",
       "      <td>0</td>\n",
       "    </tr>\n",
       "    <tr>\n",
       "      <th>8566143</th>\n",
       "      <td>3.105170e+18</td>\n",
       "      <td>2022-11-15 08:38:28</td>\n",
       "      <td>高攀路口</td>\n",
       "      <td>2.0</td>\n",
       "      <td>121</td>\n",
       "      <td>104.08260</td>\n",
       "      <td>30.607750</td>\n",
       "      <td>府城大道一医院</td>\n",
       "      <td>104.054012</td>\n",
       "      <td>30.588427</td>\n",
       "      <td>武侯区</td>\n",
       "      <td>桂溪街道</td>\n",
       "      <td>武侯区</td>\n",
       "      <td>石羊街道</td>\n",
       "      <td>0</td>\n",
       "      <td>0</td>\n",
       "      <td>0</td>\n",
       "      <td>0</td>\n",
       "      <td>0</td>\n",
       "      <td>0</td>\n",
       "      <td>0</td>\n",
       "      <td>0</td>\n",
       "      <td>0</td>\n",
       "      <td>0</td>\n",
       "      <td>0</td>\n",
       "      <td>0</td>\n",
       "      <td>0</td>\n",
       "      <td>0</td>\n",
       "      <td>0</td>\n",
       "      <td>0</td>\n",
       "      <td>0</td>\n",
       "      <td>0</td>\n",
       "      <td>0</td>\n",
       "      <td>0</td>\n",
       "    </tr>\n",
       "    <tr>\n",
       "      <th>8566144</th>\n",
       "      <td>3.105170e+18</td>\n",
       "      <td>2022-11-15 08:17:09</td>\n",
       "      <td>双桥子</td>\n",
       "      <td>2.0</td>\n",
       "      <td>141</td>\n",
       "      <td>104.10520</td>\n",
       "      <td>30.645790</td>\n",
       "      <td>地铁衣冠庙站</td>\n",
       "      <td>104.053623</td>\n",
       "      <td>30.633647</td>\n",
       "      <td>锦江区</td>\n",
       "      <td>牛市口街道</td>\n",
       "      <td>武侯区</td>\n",
       "      <td>芳草街街道</td>\n",
       "      <td>0</td>\n",
       "      <td>0</td>\n",
       "      <td>0</td>\n",
       "      <td>0</td>\n",
       "      <td>0</td>\n",
       "      <td>0</td>\n",
       "      <td>0</td>\n",
       "      <td>0</td>\n",
       "      <td>0</td>\n",
       "      <td>0</td>\n",
       "      <td>0</td>\n",
       "      <td>0</td>\n",
       "      <td>0</td>\n",
       "      <td>0</td>\n",
       "      <td>0</td>\n",
       "      <td>0</td>\n",
       "      <td>0</td>\n",
       "      <td>0</td>\n",
       "      <td>0</td>\n",
       "      <td>0</td>\n",
       "    </tr>\n",
       "  </tbody>\n",
       "</table>\n",
       "<p>8566145 rows × 34 columns</p>\n",
       "</div>"
      ],
      "text/plain": [
       "              card_no       enstation_time enstation_name  orientation  \\\n",
       "0        1.000000e+15  2022-11-03 18:12:15            新鸿路          2.0   \n",
       "1        1.000000e+15  2022-11-03 07:13:01          文家大道南          1.0   \n",
       "2        1.000000e+15  2022-11-03 08:02:53           凯德风尚          1.0   \n",
       "3        1.000000e+15  2022-11-03 17:49:07          繁清家具厂          2.0   \n",
       "4        1.000000e+15  2022-11-03 17:43:10            西御街          1.0   \n",
       "...               ...                  ...            ...          ...   \n",
       "8566140  3.105170e+18  2022-11-15 09:03:56        安靖快铁公交站          1.0   \n",
       "8566141  3.105170e+18  2022-11-15 18:11:43          民兴北一路          2.0   \n",
       "8566142  3.105170e+18  2022-11-15 08:16:45            红牌楼          1.0   \n",
       "8566143  3.105170e+18  2022-11-15 08:38:28           高攀路口          2.0   \n",
       "8566144  3.105170e+18  2022-11-15 08:17:09            双桥子          2.0   \n",
       "\n",
       "        line_name       lon1       lat1 exstation_name        lon2       lat2  \\\n",
       "0              71  104.10720  30.661700           小龙桥路  104.110880  30.659771   \n",
       "1             232  103.94210  30.693420       文家大道成温路口  103.940245  30.689269   \n",
       "2             309  103.95750  30.668860      光华大道一段东二站  103.952034  30.668457   \n",
       "3             316  104.03617  30.796137           新泉路口  104.042276  30.715166   \n",
       "4              13  104.06270  30.656330           清波社区  103.986536  30.681534   \n",
       "...           ...        ...        ...            ...         ...        ...   \n",
       "8566140       143  104.03520  30.736160       地铁金华寺东路站  104.124843  30.769408   \n",
       "8566141        14  104.15810  30.683370           华泰路北  104.166534  30.696355   \n",
       "8566142        45  104.03220  30.636030            国学巷  104.062633  30.643799   \n",
       "8566143       121  104.08260  30.607750        府城大道一医院  104.054012  30.588427   \n",
       "8566144       141  104.10520  30.645790         地铁衣冠庙站  104.053623  30.633647   \n",
       "\n",
       "        enstation_district enstation_street exstation_district  \\\n",
       "0                      成华区            双桥子街道                成华区   \n",
       "1                      青羊区            黄田坝街道                青羊区   \n",
       "2                      青羊区             蔡桥街道                青羊区   \n",
       "3                      新都区             大丰街道                金牛区   \n",
       "4                      青羊区            西御河街道                青羊区   \n",
       "...                    ...              ...                ...   \n",
       "8566140                金牛区            沙河源街道                新都区   \n",
       "8566141                成华区             龙潭街道                成华区   \n",
       "8566142                武侯区            浆洗街街道                武侯区   \n",
       "8566143                武侯区             桂溪街道                武侯区   \n",
       "8566144                锦江区            牛市口街道                武侯区   \n",
       "\n",
       "        exstation_street  餐饮服务  道路附属设施  风景名胜  公司企业  购物服务  交通设施服务  金融保险服务  \\\n",
       "0                  双桥子街道     0       0     0     0     0       0       0   \n",
       "1                   蔡桥街道     0       0     0     0     0       0       0   \n",
       "2                   蔡桥街道     0       0     0     0     0       0       0   \n",
       "3                  九里堤街道     0       0     0     0     0       0       0   \n",
       "4                   苏坡街道     0       0     0     0     0       0       0   \n",
       "...                  ...   ...     ...   ...   ...   ...     ...     ...   \n",
       "8566140             三河街道     0       0     0     0     0       0       0   \n",
       "8566141             龙潭街道     0       0     0     0     0       0       0   \n",
       "8566142             玉林街道     0       0     0     0     0       0       0   \n",
       "8566143             石羊街道     0       0     0     0     0       0       0   \n",
       "8566144            芳草街街道     0       0     0     0     0       0       0   \n",
       "\n",
       "         科教文化服务  摩托车服务  汽车服务  汽车维修  汽车销售  商务住宅  生活服务  体育休闲服务  医疗保健服务  住宿服务  \\\n",
       "0             0      0     0     0     0     0     0       0       0     0   \n",
       "1             0      0     0     0     0     0     0       0       0     0   \n",
       "2             0      0     0     0     0     0     0       0       0     0   \n",
       "3             0      0     0     0     0     0     0       0       0     0   \n",
       "4             0      0     0     0     0     0     0       0       0     0   \n",
       "...         ...    ...   ...   ...   ...   ...   ...     ...     ...   ...   \n",
       "8566140       0      0     0     0     0     0     0       0       0     0   \n",
       "8566141       0      0     0     0     0     0     0       0       0     0   \n",
       "8566142       0      0     0     0     0     0     0       0       0     0   \n",
       "8566143       0      0     0     0     0     0     0       0       0     0   \n",
       "8566144       0      0     0     0     0     0     0       0       0     0   \n",
       "\n",
       "         政府机构及社会团体  公共设施  通行设施  \n",
       "0                0     0     0  \n",
       "1                0     0     0  \n",
       "2                0     0     0  \n",
       "3                0     0     0  \n",
       "4                0     0     0  \n",
       "...            ...   ...   ...  \n",
       "8566140          0     0     0  \n",
       "8566141          0     0     0  \n",
       "8566142          0     0     0  \n",
       "8566143          0     0     0  \n",
       "8566144          0     0     0  \n",
       "\n",
       "[8566145 rows x 34 columns]"
      ]
     },
     "execution_count": 7,
     "metadata": {},
     "output_type": "execute_result"
    }
   ],
   "source": [
    "data"
   ]
  },
  {
   "cell_type": "code",
   "execution_count": 8,
   "id": "ad2a2c04",
   "metadata": {
    "ExecuteTime": {
     "end_time": "2023-12-18T03:23:15.822518Z",
     "start_time": "2023-12-18T03:23:15.813543Z"
    }
   },
   "outputs": [],
   "source": [
    "col = np.append('street',POI['type'].unique())"
   ]
  },
  {
   "cell_type": "code",
   "execution_count": 9,
   "id": "54f89fce",
   "metadata": {
    "ExecuteTime": {
     "end_time": "2023-12-18T03:23:16.025475Z",
     "start_time": "2023-12-18T03:23:16.012509Z"
    }
   },
   "outputs": [
    {
     "data": {
      "text/plain": [
       "array(['street', '餐饮服务', '道路附属设施', '风景名胜', '公司企业', '购物服务', '交通设施服务',\n",
       "       '金融保险服务', '科教文化服务', '摩托车服务', '汽车服务', '汽车维修', '汽车销售', '商务住宅',\n",
       "       '生活服务', '体育休闲服务', '医疗保健服务', '住宿服务', '政府机构及社会团体', '公共设施', '通行设施'],\n",
       "      dtype=object)"
      ]
     },
     "execution_count": 9,
     "metadata": {},
     "output_type": "execute_result"
    }
   ],
   "source": [
    "col"
   ]
  },
  {
   "cell_type": "code",
   "execution_count": 10,
   "id": "403f8983",
   "metadata": {
    "ExecuteTime": {
     "end_time": "2023-12-18T03:23:28.538380Z",
     "start_time": "2023-12-18T03:23:28.527410Z"
    }
   },
   "outputs": [],
   "source": [
    "POI_test = pd.DataFrame(columns=col)"
   ]
  },
  {
   "cell_type": "code",
   "execution_count": 11,
   "id": "f3575c1d",
   "metadata": {
    "ExecuteTime": {
     "end_time": "2023-12-18T03:23:28.723621Z",
     "start_time": "2023-12-18T03:23:28.696706Z"
    },
    "scrolled": true
   },
   "outputs": [
    {
     "data": {
      "text/html": [
       "<div>\n",
       "<style scoped>\n",
       "    .dataframe tbody tr th:only-of-type {\n",
       "        vertical-align: middle;\n",
       "    }\n",
       "\n",
       "    .dataframe tbody tr th {\n",
       "        vertical-align: top;\n",
       "    }\n",
       "\n",
       "    .dataframe thead th {\n",
       "        text-align: right;\n",
       "    }\n",
       "</style>\n",
       "<table border=\"1\" class=\"dataframe\">\n",
       "  <thead>\n",
       "    <tr style=\"text-align: right;\">\n",
       "      <th></th>\n",
       "      <th>type</th>\n",
       "      <th>streets</th>\n",
       "      <th>region</th>\n",
       "      <th>amount</th>\n",
       "    </tr>\n",
       "  </thead>\n",
       "  <tbody>\n",
       "    <tr>\n",
       "      <th>0</th>\n",
       "      <td>餐饮服务</td>\n",
       "      <td>沙河街道</td>\n",
       "      <td>锦江区</td>\n",
       "      <td>418</td>\n",
       "    </tr>\n",
       "    <tr>\n",
       "      <th>1</th>\n",
       "      <td>道路附属设施</td>\n",
       "      <td>沙河街道</td>\n",
       "      <td>锦江区</td>\n",
       "      <td>0</td>\n",
       "    </tr>\n",
       "    <tr>\n",
       "      <th>2</th>\n",
       "      <td>风景名胜</td>\n",
       "      <td>沙河街道</td>\n",
       "      <td>锦江区</td>\n",
       "      <td>7</td>\n",
       "    </tr>\n",
       "    <tr>\n",
       "      <th>3</th>\n",
       "      <td>公司企业</td>\n",
       "      <td>沙河街道</td>\n",
       "      <td>锦江区</td>\n",
       "      <td>205</td>\n",
       "    </tr>\n",
       "    <tr>\n",
       "      <th>4</th>\n",
       "      <td>购物服务</td>\n",
       "      <td>沙河街道</td>\n",
       "      <td>锦江区</td>\n",
       "      <td>674</td>\n",
       "    </tr>\n",
       "    <tr>\n",
       "      <th>...</th>\n",
       "      <td>...</td>\n",
       "      <td>...</td>\n",
       "      <td>...</td>\n",
       "      <td>...</td>\n",
       "    </tr>\n",
       "    <tr>\n",
       "      <th>2535</th>\n",
       "      <td>医疗保健服务</td>\n",
       "      <td>宝墩镇</td>\n",
       "      <td>新津区</td>\n",
       "      <td>8</td>\n",
       "    </tr>\n",
       "    <tr>\n",
       "      <th>2536</th>\n",
       "      <td>住宿服务</td>\n",
       "      <td>宝墩镇</td>\n",
       "      <td>新津区</td>\n",
       "      <td>1</td>\n",
       "    </tr>\n",
       "    <tr>\n",
       "      <th>2537</th>\n",
       "      <td>政府机构及社会团体</td>\n",
       "      <td>宝墩镇</td>\n",
       "      <td>新津区</td>\n",
       "      <td>35</td>\n",
       "    </tr>\n",
       "    <tr>\n",
       "      <th>2539</th>\n",
       "      <td>公共设施</td>\n",
       "      <td>宝墩镇</td>\n",
       "      <td>新津区</td>\n",
       "      <td>0</td>\n",
       "    </tr>\n",
       "    <tr>\n",
       "      <th>2540</th>\n",
       "      <td>通行设施</td>\n",
       "      <td>宝墩镇</td>\n",
       "      <td>新津区</td>\n",
       "      <td>0</td>\n",
       "    </tr>\n",
       "  </tbody>\n",
       "</table>\n",
       "<p>2420 rows × 4 columns</p>\n",
       "</div>"
      ],
      "text/plain": [
       "           type streets region  amount\n",
       "0          餐饮服务    沙河街道    锦江区     418\n",
       "1        道路附属设施    沙河街道    锦江区       0\n",
       "2          风景名胜    沙河街道    锦江区       7\n",
       "3          公司企业    沙河街道    锦江区     205\n",
       "4          购物服务    沙河街道    锦江区     674\n",
       "...         ...     ...    ...     ...\n",
       "2535     医疗保健服务     宝墩镇    新津区       8\n",
       "2536       住宿服务     宝墩镇    新津区       1\n",
       "2537  政府机构及社会团体     宝墩镇    新津区      35\n",
       "2539       公共设施     宝墩镇    新津区       0\n",
       "2540       通行设施     宝墩镇    新津区       0\n",
       "\n",
       "[2420 rows x 4 columns]"
      ]
     },
     "execution_count": 11,
     "metadata": {},
     "output_type": "execute_result"
    }
   ],
   "source": [
    "POI"
   ]
  },
  {
   "cell_type": "code",
   "execution_count": 12,
   "id": "22498552",
   "metadata": {
    "ExecuteTime": {
     "end_time": "2023-12-18T03:23:33.420785Z",
     "start_time": "2023-12-18T03:23:33.402809Z"
    }
   },
   "outputs": [
    {
     "data": {
      "text/plain": [
       "array(['沙河街道', '柳江街道', '三圣街道', '春熙路街道', '书院街街道', '?牛市口街道', '狮子山街道',\n",
       "       '成龙路街道', '锦官驿街道', '东湖街道', '锦华路街道', '少城街道', '府南街道', '草堂街道', '光华街道',\n",
       "       '金沙街道', '苏坡街道', '文家街道', '草市街街道', '西御河街道', '黄田坝街道', '蔡桥街道', '康河街道',\n",
       "       '抚琴街道', '西华街道', '金泉街道', '茶店子街道', '营门口街道', '九里堤街道', '五块石街道',\n",
       "       '荷花池街道', '驷马桥街道', '西安路街道', '天回镇街道', '沙河源街道', '凤凰山街道', '玉林街道',\n",
       "       '晋阳街道', '簇桥街道', '簇锦街道', '华兴街道', '望江路街道', '浆洗街街道', '红牌楼街道', '机投桥街道',\n",
       "       '金花桥街道', '火车南站街道', '芳草街街道', '石羊街道', '桂溪街道', '肖家河街道', '保和街道',\n",
       "       '青龙街道', '龙潭街道', '猛追湾街道', '双桥子街道', '白莲池街道', '府青路街道', '跳蹬河街道',\n",
       "       '万年场街道', '二仙桥街道', '双水碾街道', '龙泉街道', '大面街道', '十陵街道', '同安街道', '东安街道',\n",
       "       '西河街道', '柏合街道', '大弯街道', '大同街道', '大丰街道', '三河街道', '新都街道', '桂湖街道',\n",
       "       '新繁街道', '石板滩街道', '斑竹园街道', '柳城街道', '天府街道', '涌泉街道', '公平街道', '金马街道',\n",
       "       '永宁街道', '郫筒街道', '合作街道', '西园街道', '安德街道', '红光街道', '犀浦街道', '德源街道',\n",
       "       '安靖街道', '团结街道', '五津街道', '普兴街道', '花桥街道', '花源街道', '洛带镇', '洪安镇',\n",
       "       '山泉镇', '弥牟镇', '城厢镇', '清泉镇', '姚渡镇', '福洪镇', '清流镇', '军屯镇', '万春镇',\n",
       "       '寿安镇', '和盛镇', '彭镇', '黄水镇', '永安镇', '黄龙溪镇', '唐昌镇', '友爱镇', '三道堰镇',\n",
       "       '安西镇', '兴义镇', '永商镇', '宝墩镇'], dtype=object)"
      ]
     },
     "execution_count": 12,
     "metadata": {},
     "output_type": "execute_result"
    }
   ],
   "source": [
    "POI['streets'].unique()"
   ]
  },
  {
   "cell_type": "code",
   "execution_count": 13,
   "id": "79c28562",
   "metadata": {
    "ExecuteTime": {
     "end_time": "2023-12-18T03:23:39.890198Z",
     "start_time": "2023-12-18T03:23:39.414602Z"
    }
   },
   "outputs": [],
   "source": [
    "i = 0\n",
    "for street in POI['streets'].unique():\n",
    "    data_POI = POI[POI['streets'] == street]['amount']\n",
    "    data_POI = np.append(street,data_POI)\n",
    "    POI_test.loc[i] = data_POI\n",
    "    i += 1 "
   ]
  },
  {
   "cell_type": "code",
   "execution_count": 14,
   "id": "c086b655",
   "metadata": {
    "ExecuteTime": {
     "end_time": "2023-12-18T03:23:42.547436Z",
     "start_time": "2023-12-18T03:23:42.533447Z"
    }
   },
   "outputs": [],
   "source": [
    "POI_test = POI_test.set_index('street')"
   ]
  },
  {
   "cell_type": "code",
   "execution_count": 15,
   "id": "6019896e",
   "metadata": {
    "ExecuteTime": {
     "end_time": "2023-12-18T03:23:42.934639Z",
     "start_time": "2023-12-18T03:23:42.924634Z"
    }
   },
   "outputs": [],
   "source": [
    "POI_test.reset_index(inplace=True)"
   ]
  },
  {
   "cell_type": "code",
   "execution_count": 25,
   "id": "4f59e703",
   "metadata": {
    "ExecuteTime": {
     "end_time": "2023-12-18T03:28:00.200104Z",
     "start_time": "2023-12-18T03:28:00.188167Z"
    },
    "scrolled": true
   },
   "outputs": [],
   "source": [
    "POI_test.loc[5,'street'] = '牛市口街道'"
   ]
  },
  {
   "cell_type": "code",
   "execution_count": 27,
   "id": "247a7d3a",
   "metadata": {
    "ExecuteTime": {
     "end_time": "2023-12-18T03:28:10.450650Z",
     "start_time": "2023-12-18T03:28:10.418759Z"
    }
   },
   "outputs": [
    {
     "data": {
      "text/html": [
       "<div>\n",
       "<style scoped>\n",
       "    .dataframe tbody tr th:only-of-type {\n",
       "        vertical-align: middle;\n",
       "    }\n",
       "\n",
       "    .dataframe tbody tr th {\n",
       "        vertical-align: top;\n",
       "    }\n",
       "\n",
       "    .dataframe thead th {\n",
       "        text-align: right;\n",
       "    }\n",
       "</style>\n",
       "<table border=\"1\" class=\"dataframe\">\n",
       "  <thead>\n",
       "    <tr style=\"text-align: right;\">\n",
       "      <th></th>\n",
       "      <th>street</th>\n",
       "      <th>餐饮服务</th>\n",
       "      <th>道路附属设施</th>\n",
       "      <th>风景名胜</th>\n",
       "      <th>公司企业</th>\n",
       "      <th>购物服务</th>\n",
       "      <th>交通设施服务</th>\n",
       "      <th>金融保险服务</th>\n",
       "      <th>科教文化服务</th>\n",
       "      <th>摩托车服务</th>\n",
       "      <th>汽车服务</th>\n",
       "      <th>汽车维修</th>\n",
       "      <th>汽车销售</th>\n",
       "      <th>商务住宅</th>\n",
       "      <th>生活服务</th>\n",
       "      <th>体育休闲服务</th>\n",
       "      <th>医疗保健服务</th>\n",
       "      <th>住宿服务</th>\n",
       "      <th>政府机构及社会团体</th>\n",
       "      <th>公共设施</th>\n",
       "      <th>通行设施</th>\n",
       "    </tr>\n",
       "  </thead>\n",
       "  <tbody>\n",
       "    <tr>\n",
       "      <th>0</th>\n",
       "      <td>沙河街道</td>\n",
       "      <td>418</td>\n",
       "      <td>0</td>\n",
       "      <td>7</td>\n",
       "      <td>205</td>\n",
       "      <td>674</td>\n",
       "      <td>95</td>\n",
       "      <td>13</td>\n",
       "      <td>54</td>\n",
       "      <td>3</td>\n",
       "      <td>24</td>\n",
       "      <td>14</td>\n",
       "      <td>3</td>\n",
       "      <td>52</td>\n",
       "      <td>453</td>\n",
       "      <td>47</td>\n",
       "      <td>104</td>\n",
       "      <td>62</td>\n",
       "      <td>113</td>\n",
       "      <td>6</td>\n",
       "      <td>0</td>\n",
       "    </tr>\n",
       "    <tr>\n",
       "      <th>1</th>\n",
       "      <td>柳江街道</td>\n",
       "      <td>270</td>\n",
       "      <td>0</td>\n",
       "      <td>1</td>\n",
       "      <td>117</td>\n",
       "      <td>315</td>\n",
       "      <td>143</td>\n",
       "      <td>9</td>\n",
       "      <td>36</td>\n",
       "      <td>5</td>\n",
       "      <td>54</td>\n",
       "      <td>23</td>\n",
       "      <td>7</td>\n",
       "      <td>50</td>\n",
       "      <td>355</td>\n",
       "      <td>49</td>\n",
       "      <td>80</td>\n",
       "      <td>21</td>\n",
       "      <td>78</td>\n",
       "      <td>6</td>\n",
       "      <td>0</td>\n",
       "    </tr>\n",
       "    <tr>\n",
       "      <th>2</th>\n",
       "      <td>三圣街道</td>\n",
       "      <td>353</td>\n",
       "      <td>0</td>\n",
       "      <td>8</td>\n",
       "      <td>43</td>\n",
       "      <td>197</td>\n",
       "      <td>41</td>\n",
       "      <td>7</td>\n",
       "      <td>23</td>\n",
       "      <td>1</td>\n",
       "      <td>12</td>\n",
       "      <td>2</td>\n",
       "      <td>2</td>\n",
       "      <td>36</td>\n",
       "      <td>258</td>\n",
       "      <td>46</td>\n",
       "      <td>34</td>\n",
       "      <td>353</td>\n",
       "      <td>80</td>\n",
       "      <td>2</td>\n",
       "      <td>0</td>\n",
       "    </tr>\n",
       "    <tr>\n",
       "      <th>3</th>\n",
       "      <td>春熙路街道</td>\n",
       "      <td>887</td>\n",
       "      <td>0</td>\n",
       "      <td>22</td>\n",
       "      <td>111</td>\n",
       "      <td>866</td>\n",
       "      <td>149</td>\n",
       "      <td>28</td>\n",
       "      <td>61</td>\n",
       "      <td>2</td>\n",
       "      <td>34</td>\n",
       "      <td>3</td>\n",
       "      <td>2</td>\n",
       "      <td>81</td>\n",
       "      <td>851</td>\n",
       "      <td>222</td>\n",
       "      <td>65</td>\n",
       "      <td>888</td>\n",
       "      <td>59</td>\n",
       "      <td>31</td>\n",
       "      <td>0</td>\n",
       "    </tr>\n",
       "    <tr>\n",
       "      <th>4</th>\n",
       "      <td>书院街街道</td>\n",
       "      <td>348</td>\n",
       "      <td>0</td>\n",
       "      <td>17</td>\n",
       "      <td>74</td>\n",
       "      <td>490</td>\n",
       "      <td>153</td>\n",
       "      <td>15</td>\n",
       "      <td>883</td>\n",
       "      <td>3</td>\n",
       "      <td>19</td>\n",
       "      <td>5</td>\n",
       "      <td>1</td>\n",
       "      <td>75</td>\n",
       "      <td>365</td>\n",
       "      <td>65</td>\n",
       "      <td>109</td>\n",
       "      <td>61</td>\n",
       "      <td>150</td>\n",
       "      <td>8</td>\n",
       "      <td>0</td>\n",
       "    </tr>\n",
       "    <tr>\n",
       "      <th>...</th>\n",
       "      <td>...</td>\n",
       "      <td>...</td>\n",
       "      <td>...</td>\n",
       "      <td>...</td>\n",
       "      <td>...</td>\n",
       "      <td>...</td>\n",
       "      <td>...</td>\n",
       "      <td>...</td>\n",
       "      <td>...</td>\n",
       "      <td>...</td>\n",
       "      <td>...</td>\n",
       "      <td>...</td>\n",
       "      <td>...</td>\n",
       "      <td>...</td>\n",
       "      <td>...</td>\n",
       "      <td>...</td>\n",
       "      <td>...</td>\n",
       "      <td>...</td>\n",
       "      <td>...</td>\n",
       "      <td>...</td>\n",
       "      <td>...</td>\n",
       "    </tr>\n",
       "    <tr>\n",
       "      <th>116</th>\n",
       "      <td>三道堰镇</td>\n",
       "      <td>331</td>\n",
       "      <td>2</td>\n",
       "      <td>32</td>\n",
       "      <td>117</td>\n",
       "      <td>343</td>\n",
       "      <td>99</td>\n",
       "      <td>5</td>\n",
       "      <td>31</td>\n",
       "      <td>2</td>\n",
       "      <td>21</td>\n",
       "      <td>8</td>\n",
       "      <td>74</td>\n",
       "      <td>44</td>\n",
       "      <td>218</td>\n",
       "      <td>90</td>\n",
       "      <td>55</td>\n",
       "      <td>101</td>\n",
       "      <td>89</td>\n",
       "      <td>17</td>\n",
       "      <td>0</td>\n",
       "    </tr>\n",
       "    <tr>\n",
       "      <th>117</th>\n",
       "      <td>安西镇</td>\n",
       "      <td>324</td>\n",
       "      <td>2</td>\n",
       "      <td>6</td>\n",
       "      <td>115</td>\n",
       "      <td>641</td>\n",
       "      <td>99</td>\n",
       "      <td>18</td>\n",
       "      <td>33</td>\n",
       "      <td>5</td>\n",
       "      <td>53</td>\n",
       "      <td>17</td>\n",
       "      <td>9</td>\n",
       "      <td>53</td>\n",
       "      <td>305</td>\n",
       "      <td>35</td>\n",
       "      <td>115</td>\n",
       "      <td>25</td>\n",
       "      <td>73</td>\n",
       "      <td>6</td>\n",
       "      <td>0</td>\n",
       "    </tr>\n",
       "    <tr>\n",
       "      <th>118</th>\n",
       "      <td>兴义镇</td>\n",
       "      <td>48</td>\n",
       "      <td>0</td>\n",
       "      <td>2</td>\n",
       "      <td>18</td>\n",
       "      <td>73</td>\n",
       "      <td>6</td>\n",
       "      <td>4</td>\n",
       "      <td>18</td>\n",
       "      <td>1</td>\n",
       "      <td>2</td>\n",
       "      <td>4</td>\n",
       "      <td>0</td>\n",
       "      <td>5</td>\n",
       "      <td>36</td>\n",
       "      <td>20</td>\n",
       "      <td>24</td>\n",
       "      <td>13</td>\n",
       "      <td>50</td>\n",
       "      <td>3</td>\n",
       "      <td>0</td>\n",
       "    </tr>\n",
       "    <tr>\n",
       "      <th>119</th>\n",
       "      <td>永商镇</td>\n",
       "      <td>72</td>\n",
       "      <td>0</td>\n",
       "      <td>10</td>\n",
       "      <td>24</td>\n",
       "      <td>75</td>\n",
       "      <td>6</td>\n",
       "      <td>4</td>\n",
       "      <td>16</td>\n",
       "      <td>1</td>\n",
       "      <td>15</td>\n",
       "      <td>7</td>\n",
       "      <td>3</td>\n",
       "      <td>9</td>\n",
       "      <td>45</td>\n",
       "      <td>49</td>\n",
       "      <td>16</td>\n",
       "      <td>14</td>\n",
       "      <td>82</td>\n",
       "      <td>1</td>\n",
       "      <td>0</td>\n",
       "    </tr>\n",
       "    <tr>\n",
       "      <th>120</th>\n",
       "      <td>宝墩镇</td>\n",
       "      <td>23</td>\n",
       "      <td>0</td>\n",
       "      <td>3</td>\n",
       "      <td>17</td>\n",
       "      <td>26</td>\n",
       "      <td>4</td>\n",
       "      <td>2</td>\n",
       "      <td>6</td>\n",
       "      <td>1</td>\n",
       "      <td>6</td>\n",
       "      <td>2</td>\n",
       "      <td>0</td>\n",
       "      <td>2</td>\n",
       "      <td>22</td>\n",
       "      <td>3</td>\n",
       "      <td>8</td>\n",
       "      <td>1</td>\n",
       "      <td>35</td>\n",
       "      <td>0</td>\n",
       "      <td>0</td>\n",
       "    </tr>\n",
       "  </tbody>\n",
       "</table>\n",
       "<p>121 rows × 21 columns</p>\n",
       "</div>"
      ],
      "text/plain": [
       "    street 餐饮服务 道路附属设施 风景名胜 公司企业 购物服务 交通设施服务 金融保险服务 科教文化服务 摩托车服务 汽车服务 汽车维修  \\\n",
       "0     沙河街道  418      0    7  205  674     95     13     54     3   24   14   \n",
       "1     柳江街道  270      0    1  117  315    143      9     36     5   54   23   \n",
       "2     三圣街道  353      0    8   43  197     41      7     23     1   12    2   \n",
       "3    春熙路街道  887      0   22  111  866    149     28     61     2   34    3   \n",
       "4    书院街街道  348      0   17   74  490    153     15    883     3   19    5   \n",
       "..     ...  ...    ...  ...  ...  ...    ...    ...    ...   ...  ...  ...   \n",
       "116   三道堰镇  331      2   32  117  343     99      5     31     2   21    8   \n",
       "117    安西镇  324      2    6  115  641     99     18     33     5   53   17   \n",
       "118    兴义镇   48      0    2   18   73      6      4     18     1    2    4   \n",
       "119    永商镇   72      0   10   24   75      6      4     16     1   15    7   \n",
       "120    宝墩镇   23      0    3   17   26      4      2      6     1    6    2   \n",
       "\n",
       "    汽车销售 商务住宅 生活服务 体育休闲服务 医疗保健服务 住宿服务 政府机构及社会团体 公共设施 通行设施  \n",
       "0      3   52  453     47    104   62       113    6    0  \n",
       "1      7   50  355     49     80   21        78    6    0  \n",
       "2      2   36  258     46     34  353        80    2    0  \n",
       "3      2   81  851    222     65  888        59   31    0  \n",
       "4      1   75  365     65    109   61       150    8    0  \n",
       "..   ...  ...  ...    ...    ...  ...       ...  ...  ...  \n",
       "116   74   44  218     90     55  101        89   17    0  \n",
       "117    9   53  305     35    115   25        73    6    0  \n",
       "118    0    5   36     20     24   13        50    3    0  \n",
       "119    3    9   45     49     16   14        82    1    0  \n",
       "120    0    2   22      3      8    1        35    0    0  \n",
       "\n",
       "[121 rows x 21 columns]"
      ]
     },
     "execution_count": 27,
     "metadata": {},
     "output_type": "execute_result"
    }
   ],
   "source": [
    "POI_test"
   ]
  },
  {
   "cell_type": "code",
   "execution_count": 17,
   "id": "78d854c9",
   "metadata": {
    "ExecuteTime": {
     "end_time": "2023-12-18T03:23:52.591353Z",
     "start_time": "2023-12-18T03:23:52.572408Z"
    }
   },
   "outputs": [
    {
     "data": {
      "text/plain": [
       "Index(['餐饮服务', '道路附属设施', '风景名胜', '公司企业', '购物服务', '交通设施服务', '金融保险服务', '科教文化服务',\n",
       "       '摩托车服务', '汽车服务', '汽车维修', '汽车销售', '商务住宅', '生活服务', '体育休闲服务', '医疗保健服务',\n",
       "       '住宿服务', '政府机构及社会团体', '公共设施', '通行设施'],\n",
       "      dtype='object')"
      ]
     },
     "execution_count": 17,
     "metadata": {},
     "output_type": "execute_result"
    }
   ],
   "source": [
    "POI_test.set_index('street').columns"
   ]
  },
  {
   "cell_type": "code",
   "execution_count": 28,
   "id": "2ef144b5",
   "metadata": {
    "ExecuteTime": {
     "end_time": "2023-12-18T03:52:09.654635Z",
     "start_time": "2023-12-18T03:28:29.601116Z"
    },
    "scrolled": true
   },
   "outputs": [
    {
     "name": "stderr",
     "output_type": "stream",
     "text": [
      "\r",
      "  0%|                                                                                          | 0/121 [00:00<?, ?it/s]"
     ]
    },
    {
     "name": "stdout",
     "output_type": "stream",
     "text": [
      "沙河街道\n"
     ]
    },
    {
     "name": "stderr",
     "output_type": "stream",
     "text": [
      "\r",
      "  1%|▋                                                                                 | 1/121 [00:12<24:22, 12.19s/it]"
     ]
    },
    {
     "name": "stdout",
     "output_type": "stream",
     "text": [
      "柳江街道\n"
     ]
    },
    {
     "name": "stderr",
     "output_type": "stream",
     "text": [
      "\r",
      "  2%|█▎                                                                                | 2/121 [00:24<23:53, 12.05s/it]"
     ]
    },
    {
     "name": "stdout",
     "output_type": "stream",
     "text": [
      "三圣街道\n"
     ]
    },
    {
     "name": "stderr",
     "output_type": "stream",
     "text": [
      "\r",
      "  2%|██                                                                                | 3/121 [00:36<23:50, 12.12s/it]"
     ]
    },
    {
     "name": "stdout",
     "output_type": "stream",
     "text": [
      "春熙路街道\n"
     ]
    },
    {
     "name": "stderr",
     "output_type": "stream",
     "text": [
      "\r",
      "  3%|██▋                                                                               | 4/121 [00:48<23:26, 12.02s/it]"
     ]
    },
    {
     "name": "stdout",
     "output_type": "stream",
     "text": [
      "书院街街道\n"
     ]
    },
    {
     "name": "stderr",
     "output_type": "stream",
     "text": [
      "\r",
      "  4%|███▍                                                                              | 5/121 [00:59<23:03, 11.92s/it]"
     ]
    },
    {
     "name": "stdout",
     "output_type": "stream",
     "text": [
      "牛市口街道\n"
     ]
    },
    {
     "name": "stderr",
     "output_type": "stream",
     "text": [
      "\r",
      "  5%|████                                                                              | 6/121 [01:11<22:53, 11.94s/it]"
     ]
    },
    {
     "name": "stdout",
     "output_type": "stream",
     "text": [
      "狮子山街道\n"
     ]
    },
    {
     "name": "stderr",
     "output_type": "stream",
     "text": [
      "\r",
      "  6%|████▋                                                                             | 7/121 [01:23<22:34, 11.88s/it]"
     ]
    },
    {
     "name": "stdout",
     "output_type": "stream",
     "text": [
      "成龙路街道\n"
     ]
    },
    {
     "name": "stderr",
     "output_type": "stream",
     "text": [
      "\r",
      "  7%|█████▍                                                                            | 8/121 [01:36<22:38, 12.02s/it]"
     ]
    },
    {
     "name": "stdout",
     "output_type": "stream",
     "text": [
      "锦官驿街道\n"
     ]
    },
    {
     "name": "stderr",
     "output_type": "stream",
     "text": [
      "\r",
      "  7%|██████                                                                            | 9/121 [01:47<22:19, 11.96s/it]"
     ]
    },
    {
     "name": "stdout",
     "output_type": "stream",
     "text": [
      "东湖街道\n"
     ]
    },
    {
     "name": "stderr",
     "output_type": "stream",
     "text": [
      "\r",
      "  8%|██████▋                                                                          | 10/121 [02:00<22:21, 12.09s/it]"
     ]
    },
    {
     "name": "stdout",
     "output_type": "stream",
     "text": [
      "锦华路街道\n"
     ]
    },
    {
     "name": "stderr",
     "output_type": "stream",
     "text": [
      "\r",
      "  9%|███████▎                                                                         | 11/121 [02:12<22:30, 12.28s/it]"
     ]
    },
    {
     "name": "stdout",
     "output_type": "stream",
     "text": [
      "少城街道\n"
     ]
    },
    {
     "name": "stderr",
     "output_type": "stream",
     "text": [
      "\r",
      " 10%|████████                                                                         | 12/121 [02:25<22:13, 12.23s/it]"
     ]
    },
    {
     "name": "stdout",
     "output_type": "stream",
     "text": [
      "府南街道\n"
     ]
    },
    {
     "name": "stderr",
     "output_type": "stream",
     "text": [
      "\r",
      " 11%|████████▋                                                                        | 13/121 [02:37<22:00, 12.23s/it]"
     ]
    },
    {
     "name": "stdout",
     "output_type": "stream",
     "text": [
      "草堂街道\n"
     ]
    },
    {
     "name": "stderr",
     "output_type": "stream",
     "text": [
      "\r",
      " 12%|█████████▎                                                                       | 14/121 [02:49<21:47, 12.22s/it]"
     ]
    },
    {
     "name": "stdout",
     "output_type": "stream",
     "text": [
      "光华街道\n"
     ]
    },
    {
     "name": "stderr",
     "output_type": "stream",
     "text": [
      "\r",
      " 12%|██████████                                                                       | 15/121 [03:01<21:35, 12.23s/it]"
     ]
    },
    {
     "name": "stdout",
     "output_type": "stream",
     "text": [
      "金沙街道\n"
     ]
    },
    {
     "name": "stderr",
     "output_type": "stream",
     "text": [
      "\r",
      " 13%|██████████▋                                                                      | 16/121 [03:13<21:17, 12.17s/it]"
     ]
    },
    {
     "name": "stdout",
     "output_type": "stream",
     "text": [
      "苏坡街道\n"
     ]
    },
    {
     "name": "stderr",
     "output_type": "stream",
     "text": [
      "\r",
      " 14%|███████████▍                                                                     | 17/121 [03:26<21:08, 12.20s/it]"
     ]
    },
    {
     "name": "stdout",
     "output_type": "stream",
     "text": [
      "文家街道\n"
     ]
    },
    {
     "name": "stderr",
     "output_type": "stream",
     "text": [
      "\r",
      " 15%|████████████                                                                     | 18/121 [03:38<20:55, 12.19s/it]"
     ]
    },
    {
     "name": "stdout",
     "output_type": "stream",
     "text": [
      "草市街街道\n"
     ]
    },
    {
     "name": "stderr",
     "output_type": "stream",
     "text": [
      "\r",
      " 16%|████████████▋                                                                    | 19/121 [03:50<20:39, 12.15s/it]"
     ]
    },
    {
     "name": "stdout",
     "output_type": "stream",
     "text": [
      "西御河街道\n"
     ]
    },
    {
     "name": "stderr",
     "output_type": "stream",
     "text": [
      "\r",
      " 17%|█████████████▍                                                                   | 20/121 [04:02<20:25, 12.14s/it]"
     ]
    },
    {
     "name": "stdout",
     "output_type": "stream",
     "text": [
      "黄田坝街道\n"
     ]
    },
    {
     "name": "stderr",
     "output_type": "stream",
     "text": [
      "\r",
      " 17%|██████████████                                                                   | 21/121 [04:14<20:06, 12.06s/it]"
     ]
    },
    {
     "name": "stdout",
     "output_type": "stream",
     "text": [
      "蔡桥街道\n"
     ]
    },
    {
     "name": "stderr",
     "output_type": "stream",
     "text": [
      "\r",
      " 18%|██████████████▋                                                                  | 22/121 [04:26<19:55, 12.07s/it]"
     ]
    },
    {
     "name": "stdout",
     "output_type": "stream",
     "text": [
      "康河街道\n"
     ]
    },
    {
     "name": "stderr",
     "output_type": "stream",
     "text": [
      "\r",
      " 19%|███████████████▍                                                                 | 23/121 [04:38<19:40, 12.04s/it]"
     ]
    },
    {
     "name": "stdout",
     "output_type": "stream",
     "text": [
      "抚琴街道\n"
     ]
    },
    {
     "name": "stderr",
     "output_type": "stream",
     "text": [
      "\r",
      " 20%|████████████████                                                                 | 24/121 [04:50<19:29, 12.06s/it]"
     ]
    },
    {
     "name": "stdout",
     "output_type": "stream",
     "text": [
      "西华街道\n"
     ]
    },
    {
     "name": "stderr",
     "output_type": "stream",
     "text": [
      "\r",
      " 21%|████████████████▋                                                                | 25/121 [05:02<19:26, 12.15s/it]"
     ]
    },
    {
     "name": "stdout",
     "output_type": "stream",
     "text": [
      "金泉街道\n"
     ]
    },
    {
     "name": "stderr",
     "output_type": "stream",
     "text": [
      "\r",
      " 21%|█████████████████▍                                                               | 26/121 [05:14<19:13, 12.14s/it]"
     ]
    },
    {
     "name": "stdout",
     "output_type": "stream",
     "text": [
      "茶店子街道\n"
     ]
    },
    {
     "name": "stderr",
     "output_type": "stream",
     "text": [
      "\r",
      " 22%|██████████████████                                                               | 27/121 [05:26<18:53, 12.06s/it]"
     ]
    },
    {
     "name": "stdout",
     "output_type": "stream",
     "text": [
      "营门口街道\n"
     ]
    },
    {
     "name": "stderr",
     "output_type": "stream",
     "text": [
      "\r",
      " 23%|██████████████████▋                                                              | 28/121 [05:38<18:31, 11.95s/it]"
     ]
    },
    {
     "name": "stdout",
     "output_type": "stream",
     "text": [
      "九里堤街道\n"
     ]
    },
    {
     "name": "stderr",
     "output_type": "stream",
     "text": [
      "\r",
      " 24%|███████████████████▍                                                             | 29/121 [05:51<18:44, 12.22s/it]"
     ]
    },
    {
     "name": "stdout",
     "output_type": "stream",
     "text": [
      "五块石街道\n"
     ]
    },
    {
     "name": "stderr",
     "output_type": "stream",
     "text": [
      "\r",
      " 25%|████████████████████                                                             | 30/121 [06:03<18:24, 12.14s/it]"
     ]
    },
    {
     "name": "stdout",
     "output_type": "stream",
     "text": [
      "荷花池街道\n"
     ]
    },
    {
     "name": "stderr",
     "output_type": "stream",
     "text": [
      "\r",
      " 26%|████████████████████▊                                                            | 31/121 [06:15<18:12, 12.14s/it]"
     ]
    },
    {
     "name": "stdout",
     "output_type": "stream",
     "text": [
      "驷马桥街道\n"
     ]
    },
    {
     "name": "stderr",
     "output_type": "stream",
     "text": [
      "\r",
      " 26%|█████████████████████▍                                                           | 32/121 [06:27<18:03, 12.17s/it]"
     ]
    },
    {
     "name": "stdout",
     "output_type": "stream",
     "text": [
      "西安路街道\n"
     ]
    },
    {
     "name": "stderr",
     "output_type": "stream",
     "text": [
      "\r",
      " 27%|██████████████████████                                                           | 33/121 [06:40<17:59, 12.26s/it]"
     ]
    },
    {
     "name": "stdout",
     "output_type": "stream",
     "text": [
      "天回镇街道\n"
     ]
    },
    {
     "name": "stderr",
     "output_type": "stream",
     "text": [
      "\r",
      " 28%|██████████████████████▊                                                          | 34/121 [06:52<17:40, 12.19s/it]"
     ]
    },
    {
     "name": "stdout",
     "output_type": "stream",
     "text": [
      "沙河源街道\n"
     ]
    },
    {
     "name": "stderr",
     "output_type": "stream",
     "text": [
      "\r",
      " 29%|███████████████████████▍                                                         | 35/121 [07:04<17:19, 12.09s/it]"
     ]
    },
    {
     "name": "stdout",
     "output_type": "stream",
     "text": [
      "凤凰山街道\n"
     ]
    },
    {
     "name": "stderr",
     "output_type": "stream",
     "text": [
      "\r",
      " 30%|████████████████████████                                                         | 36/121 [07:15<16:58, 11.98s/it]"
     ]
    },
    {
     "name": "stdout",
     "output_type": "stream",
     "text": [
      "玉林街道\n"
     ]
    },
    {
     "name": "stderr",
     "output_type": "stream",
     "text": [
      "\r",
      " 31%|████████████████████████▊                                                        | 37/121 [07:27<16:50, 12.03s/it]"
     ]
    },
    {
     "name": "stdout",
     "output_type": "stream",
     "text": [
      "晋阳街道\n"
     ]
    },
    {
     "name": "stderr",
     "output_type": "stream",
     "text": [
      "\r",
      " 31%|█████████████████████████▍                                                       | 38/121 [07:39<16:35, 11.99s/it]"
     ]
    },
    {
     "name": "stdout",
     "output_type": "stream",
     "text": [
      "簇桥街道\n"
     ]
    },
    {
     "name": "stderr",
     "output_type": "stream",
     "text": [
      "\r",
      " 32%|██████████████████████████                                                       | 39/121 [07:51<16:15, 11.90s/it]"
     ]
    },
    {
     "name": "stdout",
     "output_type": "stream",
     "text": [
      "簇锦街道\n"
     ]
    },
    {
     "name": "stderr",
     "output_type": "stream",
     "text": [
      "\r",
      " 33%|██████████████████████████▊                                                      | 40/121 [08:03<16:09, 11.97s/it]"
     ]
    },
    {
     "name": "stdout",
     "output_type": "stream",
     "text": [
      "华兴街道\n"
     ]
    },
    {
     "name": "stderr",
     "output_type": "stream",
     "text": [
      "\r",
      " 34%|███████████████████████████▍                                                     | 41/121 [08:15<15:59, 11.99s/it]"
     ]
    },
    {
     "name": "stdout",
     "output_type": "stream",
     "text": [
      "望江路街道\n"
     ]
    },
    {
     "name": "stderr",
     "output_type": "stream",
     "text": [
      "\r",
      " 35%|████████████████████████████                                                     | 42/121 [08:27<15:42, 11.93s/it]"
     ]
    },
    {
     "name": "stdout",
     "output_type": "stream",
     "text": [
      "浆洗街街道\n"
     ]
    },
    {
     "name": "stderr",
     "output_type": "stream",
     "text": [
      "\r",
      " 36%|████████████████████████████▊                                                    | 43/121 [08:39<15:37, 12.01s/it]"
     ]
    },
    {
     "name": "stdout",
     "output_type": "stream",
     "text": [
      "红牌楼街道\n"
     ]
    },
    {
     "name": "stderr",
     "output_type": "stream",
     "text": [
      "\r",
      " 36%|█████████████████████████████▍                                                   | 44/121 [08:51<15:25, 12.02s/it]"
     ]
    },
    {
     "name": "stdout",
     "output_type": "stream",
     "text": [
      "机投桥街道\n"
     ]
    },
    {
     "name": "stderr",
     "output_type": "stream",
     "text": [
      "\r",
      " 37%|██████████████████████████████                                                   | 45/121 [09:03<15:08, 11.95s/it]"
     ]
    },
    {
     "name": "stdout",
     "output_type": "stream",
     "text": [
      "金花桥街道\n"
     ]
    },
    {
     "name": "stderr",
     "output_type": "stream",
     "text": [
      "\r",
      " 38%|██████████████████████████████▊                                                  | 46/121 [09:15<14:47, 11.83s/it]"
     ]
    },
    {
     "name": "stdout",
     "output_type": "stream",
     "text": [
      "火车南站街道\n"
     ]
    },
    {
     "name": "stderr",
     "output_type": "stream",
     "text": [
      "\r",
      " 39%|███████████████████████████████▍                                                 | 47/121 [09:25<14:14, 11.55s/it]"
     ]
    },
    {
     "name": "stdout",
     "output_type": "stream",
     "text": [
      "芳草街街道\n"
     ]
    },
    {
     "name": "stderr",
     "output_type": "stream",
     "text": [
      "\r",
      " 40%|████████████████████████████████▏                                                | 48/121 [09:37<14:10, 11.65s/it]"
     ]
    },
    {
     "name": "stdout",
     "output_type": "stream",
     "text": [
      "石羊街道\n"
     ]
    },
    {
     "name": "stderr",
     "output_type": "stream",
     "text": [
      "\r",
      " 40%|████████████████████████████████▊                                                | 49/121 [09:49<14:07, 11.77s/it]"
     ]
    },
    {
     "name": "stdout",
     "output_type": "stream",
     "text": [
      "桂溪街道\n"
     ]
    },
    {
     "name": "stderr",
     "output_type": "stream",
     "text": [
      "\r",
      " 41%|█████████████████████████████████▍                                               | 50/121 [10:02<14:08, 11.95s/it]"
     ]
    },
    {
     "name": "stdout",
     "output_type": "stream",
     "text": [
      "肖家河街道\n"
     ]
    },
    {
     "name": "stderr",
     "output_type": "stream",
     "text": [
      "\r",
      " 42%|██████████████████████████████████▏                                              | 51/121 [10:14<13:53, 11.90s/it]"
     ]
    },
    {
     "name": "stdout",
     "output_type": "stream",
     "text": [
      "保和街道\n"
     ]
    },
    {
     "name": "stderr",
     "output_type": "stream",
     "text": [
      "\r",
      " 43%|██████████████████████████████████▊                                              | 52/121 [10:26<13:48, 12.00s/it]"
     ]
    },
    {
     "name": "stdout",
     "output_type": "stream",
     "text": [
      "青龙街道\n"
     ]
    },
    {
     "name": "stderr",
     "output_type": "stream",
     "text": [
      "\r",
      " 44%|███████████████████████████████████▍                                             | 53/121 [10:38<13:38, 12.04s/it]"
     ]
    },
    {
     "name": "stdout",
     "output_type": "stream",
     "text": [
      "龙潭街道\n"
     ]
    },
    {
     "name": "stderr",
     "output_type": "stream",
     "text": [
      "\r",
      " 45%|████████████████████████████████████▏                                            | 54/121 [10:50<13:30, 12.10s/it]"
     ]
    },
    {
     "name": "stdout",
     "output_type": "stream",
     "text": [
      "猛追湾街道\n"
     ]
    },
    {
     "name": "stderr",
     "output_type": "stream",
     "text": [
      "\r",
      " 45%|████████████████████████████████████▊                                            | 55/121 [11:02<13:13, 12.02s/it]"
     ]
    },
    {
     "name": "stdout",
     "output_type": "stream",
     "text": [
      "双桥子街道\n"
     ]
    },
    {
     "name": "stderr",
     "output_type": "stream",
     "text": [
      "\r",
      " 46%|█████████████████████████████████████▍                                           | 56/121 [11:14<12:59, 11.98s/it]"
     ]
    },
    {
     "name": "stdout",
     "output_type": "stream",
     "text": [
      "白莲池街道\n"
     ]
    },
    {
     "name": "stderr",
     "output_type": "stream",
     "text": [
      "\r",
      " 47%|██████████████████████████████████████▏                                          | 57/121 [11:26<12:41, 11.90s/it]"
     ]
    },
    {
     "name": "stdout",
     "output_type": "stream",
     "text": [
      "府青路街道\n"
     ]
    },
    {
     "name": "stderr",
     "output_type": "stream",
     "text": [
      "\r",
      " 48%|██████████████████████████████████████▊                                          | 58/121 [11:37<12:30, 11.91s/it]"
     ]
    },
    {
     "name": "stdout",
     "output_type": "stream",
     "text": [
      "跳蹬河街道\n"
     ]
    },
    {
     "name": "stderr",
     "output_type": "stream",
     "text": [
      "\r",
      " 49%|███████████████████████████████████████▍                                         | 59/121 [11:49<12:18, 11.92s/it]"
     ]
    },
    {
     "name": "stdout",
     "output_type": "stream",
     "text": [
      "万年场街道\n"
     ]
    },
    {
     "name": "stderr",
     "output_type": "stream",
     "text": [
      "\r",
      " 50%|████████████████████████████████████████▏                                        | 60/121 [12:01<11:59, 11.80s/it]"
     ]
    },
    {
     "name": "stdout",
     "output_type": "stream",
     "text": [
      "二仙桥街道\n"
     ]
    },
    {
     "name": "stderr",
     "output_type": "stream",
     "text": [
      "\r",
      " 50%|████████████████████████████████████████▊                                        | 61/121 [12:13<11:49, 11.82s/it]"
     ]
    },
    {
     "name": "stdout",
     "output_type": "stream",
     "text": [
      "双水碾街道\n"
     ]
    },
    {
     "name": "stderr",
     "output_type": "stream",
     "text": [
      "\r",
      " 51%|█████████████████████████████████████████▌                                       | 62/121 [12:24<11:31, 11.73s/it]"
     ]
    },
    {
     "name": "stdout",
     "output_type": "stream",
     "text": [
      "龙泉街道\n"
     ]
    },
    {
     "name": "stderr",
     "output_type": "stream",
     "text": [
      "\r",
      " 52%|██████████████████████████████████████████▏                                      | 63/121 [12:36<11:20, 11.74s/it]"
     ]
    },
    {
     "name": "stdout",
     "output_type": "stream",
     "text": [
      "大面街道\n"
     ]
    },
    {
     "name": "stderr",
     "output_type": "stream",
     "text": [
      "\r",
      " 53%|██████████████████████████████████████████▊                                      | 64/121 [12:48<11:16, 11.87s/it]"
     ]
    },
    {
     "name": "stdout",
     "output_type": "stream",
     "text": [
      "十陵街道\n"
     ]
    },
    {
     "name": "stderr",
     "output_type": "stream",
     "text": [
      "\r",
      " 54%|███████████████████████████████████████████▌                                     | 65/121 [13:00<11:04, 11.86s/it]"
     ]
    },
    {
     "name": "stdout",
     "output_type": "stream",
     "text": [
      "同安街道\n"
     ]
    },
    {
     "name": "stderr",
     "output_type": "stream",
     "text": [
      "\r",
      " 55%|████████████████████████████████████████████▏                                    | 66/121 [13:12<10:49, 11.81s/it]"
     ]
    },
    {
     "name": "stdout",
     "output_type": "stream",
     "text": [
      "东安街道\n"
     ]
    },
    {
     "name": "stderr",
     "output_type": "stream",
     "text": [
      "\r",
      " 55%|████████████████████████████████████████████▊                                    | 67/121 [13:24<10:37, 11.80s/it]"
     ]
    },
    {
     "name": "stdout",
     "output_type": "stream",
     "text": [
      "西河街道\n"
     ]
    },
    {
     "name": "stderr",
     "output_type": "stream",
     "text": [
      "\r",
      " 56%|█████████████████████████████████████████████▌                                   | 68/121 [13:35<10:25, 11.80s/it]"
     ]
    },
    {
     "name": "stdout",
     "output_type": "stream",
     "text": [
      "柏合街道\n"
     ]
    },
    {
     "name": "stderr",
     "output_type": "stream",
     "text": [
      "\r",
      " 57%|██████████████████████████████████████████████▏                                  | 69/121 [13:47<10:18, 11.89s/it]"
     ]
    },
    {
     "name": "stdout",
     "output_type": "stream",
     "text": [
      "大弯街道\n"
     ]
    },
    {
     "name": "stderr",
     "output_type": "stream",
     "text": [
      "\r",
      " 58%|██████████████████████████████████████████████▊                                  | 70/121 [13:59<10:05, 11.87s/it]"
     ]
    },
    {
     "name": "stdout",
     "output_type": "stream",
     "text": [
      "大同街道\n"
     ]
    },
    {
     "name": "stderr",
     "output_type": "stream",
     "text": [
      "\r",
      " 59%|███████████████████████████████████████████████▌                                 | 71/121 [14:11<09:50, 11.82s/it]"
     ]
    },
    {
     "name": "stdout",
     "output_type": "stream",
     "text": [
      "大丰街道\n"
     ]
    },
    {
     "name": "stderr",
     "output_type": "stream",
     "text": [
      "\r",
      " 60%|████████████████████████████████████████████████▏                                | 72/121 [14:23<09:42, 11.89s/it]"
     ]
    },
    {
     "name": "stdout",
     "output_type": "stream",
     "text": [
      "三河街道\n"
     ]
    },
    {
     "name": "stderr",
     "output_type": "stream",
     "text": [
      "\r",
      " 60%|████████████████████████████████████████████████▊                                | 73/121 [14:35<09:31, 11.90s/it]"
     ]
    },
    {
     "name": "stdout",
     "output_type": "stream",
     "text": [
      "新都街道\n"
     ]
    },
    {
     "name": "stderr",
     "output_type": "stream",
     "text": [
      "\r",
      " 61%|█████████████████████████████████████████████████▌                               | 74/121 [14:47<09:18, 11.88s/it]"
     ]
    },
    {
     "name": "stdout",
     "output_type": "stream",
     "text": [
      "桂湖街道\n"
     ]
    },
    {
     "name": "stderr",
     "output_type": "stream",
     "text": [
      "\r",
      " 62%|██████████████████████████████████████████████████▏                              | 75/121 [14:59<09:04, 11.84s/it]"
     ]
    },
    {
     "name": "stdout",
     "output_type": "stream",
     "text": [
      "新繁街道\n"
     ]
    },
    {
     "name": "stderr",
     "output_type": "stream",
     "text": [
      "\r",
      " 63%|██████████████████████████████████████████████████▉                              | 76/121 [15:11<09:04, 12.11s/it]"
     ]
    },
    {
     "name": "stdout",
     "output_type": "stream",
     "text": [
      "石板滩街道\n"
     ]
    },
    {
     "name": "stderr",
     "output_type": "stream",
     "text": [
      "\r",
      " 64%|███████████████████████████████████████████████████▌                             | 77/121 [15:23<08:46, 11.97s/it]"
     ]
    },
    {
     "name": "stdout",
     "output_type": "stream",
     "text": [
      "斑竹园街道\n"
     ]
    },
    {
     "name": "stderr",
     "output_type": "stream",
     "text": [
      "\r",
      " 64%|████████████████████████████████████████████████████▏                            | 78/121 [15:35<08:30, 11.88s/it]"
     ]
    },
    {
     "name": "stdout",
     "output_type": "stream",
     "text": [
      "柳城街道\n"
     ]
    },
    {
     "name": "stderr",
     "output_type": "stream",
     "text": [
      "\r",
      " 65%|████████████████████████████████████████████████████▉                            | 79/121 [15:46<08:17, 11.85s/it]"
     ]
    },
    {
     "name": "stdout",
     "output_type": "stream",
     "text": [
      "天府街道\n"
     ]
    },
    {
     "name": "stderr",
     "output_type": "stream",
     "text": [
      "\r",
      " 66%|█████████████████████████████████████████████████████▌                           | 80/121 [15:58<08:03, 11.78s/it]"
     ]
    },
    {
     "name": "stdout",
     "output_type": "stream",
     "text": [
      "涌泉街道\n"
     ]
    },
    {
     "name": "stderr",
     "output_type": "stream",
     "text": [
      "\r",
      " 67%|██████████████████████████████████████████████████████▏                          | 81/121 [16:10<07:50, 11.77s/it]"
     ]
    },
    {
     "name": "stdout",
     "output_type": "stream",
     "text": [
      "公平街道\n"
     ]
    },
    {
     "name": "stderr",
     "output_type": "stream",
     "text": [
      "\r",
      " 68%|██████████████████████████████████████████████████████▉                          | 82/121 [16:21<07:37, 11.72s/it]"
     ]
    },
    {
     "name": "stdout",
     "output_type": "stream",
     "text": [
      "金马街道\n"
     ]
    },
    {
     "name": "stderr",
     "output_type": "stream",
     "text": [
      "\r",
      " 69%|███████████████████████████████████████████████████████▌                         | 83/121 [16:33<07:25, 11.73s/it]"
     ]
    },
    {
     "name": "stdout",
     "output_type": "stream",
     "text": [
      "永宁街道\n"
     ]
    },
    {
     "name": "stderr",
     "output_type": "stream",
     "text": [
      "\r",
      " 69%|████████████████████████████████████████████████████████▏                        | 84/121 [16:45<07:15, 11.76s/it]"
     ]
    },
    {
     "name": "stdout",
     "output_type": "stream",
     "text": [
      "郫筒街道\n"
     ]
    },
    {
     "name": "stderr",
     "output_type": "stream",
     "text": [
      "\r",
      " 70%|████████████████████████████████████████████████████████▉                        | 85/121 [16:57<07:04, 11.78s/it]"
     ]
    },
    {
     "name": "stdout",
     "output_type": "stream",
     "text": [
      "合作街道\n"
     ]
    },
    {
     "name": "stderr",
     "output_type": "stream",
     "text": [
      "\r",
      " 71%|█████████████████████████████████████████████████████████▌                       | 86/121 [17:09<06:53, 11.81s/it]"
     ]
    },
    {
     "name": "stdout",
     "output_type": "stream",
     "text": [
      "西园街道\n"
     ]
    },
    {
     "name": "stderr",
     "output_type": "stream",
     "text": [
      "\r",
      " 72%|██████████████████████████████████████████████████████████▏                      | 87/121 [17:20<06:40, 11.79s/it]"
     ]
    },
    {
     "name": "stdout",
     "output_type": "stream",
     "text": [
      "安德街道\n"
     ]
    },
    {
     "name": "stderr",
     "output_type": "stream",
     "text": [
      "\r",
      " 73%|██████████████████████████████████████████████████████████▉                      | 88/121 [17:32<06:27, 11.76s/it]"
     ]
    },
    {
     "name": "stdout",
     "output_type": "stream",
     "text": [
      "红光街道\n"
     ]
    },
    {
     "name": "stderr",
     "output_type": "stream",
     "text": [
      "\r",
      " 74%|███████████████████████████████████████████████████████████▌                     | 89/121 [17:44<06:16, 11.77s/it]"
     ]
    },
    {
     "name": "stdout",
     "output_type": "stream",
     "text": [
      "犀浦街道\n"
     ]
    },
    {
     "name": "stderr",
     "output_type": "stream",
     "text": [
      "\r",
      " 74%|████████████████████████████████████████████████████████████▏                    | 90/121 [17:56<06:05, 11.80s/it]"
     ]
    },
    {
     "name": "stdout",
     "output_type": "stream",
     "text": [
      "德源街道\n"
     ]
    },
    {
     "name": "stderr",
     "output_type": "stream",
     "text": [
      "\r",
      " 75%|████████████████████████████████████████████████████████████▉                    | 91/121 [18:07<05:52, 11.77s/it]"
     ]
    },
    {
     "name": "stdout",
     "output_type": "stream",
     "text": [
      "安靖街道\n"
     ]
    },
    {
     "name": "stderr",
     "output_type": "stream",
     "text": [
      "\r",
      " 76%|█████████████████████████████████████████████████████████████▌                   | 92/121 [18:19<05:41, 11.77s/it]"
     ]
    },
    {
     "name": "stdout",
     "output_type": "stream",
     "text": [
      "团结街道\n"
     ]
    },
    {
     "name": "stderr",
     "output_type": "stream",
     "text": [
      "\r",
      " 77%|██████████████████████████████████████████████████████████████▎                  | 93/121 [18:31<05:29, 11.76s/it]"
     ]
    },
    {
     "name": "stdout",
     "output_type": "stream",
     "text": [
      "五津街道\n"
     ]
    },
    {
     "name": "stderr",
     "output_type": "stream",
     "text": [
      "\r",
      " 78%|██████████████████████████████████████████████████████████████▉                  | 94/121 [18:43<05:18, 11.80s/it]"
     ]
    },
    {
     "name": "stdout",
     "output_type": "stream",
     "text": [
      "普兴街道\n"
     ]
    },
    {
     "name": "stderr",
     "output_type": "stream",
     "text": [
      "\r",
      " 79%|███████████████████████████████████████████████████████████████▌                 | 95/121 [18:54<05:05, 11.75s/it]"
     ]
    },
    {
     "name": "stdout",
     "output_type": "stream",
     "text": [
      "花桥街道\n"
     ]
    },
    {
     "name": "stderr",
     "output_type": "stream",
     "text": [
      "\r",
      " 79%|████████████████████████████████████████████████████████████████▎                | 96/121 [19:06<04:53, 11.74s/it]"
     ]
    },
    {
     "name": "stdout",
     "output_type": "stream",
     "text": [
      "花源街道\n"
     ]
    },
    {
     "name": "stderr",
     "output_type": "stream",
     "text": [
      "\r",
      " 80%|████████████████████████████████████████████████████████████████▉                | 97/121 [19:18<04:41, 11.73s/it]"
     ]
    },
    {
     "name": "stdout",
     "output_type": "stream",
     "text": [
      "洛带镇\n"
     ]
    },
    {
     "name": "stderr",
     "output_type": "stream",
     "text": [
      "\r",
      " 81%|█████████████████████████████████████████████████████████████████▌               | 98/121 [19:29<04:22, 11.40s/it]"
     ]
    },
    {
     "name": "stdout",
     "output_type": "stream",
     "text": [
      "洪安镇\n"
     ]
    },
    {
     "name": "stderr",
     "output_type": "stream",
     "text": [
      "\r",
      " 82%|██████████████████████████████████████████████████████████████████▎              | 99/121 [19:39<04:05, 11.17s/it]"
     ]
    },
    {
     "name": "stdout",
     "output_type": "stream",
     "text": [
      "山泉镇\n"
     ]
    },
    {
     "name": "stderr",
     "output_type": "stream",
     "text": [
      "\r",
      " 83%|██████████████████████████████████████████████████████████████████              | 100/121 [19:52<04:02, 11.55s/it]"
     ]
    },
    {
     "name": "stdout",
     "output_type": "stream",
     "text": [
      "弥牟镇\n"
     ]
    },
    {
     "name": "stderr",
     "output_type": "stream",
     "text": [
      "\r",
      " 83%|██████████████████████████████████████████████████████████████████▊             | 101/121 [20:03<03:47, 11.36s/it]"
     ]
    },
    {
     "name": "stdout",
     "output_type": "stream",
     "text": [
      "城厢镇\n"
     ]
    },
    {
     "name": "stderr",
     "output_type": "stream",
     "text": [
      "\r",
      " 84%|███████████████████████████████████████████████████████████████████▍            | 102/121 [20:13<03:31, 11.13s/it]"
     ]
    },
    {
     "name": "stdout",
     "output_type": "stream",
     "text": [
      "清泉镇\n"
     ]
    },
    {
     "name": "stderr",
     "output_type": "stream",
     "text": [
      "\r",
      " 85%|████████████████████████████████████████████████████████████████████            | 103/121 [20:24<03:16, 10.94s/it]"
     ]
    },
    {
     "name": "stdout",
     "output_type": "stream",
     "text": [
      "姚渡镇\n"
     ]
    },
    {
     "name": "stderr",
     "output_type": "stream",
     "text": [
      "\r",
      " 86%|████████████████████████████████████████████████████████████████████▊           | 104/121 [20:34<03:04, 10.84s/it]"
     ]
    },
    {
     "name": "stdout",
     "output_type": "stream",
     "text": [
      "福洪镇\n"
     ]
    },
    {
     "name": "stderr",
     "output_type": "stream",
     "text": [
      "\r",
      " 87%|█████████████████████████████████████████████████████████████████████▍          | 105/121 [20:45<02:52, 10.75s/it]"
     ]
    },
    {
     "name": "stdout",
     "output_type": "stream",
     "text": [
      "清流镇\n"
     ]
    },
    {
     "name": "stderr",
     "output_type": "stream",
     "text": [
      "\r",
      " 88%|██████████████████████████████████████████████████████████████████████          | 106/121 [20:55<02:39, 10.67s/it]"
     ]
    },
    {
     "name": "stdout",
     "output_type": "stream",
     "text": [
      "军屯镇\n"
     ]
    },
    {
     "name": "stderr",
     "output_type": "stream",
     "text": [
      "\r",
      " 88%|██████████████████████████████████████████████████████████████████████▋         | 107/121 [21:06<02:28, 10.61s/it]"
     ]
    },
    {
     "name": "stdout",
     "output_type": "stream",
     "text": [
      "万春镇\n"
     ]
    },
    {
     "name": "stderr",
     "output_type": "stream",
     "text": [
      "\r",
      " 89%|███████████████████████████████████████████████████████████████████████▍        | 108/121 [21:16<02:17, 10.59s/it]"
     ]
    },
    {
     "name": "stdout",
     "output_type": "stream",
     "text": [
      "寿安镇\n"
     ]
    },
    {
     "name": "stderr",
     "output_type": "stream",
     "text": [
      "\r",
      " 90%|████████████████████████████████████████████████████████████████████████        | 109/121 [21:27<02:08, 10.71s/it]"
     ]
    },
    {
     "name": "stdout",
     "output_type": "stream",
     "text": [
      "和盛镇\n"
     ]
    },
    {
     "name": "stderr",
     "output_type": "stream",
     "text": [
      "\r",
      " 91%|████████████████████████████████████████████████████████████████████████▋       | 110/121 [21:38<01:59, 10.82s/it]"
     ]
    },
    {
     "name": "stdout",
     "output_type": "stream",
     "text": [
      "彭镇\n"
     ]
    },
    {
     "name": "stderr",
     "output_type": "stream",
     "text": [
      "\r",
      " 92%|█████████████████████████████████████████████████████████████████████████▍      | 111/121 [21:49<01:47, 10.71s/it]"
     ]
    },
    {
     "name": "stdout",
     "output_type": "stream",
     "text": [
      "黄水镇\n"
     ]
    },
    {
     "name": "stderr",
     "output_type": "stream",
     "text": [
      "\r",
      " 93%|██████████████████████████████████████████████████████████████████████████      | 112/121 [22:00<01:37, 10.80s/it]"
     ]
    },
    {
     "name": "stdout",
     "output_type": "stream",
     "text": [
      "永安镇\n"
     ]
    },
    {
     "name": "stderr",
     "output_type": "stream",
     "text": [
      "\r",
      " 93%|██████████████████████████████████████████████████████████████████████████▋     | 113/121 [22:10<01:25, 10.72s/it]"
     ]
    },
    {
     "name": "stdout",
     "output_type": "stream",
     "text": [
      "黄龙溪镇\n"
     ]
    },
    {
     "name": "stderr",
     "output_type": "stream",
     "text": [
      "\r",
      " 94%|███████████████████████████████████████████████████████████████████████████▎    | 114/121 [22:22<01:16, 10.99s/it]"
     ]
    },
    {
     "name": "stdout",
     "output_type": "stream",
     "text": [
      "唐昌镇\n"
     ]
    },
    {
     "name": "stderr",
     "output_type": "stream",
     "text": [
      "\r",
      " 95%|████████████████████████████████████████████████████████████████████████████    | 115/121 [22:32<01:05, 10.85s/it]"
     ]
    },
    {
     "name": "stdout",
     "output_type": "stream",
     "text": [
      "友爱镇\n"
     ]
    },
    {
     "name": "stderr",
     "output_type": "stream",
     "text": [
      "\r",
      " 96%|████████████████████████████████████████████████████████████████████████████▋   | 116/121 [22:44<00:55, 11.03s/it]"
     ]
    },
    {
     "name": "stdout",
     "output_type": "stream",
     "text": [
      "三道堰镇\n"
     ]
    },
    {
     "name": "stderr",
     "output_type": "stream",
     "text": [
      "\r",
      " 97%|█████████████████████████████████████████████████████████████████████████████▎  | 117/121 [22:57<00:46, 11.55s/it]"
     ]
    },
    {
     "name": "stdout",
     "output_type": "stream",
     "text": [
      "安西镇\n"
     ]
    },
    {
     "name": "stderr",
     "output_type": "stream",
     "text": [
      "\r",
      " 98%|██████████████████████████████████████████████████████████████████████████████  | 118/121 [23:08<00:34, 11.42s/it]"
     ]
    },
    {
     "name": "stdout",
     "output_type": "stream",
     "text": [
      "兴义镇\n"
     ]
    },
    {
     "name": "stderr",
     "output_type": "stream",
     "text": [
      "\r",
      " 98%|██████████████████████████████████████████████████████████████████████████████▋ | 119/121 [23:18<00:22, 11.18s/it]"
     ]
    },
    {
     "name": "stdout",
     "output_type": "stream",
     "text": [
      "永商镇\n"
     ]
    },
    {
     "name": "stderr",
     "output_type": "stream",
     "text": [
      "\r",
      " 99%|███████████████████████████████████████████████████████████████████████████████▎| 120/121 [23:29<00:10, 10.98s/it]"
     ]
    },
    {
     "name": "stdout",
     "output_type": "stream",
     "text": [
      "宝墩镇\n"
     ]
    },
    {
     "name": "stderr",
     "output_type": "stream",
     "text": [
      "100%|████████████████████████████████████████████████████████████████████████████████| 121/121 [23:40<00:00, 11.74s/it]\n"
     ]
    }
   ],
   "source": [
    "for street in tqdm(POI_test['street']):\n",
    "    print(street)\n",
    "    for col in POI['type'].unique():\n",
    "        data.loc[data['enstation_street'] == street, col] = POI_test.set_index('street').loc[street][col]"
   ]
  },
  {
   "cell_type": "code",
   "execution_count": 29,
   "id": "aa8cdef8",
   "metadata": {
    "ExecuteTime": {
     "end_time": "2023-12-18T08:24:37.678268Z",
     "start_time": "2023-12-18T08:24:37.650575Z"
    },
    "scrolled": true
   },
   "outputs": [],
   "source": [
    "data.reset_index(inplace=True,drop=True)"
   ]
  },
  {
   "cell_type": "code",
   "execution_count": 31,
   "id": "ca4ab394",
   "metadata": {
    "ExecuteTime": {
     "end_time": "2023-12-18T08:27:38.481355Z",
     "start_time": "2023-12-18T08:25:23.170194Z"
    }
   },
   "outputs": [],
   "source": [
    "data.to_csv('1218data_with_POI.csv',index=False)"
   ]
  },
  {
   "cell_type": "code",
   "execution_count": 25,
   "id": "cdec7990",
   "metadata": {
    "ExecuteTime": {
     "end_time": "2023-12-09T08:47:06.606001Z",
     "start_time": "2023-12-09T08:47:06.411949Z"
    },
    "scrolled": true
   },
   "outputs": [
    {
     "name": "stderr",
     "output_type": "stream",
     "text": [
      "C:\\Users\\孤怨\\AppData\\Local\\Temp\\ipykernel_15504\\4153475546.py:1: SettingWithCopyWarning: \n",
      "A value is trying to be set on a copy of a slice from a DataFrame\n",
      "\n",
      "See the caveats in the documentation: https://pandas.pydata.org/pandas-docs/stable/user_guide/indexing.html#returning-a-view-versus-a-copy\n",
      "  data.drop(['enstation_street','street'],axis=1,inplace=True)\n"
     ]
    }
   ],
   "source": [
    "data.drop(['enstation_street','street'],axis=1,inplace=True)"
   ]
  },
  {
   "cell_type": "code",
   "execution_count": 34,
   "id": "67f520d8",
   "metadata": {
    "ExecuteTime": {
     "end_time": "2023-12-11T09:21:26.033318Z",
     "start_time": "2023-12-11T09:21:25.990400Z"
    },
    "scrolled": true
   },
   "outputs": [
    {
     "data": {
      "text/html": [
       "<div>\n",
       "<style scoped>\n",
       "    .dataframe tbody tr th:only-of-type {\n",
       "        vertical-align: middle;\n",
       "    }\n",
       "\n",
       "    .dataframe tbody tr th {\n",
       "        vertical-align: top;\n",
       "    }\n",
       "\n",
       "    .dataframe thead th {\n",
       "        text-align: right;\n",
       "    }\n",
       "</style>\n",
       "<table border=\"1\" class=\"dataframe\">\n",
       "  <thead>\n",
       "    <tr style=\"text-align: right;\">\n",
       "      <th></th>\n",
       "      <th>enstation_time</th>\n",
       "      <th>orientation</th>\n",
       "      <th>line_name</th>\n",
       "      <th>lon1</th>\n",
       "      <th>lat1</th>\n",
       "      <th>enstation_street</th>\n",
       "      <th>exstation_street</th>\n",
       "      <th>street</th>\n",
       "      <th>餐饮服务</th>\n",
       "      <th>道路附属设施</th>\n",
       "      <th>风景名胜</th>\n",
       "      <th>公司企业</th>\n",
       "      <th>购物服务</th>\n",
       "      <th>交通设施服务</th>\n",
       "      <th>金融保险服务</th>\n",
       "      <th>科教文化服务</th>\n",
       "      <th>摩托车服务</th>\n",
       "      <th>汽车服务</th>\n",
       "      <th>汽车维修</th>\n",
       "      <th>汽车销售</th>\n",
       "      <th>商务住宅</th>\n",
       "      <th>生活服务</th>\n",
       "      <th>体育休闲服务</th>\n",
       "      <th>医疗保健服务</th>\n",
       "      <th>住宿服务</th>\n",
       "      <th>政府机构及社会团体</th>\n",
       "      <th>公共设施</th>\n",
       "      <th>通行设施</th>\n",
       "    </tr>\n",
       "  </thead>\n",
       "  <tbody>\n",
       "    <tr>\n",
       "      <th>0</th>\n",
       "      <td>2022-11-03 18:12:15</td>\n",
       "      <td>2.0</td>\n",
       "      <td>71</td>\n",
       "      <td>104.10720</td>\n",
       "      <td>30.661700</td>\n",
       "      <td>成华区新鸿路街道</td>\n",
       "      <td>成华区新鸿路街道</td>\n",
       "      <td>新鸿路街道</td>\n",
       "      <td>0</td>\n",
       "      <td>0</td>\n",
       "      <td>0</td>\n",
       "      <td>0</td>\n",
       "      <td>0</td>\n",
       "      <td>0</td>\n",
       "      <td>0</td>\n",
       "      <td>0</td>\n",
       "      <td>0</td>\n",
       "      <td>0</td>\n",
       "      <td>0</td>\n",
       "      <td>0</td>\n",
       "      <td>0</td>\n",
       "      <td>0</td>\n",
       "      <td>0</td>\n",
       "      <td>0</td>\n",
       "      <td>0</td>\n",
       "      <td>0</td>\n",
       "      <td>0</td>\n",
       "      <td>0</td>\n",
       "    </tr>\n",
       "    <tr>\n",
       "      <th>1</th>\n",
       "      <td>2022-11-03 07:24:17</td>\n",
       "      <td>1.0</td>\n",
       "      <td>571</td>\n",
       "      <td>104.06820</td>\n",
       "      <td>30.487530</td>\n",
       "      <td>双流区华阳镇街道</td>\n",
       "      <td>龙泉驿区龙泉街道</td>\n",
       "      <td>华阳镇街道</td>\n",
       "      <td>0</td>\n",
       "      <td>0</td>\n",
       "      <td>0</td>\n",
       "      <td>0</td>\n",
       "      <td>0</td>\n",
       "      <td>0</td>\n",
       "      <td>0</td>\n",
       "      <td>0</td>\n",
       "      <td>0</td>\n",
       "      <td>0</td>\n",
       "      <td>0</td>\n",
       "      <td>0</td>\n",
       "      <td>0</td>\n",
       "      <td>0</td>\n",
       "      <td>0</td>\n",
       "      <td>0</td>\n",
       "      <td>0</td>\n",
       "      <td>0</td>\n",
       "      <td>0</td>\n",
       "      <td>0</td>\n",
       "    </tr>\n",
       "    <tr>\n",
       "      <th>2</th>\n",
       "      <td>2022-11-03 07:13:01</td>\n",
       "      <td>1.0</td>\n",
       "      <td>232</td>\n",
       "      <td>103.94210</td>\n",
       "      <td>30.693420</td>\n",
       "      <td>青羊区文家街道</td>\n",
       "      <td>青羊区文家街道</td>\n",
       "      <td>文家街道</td>\n",
       "      <td>148</td>\n",
       "      <td>2</td>\n",
       "      <td>1</td>\n",
       "      <td>54</td>\n",
       "      <td>254</td>\n",
       "      <td>54</td>\n",
       "      <td>4</td>\n",
       "      <td>28</td>\n",
       "      <td>0</td>\n",
       "      <td>7</td>\n",
       "      <td>4</td>\n",
       "      <td>2</td>\n",
       "      <td>15</td>\n",
       "      <td>162</td>\n",
       "      <td>22</td>\n",
       "      <td>37</td>\n",
       "      <td>20</td>\n",
       "      <td>62</td>\n",
       "      <td>2</td>\n",
       "      <td>0</td>\n",
       "    </tr>\n",
       "    <tr>\n",
       "      <th>3</th>\n",
       "      <td>2022-11-03 08:02:53</td>\n",
       "      <td>1.0</td>\n",
       "      <td>309</td>\n",
       "      <td>103.95750</td>\n",
       "      <td>30.668860</td>\n",
       "      <td>青羊区苏坡街道</td>\n",
       "      <td>青羊区文家街道</td>\n",
       "      <td>苏坡街道</td>\n",
       "      <td>59</td>\n",
       "      <td>0</td>\n",
       "      <td>0</td>\n",
       "      <td>15</td>\n",
       "      <td>76</td>\n",
       "      <td>24</td>\n",
       "      <td>3</td>\n",
       "      <td>20</td>\n",
       "      <td>0</td>\n",
       "      <td>10</td>\n",
       "      <td>4</td>\n",
       "      <td>1</td>\n",
       "      <td>12</td>\n",
       "      <td>112</td>\n",
       "      <td>10</td>\n",
       "      <td>18</td>\n",
       "      <td>6</td>\n",
       "      <td>48</td>\n",
       "      <td>1</td>\n",
       "      <td>0</td>\n",
       "    </tr>\n",
       "    <tr>\n",
       "      <th>4</th>\n",
       "      <td>2022-11-03 17:49:07</td>\n",
       "      <td>2.0</td>\n",
       "      <td>316</td>\n",
       "      <td>104.03617</td>\n",
       "      <td>30.796137</td>\n",
       "      <td>新都区龙桥镇</td>\n",
       "      <td>金牛区沙河源街道</td>\n",
       "      <td>龙桥镇</td>\n",
       "      <td>0</td>\n",
       "      <td>0</td>\n",
       "      <td>0</td>\n",
       "      <td>0</td>\n",
       "      <td>0</td>\n",
       "      <td>0</td>\n",
       "      <td>0</td>\n",
       "      <td>0</td>\n",
       "      <td>0</td>\n",
       "      <td>0</td>\n",
       "      <td>0</td>\n",
       "      <td>0</td>\n",
       "      <td>0</td>\n",
       "      <td>0</td>\n",
       "      <td>0</td>\n",
       "      <td>0</td>\n",
       "      <td>0</td>\n",
       "      <td>0</td>\n",
       "      <td>0</td>\n",
       "      <td>0</td>\n",
       "    </tr>\n",
       "    <tr>\n",
       "      <th>...</th>\n",
       "      <td>...</td>\n",
       "      <td>...</td>\n",
       "      <td>...</td>\n",
       "      <td>...</td>\n",
       "      <td>...</td>\n",
       "      <td>...</td>\n",
       "      <td>...</td>\n",
       "      <td>...</td>\n",
       "      <td>...</td>\n",
       "      <td>...</td>\n",
       "      <td>...</td>\n",
       "      <td>...</td>\n",
       "      <td>...</td>\n",
       "      <td>...</td>\n",
       "      <td>...</td>\n",
       "      <td>...</td>\n",
       "      <td>...</td>\n",
       "      <td>...</td>\n",
       "      <td>...</td>\n",
       "      <td>...</td>\n",
       "      <td>...</td>\n",
       "      <td>...</td>\n",
       "      <td>...</td>\n",
       "      <td>...</td>\n",
       "      <td>...</td>\n",
       "      <td>...</td>\n",
       "      <td>...</td>\n",
       "      <td>...</td>\n",
       "    </tr>\n",
       "    <tr>\n",
       "      <th>9318131</th>\n",
       "      <td>2022-11-15 08:26:48</td>\n",
       "      <td>1.0</td>\n",
       "      <td>71</td>\n",
       "      <td>104.11590</td>\n",
       "      <td>30.700920</td>\n",
       "      <td>成华区青龙街道</td>\n",
       "      <td>成华区桃蹊路街道</td>\n",
       "      <td>青龙街道</td>\n",
       "      <td>632</td>\n",
       "      <td>2</td>\n",
       "      <td>14</td>\n",
       "      <td>207</td>\n",
       "      <td>879</td>\n",
       "      <td>143</td>\n",
       "      <td>22</td>\n",
       "      <td>110</td>\n",
       "      <td>5</td>\n",
       "      <td>63</td>\n",
       "      <td>22</td>\n",
       "      <td>4</td>\n",
       "      <td>77</td>\n",
       "      <td>664</td>\n",
       "      <td>67</td>\n",
       "      <td>205</td>\n",
       "      <td>154</td>\n",
       "      <td>165</td>\n",
       "      <td>19</td>\n",
       "      <td>0</td>\n",
       "    </tr>\n",
       "    <tr>\n",
       "      <th>9318132</th>\n",
       "      <td>2022-11-15 09:03:56</td>\n",
       "      <td>1.0</td>\n",
       "      <td>143</td>\n",
       "      <td>104.03520</td>\n",
       "      <td>30.736160</td>\n",
       "      <td>郫都区安靖镇</td>\n",
       "      <td>新都区三河街道</td>\n",
       "      <td>安靖镇</td>\n",
       "      <td>0</td>\n",
       "      <td>0</td>\n",
       "      <td>0</td>\n",
       "      <td>0</td>\n",
       "      <td>0</td>\n",
       "      <td>0</td>\n",
       "      <td>0</td>\n",
       "      <td>0</td>\n",
       "      <td>0</td>\n",
       "      <td>0</td>\n",
       "      <td>0</td>\n",
       "      <td>0</td>\n",
       "      <td>0</td>\n",
       "      <td>0</td>\n",
       "      <td>0</td>\n",
       "      <td>0</td>\n",
       "      <td>0</td>\n",
       "      <td>0</td>\n",
       "      <td>0</td>\n",
       "      <td>0</td>\n",
       "    </tr>\n",
       "    <tr>\n",
       "      <th>9318133</th>\n",
       "      <td>2022-11-15 08:16:45</td>\n",
       "      <td>1.0</td>\n",
       "      <td>45</td>\n",
       "      <td>104.03220</td>\n",
       "      <td>30.636030</td>\n",
       "      <td>武侯区双楠街道</td>\n",
       "      <td>武侯区玉林街道</td>\n",
       "      <td>双楠街道</td>\n",
       "      <td>0</td>\n",
       "      <td>0</td>\n",
       "      <td>0</td>\n",
       "      <td>0</td>\n",
       "      <td>0</td>\n",
       "      <td>0</td>\n",
       "      <td>0</td>\n",
       "      <td>0</td>\n",
       "      <td>0</td>\n",
       "      <td>0</td>\n",
       "      <td>0</td>\n",
       "      <td>0</td>\n",
       "      <td>0</td>\n",
       "      <td>0</td>\n",
       "      <td>0</td>\n",
       "      <td>0</td>\n",
       "      <td>0</td>\n",
       "      <td>0</td>\n",
       "      <td>0</td>\n",
       "      <td>0</td>\n",
       "    </tr>\n",
       "    <tr>\n",
       "      <th>9318134</th>\n",
       "      <td>2022-11-15 08:38:28</td>\n",
       "      <td>2.0</td>\n",
       "      <td>121</td>\n",
       "      <td>104.08260</td>\n",
       "      <td>30.607750</td>\n",
       "      <td>武侯区火车南站街道</td>\n",
       "      <td>武侯区石羊场街道</td>\n",
       "      <td>火车南站街道</td>\n",
       "      <td>895</td>\n",
       "      <td>2</td>\n",
       "      <td>19</td>\n",
       "      <td>227</td>\n",
       "      <td>892</td>\n",
       "      <td>613</td>\n",
       "      <td>46</td>\n",
       "      <td>145</td>\n",
       "      <td>7</td>\n",
       "      <td>276</td>\n",
       "      <td>41</td>\n",
       "      <td>20</td>\n",
       "      <td>351</td>\n",
       "      <td>889</td>\n",
       "      <td>115</td>\n",
       "      <td>338</td>\n",
       "      <td>711</td>\n",
       "      <td>596</td>\n",
       "      <td>17</td>\n",
       "      <td>0</td>\n",
       "    </tr>\n",
       "    <tr>\n",
       "      <th>9318135</th>\n",
       "      <td>2022-11-15 08:17:09</td>\n",
       "      <td>2.0</td>\n",
       "      <td>141</td>\n",
       "      <td>104.10520</td>\n",
       "      <td>30.645790</td>\n",
       "      <td>锦江区牛市口街道</td>\n",
       "      <td>武侯区芳草街道</td>\n",
       "      <td>牛市口街道</td>\n",
       "      <td>0</td>\n",
       "      <td>0</td>\n",
       "      <td>0</td>\n",
       "      <td>0</td>\n",
       "      <td>0</td>\n",
       "      <td>0</td>\n",
       "      <td>0</td>\n",
       "      <td>0</td>\n",
       "      <td>0</td>\n",
       "      <td>0</td>\n",
       "      <td>0</td>\n",
       "      <td>0</td>\n",
       "      <td>0</td>\n",
       "      <td>0</td>\n",
       "      <td>0</td>\n",
       "      <td>0</td>\n",
       "      <td>0</td>\n",
       "      <td>0</td>\n",
       "      <td>0</td>\n",
       "      <td>0</td>\n",
       "    </tr>\n",
       "  </tbody>\n",
       "</table>\n",
       "<p>9318136 rows × 28 columns</p>\n",
       "</div>"
      ],
      "text/plain": [
       "              enstation_time  orientation line_name       lon1       lat1  \\\n",
       "0        2022-11-03 18:12:15          2.0        71  104.10720  30.661700   \n",
       "1        2022-11-03 07:24:17          1.0       571  104.06820  30.487530   \n",
       "2        2022-11-03 07:13:01          1.0       232  103.94210  30.693420   \n",
       "3        2022-11-03 08:02:53          1.0       309  103.95750  30.668860   \n",
       "4        2022-11-03 17:49:07          2.0       316  104.03617  30.796137   \n",
       "...                      ...          ...       ...        ...        ...   \n",
       "9318131  2022-11-15 08:26:48          1.0        71  104.11590  30.700920   \n",
       "9318132  2022-11-15 09:03:56          1.0       143  104.03520  30.736160   \n",
       "9318133  2022-11-15 08:16:45          1.0        45  104.03220  30.636030   \n",
       "9318134  2022-11-15 08:38:28          2.0       121  104.08260  30.607750   \n",
       "9318135  2022-11-15 08:17:09          2.0       141  104.10520  30.645790   \n",
       "\n",
       "        enstation_street exstation_street  street 餐饮服务 道路附属设施 风景名胜 公司企业 购物服务  \\\n",
       "0               成华区新鸿路街道         成华区新鸿路街道   新鸿路街道    0      0    0    0    0   \n",
       "1               双流区华阳镇街道         龙泉驿区龙泉街道   华阳镇街道    0      0    0    0    0   \n",
       "2                青羊区文家街道          青羊区文家街道    文家街道  148      2    1   54  254   \n",
       "3                青羊区苏坡街道          青羊区文家街道    苏坡街道   59      0    0   15   76   \n",
       "4                 新都区龙桥镇         金牛区沙河源街道     龙桥镇    0      0    0    0    0   \n",
       "...                  ...              ...     ...  ...    ...  ...  ...  ...   \n",
       "9318131          成华区青龙街道         成华区桃蹊路街道    青龙街道  632      2   14  207  879   \n",
       "9318132           郫都区安靖镇          新都区三河街道     安靖镇    0      0    0    0    0   \n",
       "9318133          武侯区双楠街道          武侯区玉林街道    双楠街道    0      0    0    0    0   \n",
       "9318134        武侯区火车南站街道         武侯区石羊场街道  火车南站街道  895      2   19  227  892   \n",
       "9318135         锦江区牛市口街道          武侯区芳草街道   牛市口街道    0      0    0    0    0   \n",
       "\n",
       "        交通设施服务 金融保险服务 科教文化服务 摩托车服务 汽车服务 汽车维修 汽车销售 商务住宅 生活服务 体育休闲服务 医疗保健服务  \\\n",
       "0            0      0      0     0    0    0    0    0    0      0      0   \n",
       "1            0      0      0     0    0    0    0    0    0      0      0   \n",
       "2           54      4     28     0    7    4    2   15  162     22     37   \n",
       "3           24      3     20     0   10    4    1   12  112     10     18   \n",
       "4            0      0      0     0    0    0    0    0    0      0      0   \n",
       "...        ...    ...    ...   ...  ...  ...  ...  ...  ...    ...    ...   \n",
       "9318131    143     22    110     5   63   22    4   77  664     67    205   \n",
       "9318132      0      0      0     0    0    0    0    0    0      0      0   \n",
       "9318133      0      0      0     0    0    0    0    0    0      0      0   \n",
       "9318134    613     46    145     7  276   41   20  351  889    115    338   \n",
       "9318135      0      0      0     0    0    0    0    0    0      0      0   \n",
       "\n",
       "        住宿服务 政府机构及社会团体 公共设施 通行设施  \n",
       "0          0         0    0    0  \n",
       "1          0         0    0    0  \n",
       "2         20        62    2    0  \n",
       "3          6        48    1    0  \n",
       "4          0         0    0    0  \n",
       "...      ...       ...  ...  ...  \n",
       "9318131  154       165   19    0  \n",
       "9318132    0         0    0    0  \n",
       "9318133    0         0    0    0  \n",
       "9318134  711       596   17    0  \n",
       "9318135    0         0    0    0  \n",
       "\n",
       "[9318136 rows x 28 columns]"
      ]
     },
     "execution_count": 34,
     "metadata": {},
     "output_type": "execute_result"
    }
   ],
   "source": [
    "data"
   ]
  },
  {
   "cell_type": "code",
   "execution_count": 24,
   "id": "c18c02cf",
   "metadata": {
    "ExecuteTime": {
     "end_time": "2023-12-11T08:54:07.919466Z",
     "start_time": "2023-12-11T08:54:05.628149Z"
    },
    "scrolled": true
   },
   "outputs": [
    {
     "data": {
      "text/plain": [
       "array(['新鸿路街道', '华阳镇街道', '龙桥镇', '正兴镇', '红光镇', '太升路街道', '新兴镇', '犀浦镇',\n",
       "       '区大面街道', '人民北路街道', '万安镇', '东坡街道', '永宁镇', '东升街道', '新都镇', '石羊场街道',\n",
       "       '团结镇', '兴隆镇', '西航港街道', '双楠街道', '水井坊街道', '双桂路街道', '东光街道', '督院街街道',\n",
       "       '中和街道', '龙舟路街道', '石板滩镇', '金马镇', '合江亭街道', '区龙泉街道', '桃蹊路街道', '安德镇',\n",
       "       '九江街道', '新华西路街道', '籍田镇', '斑竹园镇', '德源镇', '牛市口街道', '黄忠街道', '跳伞塔街道',\n",
       "       '芳草街道', '安靖镇', '泰兴镇', '汪家拐街道', '区十陵街道', '盐市口街道', '新繁镇', '区柏合镇',\n",
       "       '建设路街道', '莲新街道', '区大弯街道', '公兴街道', '唐元镇', '煎茶镇', '三星镇', '木兰镇',\n",
       "       '白沙镇', '区洛带镇', '区西河镇', '花园镇', '合江镇', '区同安街道', '区大同镇', '黄甲街道',\n",
       "       '太平镇', '古城镇', '永兴镇', '大林镇', '区祥福镇', '新民场镇', '区红阳街道', '区姚渡镇',\n",
       "       '区龙王镇', '区弥牟镇', '金桥镇'], dtype=object)"
      ]
     },
     "execution_count": 24,
     "metadata": {},
     "output_type": "execute_result"
    }
   ],
   "source": [
    "data[data['汽车服务'] == 0]['street'].unique()"
   ]
  },
  {
   "cell_type": "code",
   "execution_count": 33,
   "id": "9a12c4ad",
   "metadata": {
    "ExecuteTime": {
     "end_time": "2023-12-11T08:56:35.087564Z",
     "start_time": "2023-12-11T08:56:35.075596Z"
    }
   },
   "outputs": [
    {
     "data": {
      "text/plain": [
       "array(['玉林街道', '晋阳街道', '簇桥街道', '簇锦街道', '华兴街道', '望江路街道', '浆洗街街道', '红牌楼街道',\n",
       "       '机投桥街道', '金花桥街道', '火车南站街道', '芳草街街道', '石羊街道', '桂溪街道', '肖家河街道'],\n",
       "      dtype=object)"
      ]
     },
     "execution_count": 33,
     "metadata": {},
     "output_type": "execute_result"
    }
   ],
   "source": [
    "POI[POI['region'] == '武侯区']['streets'].unique()"
   ]
  },
  {
   "cell_type": "code",
   "execution_count": 27,
   "id": "5322d918",
   "metadata": {
    "ExecuteTime": {
     "end_time": "2023-12-11T08:55:34.530400Z",
     "start_time": "2023-12-11T08:55:34.511421Z"
    }
   },
   "outputs": [
    {
     "data": {
      "text/html": [
       "<div>\n",
       "<style scoped>\n",
       "    .dataframe tbody tr th:only-of-type {\n",
       "        vertical-align: middle;\n",
       "    }\n",
       "\n",
       "    .dataframe tbody tr th {\n",
       "        vertical-align: top;\n",
       "    }\n",
       "\n",
       "    .dataframe thead th {\n",
       "        text-align: right;\n",
       "    }\n",
       "</style>\n",
       "<table border=\"1\" class=\"dataframe\">\n",
       "  <thead>\n",
       "    <tr style=\"text-align: right;\">\n",
       "      <th></th>\n",
       "      <th>street</th>\n",
       "      <th>餐饮服务</th>\n",
       "      <th>道路附属设施</th>\n",
       "      <th>风景名胜</th>\n",
       "      <th>公司企业</th>\n",
       "      <th>购物服务</th>\n",
       "      <th>交通设施服务</th>\n",
       "      <th>金融保险服务</th>\n",
       "      <th>科教文化服务</th>\n",
       "      <th>摩托车服务</th>\n",
       "      <th>汽车服务</th>\n",
       "      <th>汽车维修</th>\n",
       "      <th>汽车销售</th>\n",
       "      <th>商务住宅</th>\n",
       "      <th>生活服务</th>\n",
       "      <th>体育休闲服务</th>\n",
       "      <th>医疗保健服务</th>\n",
       "      <th>住宿服务</th>\n",
       "      <th>政府机构及社会团体</th>\n",
       "      <th>公共设施</th>\n",
       "      <th>通行设施</th>\n",
       "    </tr>\n",
       "  </thead>\n",
       "  <tbody>\n",
       "  </tbody>\n",
       "</table>\n",
       "</div>"
      ],
      "text/plain": [
       "Empty DataFrame\n",
       "Columns: [street, 餐饮服务, 道路附属设施, 风景名胜, 公司企业, 购物服务, 交通设施服务, 金融保险服务, 科教文化服务, 摩托车服务, 汽车服务, 汽车维修, 汽车销售, 商务住宅, 生活服务, 体育休闲服务, 医疗保健服务, 住宿服务, 政府机构及社会团体, 公共设施, 通行设施]\n",
       "Index: []"
      ]
     },
     "execution_count": 27,
     "metadata": {},
     "output_type": "execute_result"
    }
   ],
   "source": [
    "POI_test[POI_test['street'] == '芳草街道']"
   ]
  },
  {
   "cell_type": "code",
   "execution_count": 27,
   "id": "0b96bda4",
   "metadata": {
    "ExecuteTime": {
     "end_time": "2023-12-09T08:47:06.853257Z",
     "start_time": "2023-12-09T08:47:06.680183Z"
    },
    "scrolled": false
   },
   "outputs": [
    {
     "name": "stderr",
     "output_type": "stream",
     "text": [
      "C:\\Users\\孤怨\\AppData\\Local\\Temp\\ipykernel_15504\\1202767217.py:2: SettingWithCopyWarning: \n",
      "A value is trying to be set on a copy of a slice from a DataFrame.\n",
      "Try using .loc[row_indexer,col_indexer] = value instead\n",
      "\n",
      "See the caveats in the documentation: https://pandas.pydata.org/pandas-docs/stable/user_guide/indexing.html#returning-a-view-versus-a-copy\n",
      "  data['exstation_street'] = ex_stree_enc.fit_transform(data.exstation_street.values)\n",
      "C:\\Users\\孤怨\\AppData\\Local\\Temp\\ipykernel_15504\\1202767217.py:4: SettingWithCopyWarning: \n",
      "A value is trying to be set on a copy of a slice from a DataFrame.\n",
      "Try using .loc[row_indexer,col_indexer] = value instead\n",
      "\n",
      "See the caveats in the documentation: https://pandas.pydata.org/pandas-docs/stable/user_guide/indexing.html#returning-a-view-versus-a-copy\n",
      "  data['line_name'] = line_name_enc.fit_transform(data.line_name.values)\n"
     ]
    }
   ],
   "source": [
    "ex_stree_enc = LabelEncoder()\n",
    "data['exstation_street'] = ex_stree_enc.fit_transform(data.exstation_street.values)\n",
    "line_name_enc = LabelEncoder()\n",
    "data['line_name'] = line_name_enc.fit_transform(data.line_name.values)"
   ]
  },
  {
   "cell_type": "code",
   "execution_count": 28,
   "id": "ac1e741a",
   "metadata": {
    "ExecuteTime": {
     "end_time": "2023-12-09T08:47:07.328638Z",
     "start_time": "2023-12-09T08:47:06.856235Z"
    },
    "scrolled": true
   },
   "outputs": [
    {
     "name": "stderr",
     "output_type": "stream",
     "text": [
      "C:\\Users\\孤怨\\AppData\\Local\\Temp\\ipykernel_15504\\3251072208.py:1: SettingWithCopyWarning: \n",
      "A value is trying to be set on a copy of a slice from a DataFrame.\n",
      "Try using .loc[row_indexer,col_indexer] = value instead\n",
      "\n",
      "See the caveats in the documentation: https://pandas.pydata.org/pandas-docs/stable/user_guide/indexing.html#returning-a-view-versus-a-copy\n",
      "  data['enstation_time'] = pd.to_datetime(data['enstation_time'])\n",
      "C:\\Users\\孤怨\\AppData\\Local\\Temp\\ipykernel_15504\\3251072208.py:2: SettingWithCopyWarning: \n",
      "A value is trying to be set on a copy of a slice from a DataFrame.\n",
      "Try using .loc[row_indexer,col_indexer] = value instead\n",
      "\n",
      "See the caveats in the documentation: https://pandas.pydata.org/pandas-docs/stable/user_guide/indexing.html#returning-a-view-versus-a-copy\n",
      "  data['enstation_time'] = data['enstation_time'].astype(np.int64) // 10**6\n"
     ]
    }
   ],
   "source": [
    "data['enstation_time'] = pd.to_datetime(data['enstation_time'])\n",
    "data['enstation_time'] = data['enstation_time'].astype(np.int64) // 10**6"
   ]
  },
  {
   "cell_type": "code",
   "execution_count": 29,
   "id": "cbfbeaa4",
   "metadata": {
    "ExecuteTime": {
     "end_time": "2023-12-09T08:47:07.406159Z",
     "start_time": "2023-12-09T08:47:07.332627Z"
    },
    "scrolled": true
   },
   "outputs": [
    {
     "data": {
      "text/html": [
       "<div>\n",
       "<style scoped>\n",
       "    .dataframe tbody tr th:only-of-type {\n",
       "        vertical-align: middle;\n",
       "    }\n",
       "\n",
       "    .dataframe tbody tr th {\n",
       "        vertical-align: top;\n",
       "    }\n",
       "\n",
       "    .dataframe thead th {\n",
       "        text-align: right;\n",
       "    }\n",
       "</style>\n",
       "<table border=\"1\" class=\"dataframe\">\n",
       "  <thead>\n",
       "    <tr style=\"text-align: right;\">\n",
       "      <th></th>\n",
       "      <th>enstation_time</th>\n",
       "      <th>orientation</th>\n",
       "      <th>line_name</th>\n",
       "      <th>lon1</th>\n",
       "      <th>lat1</th>\n",
       "      <th>exstation_street</th>\n",
       "      <th>餐饮服务</th>\n",
       "      <th>道路附属设施</th>\n",
       "      <th>风景名胜</th>\n",
       "      <th>公司企业</th>\n",
       "      <th>购物服务</th>\n",
       "      <th>交通设施服务</th>\n",
       "      <th>金融保险服务</th>\n",
       "      <th>科教文化服务</th>\n",
       "      <th>摩托车服务</th>\n",
       "      <th>汽车服务</th>\n",
       "      <th>汽车维修</th>\n",
       "      <th>汽车销售</th>\n",
       "      <th>商务住宅</th>\n",
       "      <th>生活服务</th>\n",
       "      <th>体育休闲服务</th>\n",
       "      <th>医疗保健服务</th>\n",
       "      <th>住宿服务</th>\n",
       "      <th>政府机构及社会团体</th>\n",
       "      <th>公共设施</th>\n",
       "      <th>通行设施</th>\n",
       "    </tr>\n",
       "  </thead>\n",
       "  <tbody>\n",
       "    <tr>\n",
       "      <th>0</th>\n",
       "      <td>1667497810000</td>\n",
       "      <td>1.0</td>\n",
       "      <td>40</td>\n",
       "      <td>104.1556</td>\n",
       "      <td>30.58939</td>\n",
       "      <td>45</td>\n",
       "      <td>353</td>\n",
       "      <td>0</td>\n",
       "      <td>8</td>\n",
       "      <td>43</td>\n",
       "      <td>194</td>\n",
       "      <td>41</td>\n",
       "      <td>7</td>\n",
       "      <td>23</td>\n",
       "      <td>1</td>\n",
       "      <td>12</td>\n",
       "      <td>2</td>\n",
       "      <td>2</td>\n",
       "      <td>36</td>\n",
       "      <td>259</td>\n",
       "      <td>46</td>\n",
       "      <td>34</td>\n",
       "      <td>353</td>\n",
       "      <td>80</td>\n",
       "      <td>2</td>\n",
       "      <td>0</td>\n",
       "    </tr>\n",
       "    <tr>\n",
       "      <th>1</th>\n",
       "      <td>1667494241000</td>\n",
       "      <td>2.0</td>\n",
       "      <td>30</td>\n",
       "      <td>104.1475</td>\n",
       "      <td>30.58719</td>\n",
       "      <td>45</td>\n",
       "      <td>353</td>\n",
       "      <td>0</td>\n",
       "      <td>8</td>\n",
       "      <td>43</td>\n",
       "      <td>194</td>\n",
       "      <td>41</td>\n",
       "      <td>7</td>\n",
       "      <td>23</td>\n",
       "      <td>1</td>\n",
       "      <td>12</td>\n",
       "      <td>2</td>\n",
       "      <td>2</td>\n",
       "      <td>36</td>\n",
       "      <td>259</td>\n",
       "      <td>46</td>\n",
       "      <td>34</td>\n",
       "      <td>353</td>\n",
       "      <td>80</td>\n",
       "      <td>2</td>\n",
       "      <td>0</td>\n",
       "    </tr>\n",
       "    <tr>\n",
       "      <th>2</th>\n",
       "      <td>1667461909000</td>\n",
       "      <td>2.0</td>\n",
       "      <td>67</td>\n",
       "      <td>104.1604</td>\n",
       "      <td>30.57937</td>\n",
       "      <td>63</td>\n",
       "      <td>353</td>\n",
       "      <td>0</td>\n",
       "      <td>8</td>\n",
       "      <td>43</td>\n",
       "      <td>194</td>\n",
       "      <td>41</td>\n",
       "      <td>7</td>\n",
       "      <td>23</td>\n",
       "      <td>1</td>\n",
       "      <td>12</td>\n",
       "      <td>2</td>\n",
       "      <td>2</td>\n",
       "      <td>36</td>\n",
       "      <td>259</td>\n",
       "      <td>46</td>\n",
       "      <td>34</td>\n",
       "      <td>353</td>\n",
       "      <td>80</td>\n",
       "      <td>2</td>\n",
       "      <td>0</td>\n",
       "    </tr>\n",
       "    <tr>\n",
       "      <th>3</th>\n",
       "      <td>1667494382000</td>\n",
       "      <td>2.0</td>\n",
       "      <td>85</td>\n",
       "      <td>104.0784</td>\n",
       "      <td>30.65808</td>\n",
       "      <td>6</td>\n",
       "      <td>888</td>\n",
       "      <td>0</td>\n",
       "      <td>22</td>\n",
       "      <td>107</td>\n",
       "      <td>865</td>\n",
       "      <td>148</td>\n",
       "      <td>29</td>\n",
       "      <td>60</td>\n",
       "      <td>2</td>\n",
       "      <td>34</td>\n",
       "      <td>3</td>\n",
       "      <td>2</td>\n",
       "      <td>81</td>\n",
       "      <td>851</td>\n",
       "      <td>224</td>\n",
       "      <td>63</td>\n",
       "      <td>888</td>\n",
       "      <td>58</td>\n",
       "      <td>31</td>\n",
       "      <td>0</td>\n",
       "    </tr>\n",
       "    <tr>\n",
       "      <th>4</th>\n",
       "      <td>1667493981000</td>\n",
       "      <td>1.0</td>\n",
       "      <td>3</td>\n",
       "      <td>104.1224</td>\n",
       "      <td>30.62393</td>\n",
       "      <td>50</td>\n",
       "      <td>417</td>\n",
       "      <td>0</td>\n",
       "      <td>7</td>\n",
       "      <td>205</td>\n",
       "      <td>672</td>\n",
       "      <td>95</td>\n",
       "      <td>13</td>\n",
       "      <td>54</td>\n",
       "      <td>3</td>\n",
       "      <td>24</td>\n",
       "      <td>14</td>\n",
       "      <td>3</td>\n",
       "      <td>52</td>\n",
       "      <td>453</td>\n",
       "      <td>47</td>\n",
       "      <td>103</td>\n",
       "      <td>62</td>\n",
       "      <td>113</td>\n",
       "      <td>6</td>\n",
       "      <td>0</td>\n",
       "    </tr>\n",
       "    <tr>\n",
       "      <th>...</th>\n",
       "      <td>...</td>\n",
       "      <td>...</td>\n",
       "      <td>...</td>\n",
       "      <td>...</td>\n",
       "      <td>...</td>\n",
       "      <td>...</td>\n",
       "      <td>...</td>\n",
       "      <td>...</td>\n",
       "      <td>...</td>\n",
       "      <td>...</td>\n",
       "      <td>...</td>\n",
       "      <td>...</td>\n",
       "      <td>...</td>\n",
       "      <td>...</td>\n",
       "      <td>...</td>\n",
       "      <td>...</td>\n",
       "      <td>...</td>\n",
       "      <td>...</td>\n",
       "      <td>...</td>\n",
       "      <td>...</td>\n",
       "      <td>...</td>\n",
       "      <td>...</td>\n",
       "      <td>...</td>\n",
       "      <td>...</td>\n",
       "      <td>...</td>\n",
       "      <td>...</td>\n",
       "    </tr>\n",
       "    <tr>\n",
       "      <th>333376</th>\n",
       "      <td>1668527950000</td>\n",
       "      <td>2.0</td>\n",
       "      <td>67</td>\n",
       "      <td>104.1475</td>\n",
       "      <td>30.58729</td>\n",
       "      <td>56</td>\n",
       "      <td>353</td>\n",
       "      <td>0</td>\n",
       "      <td>8</td>\n",
       "      <td>43</td>\n",
       "      <td>194</td>\n",
       "      <td>41</td>\n",
       "      <td>7</td>\n",
       "      <td>23</td>\n",
       "      <td>1</td>\n",
       "      <td>12</td>\n",
       "      <td>2</td>\n",
       "      <td>2</td>\n",
       "      <td>36</td>\n",
       "      <td>259</td>\n",
       "      <td>46</td>\n",
       "      <td>34</td>\n",
       "      <td>353</td>\n",
       "      <td>80</td>\n",
       "      <td>2</td>\n",
       "      <td>0</td>\n",
       "    </tr>\n",
       "    <tr>\n",
       "      <th>333377</th>\n",
       "      <td>1668500308000</td>\n",
       "      <td>2.0</td>\n",
       "      <td>66</td>\n",
       "      <td>104.0777</td>\n",
       "      <td>30.65289</td>\n",
       "      <td>71</td>\n",
       "      <td>888</td>\n",
       "      <td>0</td>\n",
       "      <td>22</td>\n",
       "      <td>107</td>\n",
       "      <td>865</td>\n",
       "      <td>148</td>\n",
       "      <td>29</td>\n",
       "      <td>60</td>\n",
       "      <td>2</td>\n",
       "      <td>34</td>\n",
       "      <td>3</td>\n",
       "      <td>2</td>\n",
       "      <td>81</td>\n",
       "      <td>851</td>\n",
       "      <td>224</td>\n",
       "      <td>63</td>\n",
       "      <td>888</td>\n",
       "      <td>58</td>\n",
       "      <td>31</td>\n",
       "      <td>0</td>\n",
       "    </tr>\n",
       "    <tr>\n",
       "      <th>333378</th>\n",
       "      <td>1668533431000</td>\n",
       "      <td>2.0</td>\n",
       "      <td>30</td>\n",
       "      <td>104.1428</td>\n",
       "      <td>30.59634</td>\n",
       "      <td>75</td>\n",
       "      <td>353</td>\n",
       "      <td>0</td>\n",
       "      <td>8</td>\n",
       "      <td>43</td>\n",
       "      <td>194</td>\n",
       "      <td>41</td>\n",
       "      <td>7</td>\n",
       "      <td>23</td>\n",
       "      <td>1</td>\n",
       "      <td>12</td>\n",
       "      <td>2</td>\n",
       "      <td>2</td>\n",
       "      <td>36</td>\n",
       "      <td>259</td>\n",
       "      <td>46</td>\n",
       "      <td>34</td>\n",
       "      <td>353</td>\n",
       "      <td>80</td>\n",
       "      <td>2</td>\n",
       "      <td>0</td>\n",
       "    </tr>\n",
       "    <tr>\n",
       "      <th>333379</th>\n",
       "      <td>1668500748000</td>\n",
       "      <td>2.0</td>\n",
       "      <td>67</td>\n",
       "      <td>104.1474</td>\n",
       "      <td>30.58723</td>\n",
       "      <td>56</td>\n",
       "      <td>353</td>\n",
       "      <td>0</td>\n",
       "      <td>8</td>\n",
       "      <td>43</td>\n",
       "      <td>194</td>\n",
       "      <td>41</td>\n",
       "      <td>7</td>\n",
       "      <td>23</td>\n",
       "      <td>1</td>\n",
       "      <td>12</td>\n",
       "      <td>2</td>\n",
       "      <td>2</td>\n",
       "      <td>36</td>\n",
       "      <td>259</td>\n",
       "      <td>46</td>\n",
       "      <td>34</td>\n",
       "      <td>353</td>\n",
       "      <td>80</td>\n",
       "      <td>2</td>\n",
       "      <td>0</td>\n",
       "    </tr>\n",
       "    <tr>\n",
       "      <th>333380</th>\n",
       "      <td>1668516157000</td>\n",
       "      <td>2.0</td>\n",
       "      <td>56</td>\n",
       "      <td>104.1229</td>\n",
       "      <td>30.62358</td>\n",
       "      <td>48</td>\n",
       "      <td>417</td>\n",
       "      <td>0</td>\n",
       "      <td>7</td>\n",
       "      <td>205</td>\n",
       "      <td>672</td>\n",
       "      <td>95</td>\n",
       "      <td>13</td>\n",
       "      <td>54</td>\n",
       "      <td>3</td>\n",
       "      <td>24</td>\n",
       "      <td>14</td>\n",
       "      <td>3</td>\n",
       "      <td>52</td>\n",
       "      <td>453</td>\n",
       "      <td>47</td>\n",
       "      <td>103</td>\n",
       "      <td>62</td>\n",
       "      <td>113</td>\n",
       "      <td>6</td>\n",
       "      <td>0</td>\n",
       "    </tr>\n",
       "  </tbody>\n",
       "</table>\n",
       "<p>333381 rows × 26 columns</p>\n",
       "</div>"
      ],
      "text/plain": [
       "        enstation_time  orientation  line_name      lon1      lat1  \\\n",
       "0        1667497810000          1.0         40  104.1556  30.58939   \n",
       "1        1667494241000          2.0         30  104.1475  30.58719   \n",
       "2        1667461909000          2.0         67  104.1604  30.57937   \n",
       "3        1667494382000          2.0         85  104.0784  30.65808   \n",
       "4        1667493981000          1.0          3  104.1224  30.62393   \n",
       "...                ...          ...        ...       ...       ...   \n",
       "333376   1668527950000          2.0         67  104.1475  30.58729   \n",
       "333377   1668500308000          2.0         66  104.0777  30.65289   \n",
       "333378   1668533431000          2.0         30  104.1428  30.59634   \n",
       "333379   1668500748000          2.0         67  104.1474  30.58723   \n",
       "333380   1668516157000          2.0         56  104.1229  30.62358   \n",
       "\n",
       "        exstation_street 餐饮服务 道路附属设施 风景名胜 公司企业 购物服务 交通设施服务 金融保险服务 科教文化服务  \\\n",
       "0                     45  353      0    8   43  194     41      7     23   \n",
       "1                     45  353      0    8   43  194     41      7     23   \n",
       "2                     63  353      0    8   43  194     41      7     23   \n",
       "3                      6  888      0   22  107  865    148     29     60   \n",
       "4                     50  417      0    7  205  672     95     13     54   \n",
       "...                  ...  ...    ...  ...  ...  ...    ...    ...    ...   \n",
       "333376                56  353      0    8   43  194     41      7     23   \n",
       "333377                71  888      0   22  107  865    148     29     60   \n",
       "333378                75  353      0    8   43  194     41      7     23   \n",
       "333379                56  353      0    8   43  194     41      7     23   \n",
       "333380                48  417      0    7  205  672     95     13     54   \n",
       "\n",
       "       摩托车服务 汽车服务 汽车维修 汽车销售 商务住宅 生活服务 体育休闲服务 医疗保健服务 住宿服务 政府机构及社会团体 公共设施 通行设施  \n",
       "0          1   12    2    2   36  259     46     34  353        80    2    0  \n",
       "1          1   12    2    2   36  259     46     34  353        80    2    0  \n",
       "2          1   12    2    2   36  259     46     34  353        80    2    0  \n",
       "3          2   34    3    2   81  851    224     63  888        58   31    0  \n",
       "4          3   24   14    3   52  453     47    103   62       113    6    0  \n",
       "...      ...  ...  ...  ...  ...  ...    ...    ...  ...       ...  ...  ...  \n",
       "333376     1   12    2    2   36  259     46     34  353        80    2    0  \n",
       "333377     2   34    3    2   81  851    224     63  888        58   31    0  \n",
       "333378     1   12    2    2   36  259     46     34  353        80    2    0  \n",
       "333379     1   12    2    2   36  259     46     34  353        80    2    0  \n",
       "333380     3   24   14    3   52  453     47    103   62       113    6    0  \n",
       "\n",
       "[333381 rows x 26 columns]"
      ]
     },
     "execution_count": 29,
     "metadata": {},
     "output_type": "execute_result"
    }
   ],
   "source": [
    "data"
   ]
  },
  {
   "cell_type": "code",
   "execution_count": 30,
   "id": "8c9d303f",
   "metadata": {
    "ExecuteTime": {
     "end_time": "2023-12-09T08:47:07.436250Z",
     "start_time": "2023-12-09T08:47:07.411146Z"
    }
   },
   "outputs": [],
   "source": [
    "y_data = data['exstation_street']"
   ]
  },
  {
   "cell_type": "code",
   "execution_count": 31,
   "id": "ea6cabe1",
   "metadata": {
    "ExecuteTime": {
     "end_time": "2023-12-09T08:47:07.453163Z",
     "start_time": "2023-12-09T08:47:07.441195Z"
    }
   },
   "outputs": [],
   "source": [
    "y = y_data.to_numpy().astype(np.float64)"
   ]
  },
  {
   "cell_type": "code",
   "execution_count": 32,
   "id": "f47f5923",
   "metadata": {
    "ExecuteTime": {
     "end_time": "2023-12-09T08:47:07.638546Z",
     "start_time": "2023-12-09T08:47:07.459147Z"
    }
   },
   "outputs": [],
   "source": [
    "x_data = data.drop(['exstation_street'],axis=1)"
   ]
  },
  {
   "cell_type": "code",
   "execution_count": 33,
   "id": "ac9fcd26",
   "metadata": {
    "ExecuteTime": {
     "end_time": "2023-12-09T08:47:09.524927Z",
     "start_time": "2023-12-09T08:47:07.640565Z"
    },
    "scrolled": true
   },
   "outputs": [],
   "source": [
    "X = x_data.to_numpy().astype(np.float64)"
   ]
  },
  {
   "cell_type": "code",
   "execution_count": 34,
   "id": "31c2a7cc",
   "metadata": {
    "ExecuteTime": {
     "end_time": "2023-12-09T08:47:09.744053Z",
     "start_time": "2023-12-09T08:47:09.528037Z"
    }
   },
   "outputs": [],
   "source": [
    "X_train, X_test, y_train, y_test = train_test_split(X, y, test_size=0.2, random_state=42)"
   ]
  },
  {
   "cell_type": "code",
   "execution_count": 35,
   "id": "ed6c0026",
   "metadata": {
    "ExecuteTime": {
     "end_time": "2023-12-09T08:47:09.759012Z",
     "start_time": "2023-12-09T08:47:09.747043Z"
    }
   },
   "outputs": [],
   "source": [
    "rf_classifier = RandomForestClassifier(n_estimators=50, random_state=528)"
   ]
  },
  {
   "cell_type": "code",
   "execution_count": 36,
   "id": "2f96df76",
   "metadata": {
    "ExecuteTime": {
     "end_time": "2023-12-09T08:48:48.982699Z",
     "start_time": "2023-12-09T08:47:09.761005Z"
    }
   },
   "outputs": [
    {
     "data": {
      "text/html": [
       "<style>#sk-container-id-1 {color: black;}#sk-container-id-1 pre{padding: 0;}#sk-container-id-1 div.sk-toggleable {background-color: white;}#sk-container-id-1 label.sk-toggleable__label {cursor: pointer;display: block;width: 100%;margin-bottom: 0;padding: 0.3em;box-sizing: border-box;text-align: center;}#sk-container-id-1 label.sk-toggleable__label-arrow:before {content: \"▸\";float: left;margin-right: 0.25em;color: #696969;}#sk-container-id-1 label.sk-toggleable__label-arrow:hover:before {color: black;}#sk-container-id-1 div.sk-estimator:hover label.sk-toggleable__label-arrow:before {color: black;}#sk-container-id-1 div.sk-toggleable__content {max-height: 0;max-width: 0;overflow: hidden;text-align: left;background-color: #f0f8ff;}#sk-container-id-1 div.sk-toggleable__content pre {margin: 0.2em;color: black;border-radius: 0.25em;background-color: #f0f8ff;}#sk-container-id-1 input.sk-toggleable__control:checked~div.sk-toggleable__content {max-height: 200px;max-width: 100%;overflow: auto;}#sk-container-id-1 input.sk-toggleable__control:checked~label.sk-toggleable__label-arrow:before {content: \"▾\";}#sk-container-id-1 div.sk-estimator input.sk-toggleable__control:checked~label.sk-toggleable__label {background-color: #d4ebff;}#sk-container-id-1 div.sk-label input.sk-toggleable__control:checked~label.sk-toggleable__label {background-color: #d4ebff;}#sk-container-id-1 input.sk-hidden--visually {border: 0;clip: rect(1px 1px 1px 1px);clip: rect(1px, 1px, 1px, 1px);height: 1px;margin: -1px;overflow: hidden;padding: 0;position: absolute;width: 1px;}#sk-container-id-1 div.sk-estimator {font-family: monospace;background-color: #f0f8ff;border: 1px dotted black;border-radius: 0.25em;box-sizing: border-box;margin-bottom: 0.5em;}#sk-container-id-1 div.sk-estimator:hover {background-color: #d4ebff;}#sk-container-id-1 div.sk-parallel-item::after {content: \"\";width: 100%;border-bottom: 1px solid gray;flex-grow: 1;}#sk-container-id-1 div.sk-label:hover label.sk-toggleable__label {background-color: #d4ebff;}#sk-container-id-1 div.sk-serial::before {content: \"\";position: absolute;border-left: 1px solid gray;box-sizing: border-box;top: 0;bottom: 0;left: 50%;z-index: 0;}#sk-container-id-1 div.sk-serial {display: flex;flex-direction: column;align-items: center;background-color: white;padding-right: 0.2em;padding-left: 0.2em;position: relative;}#sk-container-id-1 div.sk-item {position: relative;z-index: 1;}#sk-container-id-1 div.sk-parallel {display: flex;align-items: stretch;justify-content: center;background-color: white;position: relative;}#sk-container-id-1 div.sk-item::before, #sk-container-id-1 div.sk-parallel-item::before {content: \"\";position: absolute;border-left: 1px solid gray;box-sizing: border-box;top: 0;bottom: 0;left: 50%;z-index: -1;}#sk-container-id-1 div.sk-parallel-item {display: flex;flex-direction: column;z-index: 1;position: relative;background-color: white;}#sk-container-id-1 div.sk-parallel-item:first-child::after {align-self: flex-end;width: 50%;}#sk-container-id-1 div.sk-parallel-item:last-child::after {align-self: flex-start;width: 50%;}#sk-container-id-1 div.sk-parallel-item:only-child::after {width: 0;}#sk-container-id-1 div.sk-dashed-wrapped {border: 1px dashed gray;margin: 0 0.4em 0.5em 0.4em;box-sizing: border-box;padding-bottom: 0.4em;background-color: white;}#sk-container-id-1 div.sk-label label {font-family: monospace;font-weight: bold;display: inline-block;line-height: 1.2em;}#sk-container-id-1 div.sk-label-container {text-align: center;}#sk-container-id-1 div.sk-container {/* jupyter's `normalize.less` sets `[hidden] { display: none; }` but bootstrap.min.css set `[hidden] { display: none !important; }` so we also need the `!important` here to be able to override the default hidden behavior on the sphinx rendered scikit-learn.org. See: https://github.com/scikit-learn/scikit-learn/issues/21755 */display: inline-block !important;position: relative;}#sk-container-id-1 div.sk-text-repr-fallback {display: none;}</style><div id=\"sk-container-id-1\" class=\"sk-top-container\"><div class=\"sk-text-repr-fallback\"><pre>RandomForestClassifier(n_estimators=50, random_state=528)</pre><b>In a Jupyter environment, please rerun this cell to show the HTML representation or trust the notebook. <br />On GitHub, the HTML representation is unable to render, please try loading this page with nbviewer.org.</b></div><div class=\"sk-container\" hidden><div class=\"sk-item\"><div class=\"sk-estimator sk-toggleable\"><input class=\"sk-toggleable__control sk-hidden--visually\" id=\"sk-estimator-id-1\" type=\"checkbox\" checked><label for=\"sk-estimator-id-1\" class=\"sk-toggleable__label sk-toggleable__label-arrow\">RandomForestClassifier</label><div class=\"sk-toggleable__content\"><pre>RandomForestClassifier(n_estimators=50, random_state=528)</pre></div></div></div></div></div>"
      ],
      "text/plain": [
       "RandomForestClassifier(n_estimators=50, random_state=528)"
      ]
     },
     "execution_count": 36,
     "metadata": {},
     "output_type": "execute_result"
    }
   ],
   "source": [
    "rf_classifier.fit(X_train, y_train)"
   ]
  },
  {
   "cell_type": "code",
   "execution_count": 37,
   "id": "81ecff09",
   "metadata": {
    "ExecuteTime": {
     "end_time": "2023-12-09T08:48:53.473750Z",
     "start_time": "2023-12-09T08:48:48.990209Z"
    }
   },
   "outputs": [],
   "source": [
    "y_pred = rf_classifier.predict(X_test)"
   ]
  },
  {
   "cell_type": "code",
   "execution_count": 38,
   "id": "07a7e0d7",
   "metadata": {
    "ExecuteTime": {
     "end_time": "2023-12-09T08:48:53.504674Z",
     "start_time": "2023-12-09T08:48:53.476742Z"
    }
   },
   "outputs": [
    {
     "data": {
      "text/plain": [
       "0.4309582014787708"
      ]
     },
     "execution_count": 38,
     "metadata": {},
     "output_type": "execute_result"
    }
   ],
   "source": [
    "accuracy_score(y_test, y_pred)"
   ]
  },
  {
   "cell_type": "code",
   "execution_count": 39,
   "id": "e3d801e4",
   "metadata": {
    "ExecuteTime": {
     "end_time": "2023-12-09T08:48:53.613847Z",
     "start_time": "2023-12-09T08:48:53.511637Z"
    }
   },
   "outputs": [],
   "source": [
    "feat_labels = x_data.columns\n",
    "importances = rf_classifier.feature_importances_\n",
    "indices = np.argsort(importances)[::-1]"
   ]
  },
  {
   "cell_type": "code",
   "execution_count": 40,
   "id": "c8fba649",
   "metadata": {
    "ExecuteTime": {
     "end_time": "2023-12-09T08:48:54.126778Z",
     "start_time": "2023-12-09T08:48:53.616844Z"
    }
   },
   "outputs": [
    {
     "data": {
      "image/png": "[encoded data removed]",
      "text/plain": [
       "<Figure size 640x480 with 1 Axes>"
      ]
     },
     "metadata": {},
     "output_type": "display_data"
    }
   ],
   "source": [
    "# fig1 = plt.figure(figsize=(20,8))\n",
    "plt.rcParams['font.family'] = ['sans-serif']\n",
    "plt.rcParams['font.sans-serif'] = ['SimHei']  #设置字体\n",
    "plt.style.use('fivethirtyeight')  # 画布的风格\n",
    "plt.title('Feature Importance')\n",
    "plt.bar(range(X_train.shape[1]),importances[indices],\n",
    "        align='center')\n",
    "plt.xticks(range(X_train.shape[1]),\n",
    "           feat_labels[indices], rotation=90)\n",
    "plt.xlim([-1, X_train.shape[1]])\n",
    "plt.tight_layout()\n",
    "#plt.savefig('images/04_09.png', dpi=300)\n",
    "plt.show()"
   ]
  },
  {
   "cell_type": "code",
   "execution_count": null,
   "id": "71a22b96",
   "metadata": {},
   "outputs": [],
   "source": []
  }
 ],
 "metadata": {
  "kernelspec": {
   "display_name": "Python 3 (ipykernel)",
   "language": "python",
   "name": "python3"
  },
  "language_info": {
   "codemirror_mode": {
    "name": "ipython",
    "version": 3
   },
   "file_extension": ".py",
   "mimetype": "text/x-python",
   "name": "python",
   "nbconvert_exporter": "python",
   "pygments_lexer": "ipython3",
   "version": "3.8.10"
  }
 },
 "nbformat": 4,
 "nbformat_minor": 5
}
